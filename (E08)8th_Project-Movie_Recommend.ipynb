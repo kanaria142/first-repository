{
 "cells": [
  {
   "cell_type": "markdown",
   "id": "herbal-regression",
   "metadata": {},
   "source": [
    "# (E08)8th_Project-Movie_Recommend\n",
    "********************************************************************************"
   ]
  },
  {
   "cell_type": "markdown",
   "id": "collaborative-swiss",
   "metadata": {},
   "source": [
    "# 1. 데이터 전처리\n",
    "\n",
    "      유저ID, 영화ID, 평가, 타임스탬프가 기록된 데이터셋을 불러옵니다.\n",
    "      그 후에 사용하는 앞의 세가지의 컬럼만 남기고, 평가 3점 이상의 평가만 남겨줍니다."
   ]
  },
  {
   "cell_type": "code",
   "execution_count": 1,
   "id": "rolled-passport",
   "metadata": {},
   "outputs": [
    {
     "data": {
      "text/html": [
       "<div>\n",
       "<style scoped>\n",
       "    .dataframe tbody tr th:only-of-type {\n",
       "        vertical-align: middle;\n",
       "    }\n",
       "\n",
       "    .dataframe tbody tr th {\n",
       "        vertical-align: top;\n",
       "    }\n",
       "\n",
       "    .dataframe thead th {\n",
       "        text-align: right;\n",
       "    }\n",
       "</style>\n",
       "<table border=\"1\" class=\"dataframe\">\n",
       "  <thead>\n",
       "    <tr style=\"text-align: right;\">\n",
       "      <th></th>\n",
       "      <th>user_id</th>\n",
       "      <th>movie_id</th>\n",
       "      <th>rating</th>\n",
       "      <th>timestamp</th>\n",
       "    </tr>\n",
       "  </thead>\n",
       "  <tbody>\n",
       "    <tr>\n",
       "      <th>0</th>\n",
       "      <td>1</td>\n",
       "      <td>1193</td>\n",
       "      <td>5</td>\n",
       "      <td>978300760</td>\n",
       "    </tr>\n",
       "    <tr>\n",
       "      <th>1</th>\n",
       "      <td>1</td>\n",
       "      <td>661</td>\n",
       "      <td>3</td>\n",
       "      <td>978302109</td>\n",
       "    </tr>\n",
       "    <tr>\n",
       "      <th>2</th>\n",
       "      <td>1</td>\n",
       "      <td>914</td>\n",
       "      <td>3</td>\n",
       "      <td>978301968</td>\n",
       "    </tr>\n",
       "    <tr>\n",
       "      <th>3</th>\n",
       "      <td>1</td>\n",
       "      <td>3408</td>\n",
       "      <td>4</td>\n",
       "      <td>978300275</td>\n",
       "    </tr>\n",
       "    <tr>\n",
       "      <th>4</th>\n",
       "      <td>1</td>\n",
       "      <td>2355</td>\n",
       "      <td>5</td>\n",
       "      <td>978824291</td>\n",
       "    </tr>\n",
       "  </tbody>\n",
       "</table>\n",
       "</div>"
      ],
      "text/plain": [
       "   user_id  movie_id  rating  timestamp\n",
       "0        1      1193       5  978300760\n",
       "1        1       661       3  978302109\n",
       "2        1       914       3  978301968\n",
       "3        1      3408       4  978300275\n",
       "4        1      2355       5  978824291"
      ]
     },
     "execution_count": 1,
     "metadata": {},
     "output_type": "execute_result"
    }
   ],
   "source": [
    "import os\n",
    "import pandas as pd\n",
    "\n",
    "rating_file_path=os.getenv('HOME') + '/aiffel/recommendata_iu/data/ml-1m/ratings.dat'\n",
    "ratings_cols = ['user_id', 'movie_id', 'rating', 'timestamp']\n",
    "ratings = pd.read_csv(rating_file_path, sep='::', names=ratings_cols, engine='python')\n",
    "orginal_data_size = len(ratings)\n",
    "ratings.head()"
   ]
  },
  {
   "cell_type": "code",
   "execution_count": 2,
   "id": "driving-detail",
   "metadata": {},
   "outputs": [
    {
     "data": {
      "text/html": [
       "<div>\n",
       "<style scoped>\n",
       "    .dataframe tbody tr th:only-of-type {\n",
       "        vertical-align: middle;\n",
       "    }\n",
       "\n",
       "    .dataframe tbody tr th {\n",
       "        vertical-align: top;\n",
       "    }\n",
       "\n",
       "    .dataframe thead th {\n",
       "        text-align: right;\n",
       "    }\n",
       "</style>\n",
       "<table border=\"1\" class=\"dataframe\">\n",
       "  <thead>\n",
       "    <tr style=\"text-align: right;\">\n",
       "      <th></th>\n",
       "      <th>user_id</th>\n",
       "      <th>movie_id</th>\n",
       "      <th>rating</th>\n",
       "    </tr>\n",
       "  </thead>\n",
       "  <tbody>\n",
       "    <tr>\n",
       "      <th>0</th>\n",
       "      <td>1</td>\n",
       "      <td>1193</td>\n",
       "      <td>5</td>\n",
       "    </tr>\n",
       "    <tr>\n",
       "      <th>1</th>\n",
       "      <td>1</td>\n",
       "      <td>661</td>\n",
       "      <td>3</td>\n",
       "    </tr>\n",
       "    <tr>\n",
       "      <th>2</th>\n",
       "      <td>1</td>\n",
       "      <td>914</td>\n",
       "      <td>3</td>\n",
       "    </tr>\n",
       "    <tr>\n",
       "      <th>3</th>\n",
       "      <td>1</td>\n",
       "      <td>3408</td>\n",
       "      <td>4</td>\n",
       "    </tr>\n",
       "    <tr>\n",
       "      <th>4</th>\n",
       "      <td>1</td>\n",
       "      <td>2355</td>\n",
       "      <td>5</td>\n",
       "    </tr>\n",
       "    <tr>\n",
       "      <th>5</th>\n",
       "      <td>1</td>\n",
       "      <td>1197</td>\n",
       "      <td>3</td>\n",
       "    </tr>\n",
       "    <tr>\n",
       "      <th>6</th>\n",
       "      <td>1</td>\n",
       "      <td>1287</td>\n",
       "      <td>5</td>\n",
       "    </tr>\n",
       "    <tr>\n",
       "      <th>7</th>\n",
       "      <td>1</td>\n",
       "      <td>2804</td>\n",
       "      <td>5</td>\n",
       "    </tr>\n",
       "    <tr>\n",
       "      <th>8</th>\n",
       "      <td>1</td>\n",
       "      <td>594</td>\n",
       "      <td>4</td>\n",
       "    </tr>\n",
       "    <tr>\n",
       "      <th>9</th>\n",
       "      <td>1</td>\n",
       "      <td>919</td>\n",
       "      <td>4</td>\n",
       "    </tr>\n",
       "  </tbody>\n",
       "</table>\n",
       "</div>"
      ],
      "text/plain": [
       "   user_id  movie_id  rating\n",
       "0        1      1193       5\n",
       "1        1       661       3\n",
       "2        1       914       3\n",
       "3        1      3408       4\n",
       "4        1      2355       5\n",
       "5        1      1197       3\n",
       "6        1      1287       5\n",
       "7        1      2804       5\n",
       "8        1       594       4\n",
       "9        1       919       4"
      ]
     },
     "execution_count": 2,
     "metadata": {},
     "output_type": "execute_result"
    }
   ],
   "source": [
    "# 사용하는 컬럼만 남겨줍니다.\n",
    "using_cols = ['user_id', 'movie_id', 'rating']\n",
    "ratings = ratings[using_cols]\n",
    "ratings.head(10)"
   ]
  },
  {
   "cell_type": "code",
   "execution_count": 3,
   "id": "arctic-polls",
   "metadata": {},
   "outputs": [
    {
     "name": "stdout",
     "output_type": "stream",
     "text": [
      "orginal_data_size: 1000209, filtered_data_size: 836478\n",
      "Ratio of Remaining Data is 83.63%\n"
     ]
    }
   ],
   "source": [
    "# 3점 이상만 남깁니다.\n",
    "ratings = ratings[ratings['rating']>=3]\n",
    "filtered_data_size = len(ratings)\n",
    "\n",
    "print(f'orginal_data_size: {orginal_data_size}, filtered_data_size: {filtered_data_size}')\n",
    "print(f'Ratio of Remaining Data is {filtered_data_size / orginal_data_size:.2%}')"
   ]
  },
  {
   "cell_type": "code",
   "execution_count": 4,
   "id": "theoretical-central",
   "metadata": {},
   "outputs": [],
   "source": [
    "# rating 컬럼의 이름을 count로 바꿉니다.\n",
    "ratings.rename(columns={'rating':'count'}, inplace=True)"
   ]
  },
  {
   "cell_type": "code",
   "execution_count": 5,
   "id": "green-paraguay",
   "metadata": {},
   "outputs": [
    {
     "data": {
      "text/plain": [
       "0          5\n",
       "1          3\n",
       "2          3\n",
       "3          4\n",
       "4          5\n",
       "          ..\n",
       "1000203    3\n",
       "1000205    5\n",
       "1000206    5\n",
       "1000207    4\n",
       "1000208    4\n",
       "Name: count, Length: 836478, dtype: int64"
      ]
     },
     "execution_count": 5,
     "metadata": {},
     "output_type": "execute_result"
    }
   ],
   "source": [
    "ratings['count']"
   ]
  },
  {
   "cell_type": "markdown",
   "id": "indoor-seminar",
   "metadata": {},
   "source": [
    "      영화 제목을 불러오고 영화ID의 제목을 확인해줍니다. Index의 0이 영화ID의 1번입니다. 해당 파일을 불러올 때, 인코딩 에러가 발생하니 적당한 인코딩을 추가해줍니다. 다른 인코딩을 해줘도 정상 작동되는 것을 확인했습니다."
   ]
  },
  {
   "cell_type": "code",
   "execution_count": 6,
   "id": "fixed-platinum",
   "metadata": {},
   "outputs": [
    {
     "data": {
      "text/html": [
       "<div>\n",
       "<style scoped>\n",
       "    .dataframe tbody tr th:only-of-type {\n",
       "        vertical-align: middle;\n",
       "    }\n",
       "\n",
       "    .dataframe tbody tr th {\n",
       "        vertical-align: top;\n",
       "    }\n",
       "\n",
       "    .dataframe thead th {\n",
       "        text-align: right;\n",
       "    }\n",
       "</style>\n",
       "<table border=\"1\" class=\"dataframe\">\n",
       "  <thead>\n",
       "    <tr style=\"text-align: right;\">\n",
       "      <th></th>\n",
       "      <th>movie_id</th>\n",
       "      <th>title</th>\n",
       "      <th>genre</th>\n",
       "    </tr>\n",
       "  </thead>\n",
       "  <tbody>\n",
       "    <tr>\n",
       "      <th>0</th>\n",
       "      <td>1</td>\n",
       "      <td>Toy Story (1995)</td>\n",
       "      <td>Animation|Children's|Comedy</td>\n",
       "    </tr>\n",
       "    <tr>\n",
       "      <th>1</th>\n",
       "      <td>2</td>\n",
       "      <td>Jumanji (1995)</td>\n",
       "      <td>Adventure|Children's|Fantasy</td>\n",
       "    </tr>\n",
       "    <tr>\n",
       "      <th>2</th>\n",
       "      <td>3</td>\n",
       "      <td>Grumpier Old Men (1995)</td>\n",
       "      <td>Comedy|Romance</td>\n",
       "    </tr>\n",
       "    <tr>\n",
       "      <th>3</th>\n",
       "      <td>4</td>\n",
       "      <td>Waiting to Exhale (1995)</td>\n",
       "      <td>Comedy|Drama</td>\n",
       "    </tr>\n",
       "    <tr>\n",
       "      <th>4</th>\n",
       "      <td>5</td>\n",
       "      <td>Father of the Bride Part II (1995)</td>\n",
       "      <td>Comedy</td>\n",
       "    </tr>\n",
       "  </tbody>\n",
       "</table>\n",
       "</div>"
      ],
      "text/plain": [
       "   movie_id                               title                         genre\n",
       "0         1                    Toy Story (1995)   Animation|Children's|Comedy\n",
       "1         2                      Jumanji (1995)  Adventure|Children's|Fantasy\n",
       "2         3             Grumpier Old Men (1995)                Comedy|Romance\n",
       "3         4            Waiting to Exhale (1995)                  Comedy|Drama\n",
       "4         5  Father of the Bride Part II (1995)                        Comedy"
      ]
     },
     "execution_count": 6,
     "metadata": {},
     "output_type": "execute_result"
    }
   ],
   "source": [
    "# 영화 제목을 보기 위해 메타 데이터를 읽어옵니다.\n",
    "movie_file_path=os.getenv('HOME') + '/aiffel/recommendata_iu/data/ml-1m/movies.dat'\n",
    "cols = ['movie_id', 'title', 'genre'] \n",
    "movies = pd.read_csv(movie_file_path, encoding = 'ISO-8859-1', sep='::', names=cols, engine='python')\n",
    "movies.head()"
   ]
  },
  {
   "cell_type": "markdown",
   "id": "changing-logging",
   "metadata": {},
   "source": [
    "# 2. 데이터 확인하기\n",
    "\n",
    "      전처리를 완료한 ratings에 남아있는 유니크한 유저ID의 수와 영화ID의 수를 확인해줍니다."
   ]
  },
  {
   "cell_type": "code",
   "execution_count": 7,
   "id": "transparent-mississippi",
   "metadata": {},
   "outputs": [
    {
     "data": {
      "text/plain": [
       "6039"
      ]
     },
     "execution_count": 7,
     "metadata": {},
     "output_type": "execute_result"
    }
   ],
   "source": [
    "# 유저 수\n",
    "ratings['user_id'].nunique()"
   ]
  },
  {
   "cell_type": "code",
   "execution_count": 8,
   "id": "tight-wrestling",
   "metadata": {},
   "outputs": [
    {
     "data": {
      "text/plain": [
       "3628"
      ]
     },
     "execution_count": 8,
     "metadata": {},
     "output_type": "execute_result"
    }
   ],
   "source": [
    "# 영화 수\n",
    "ratings['movie_id'].nunique()"
   ]
  },
  {
   "cell_type": "markdown",
   "id": "european-brisbane",
   "metadata": {},
   "source": [
    "      인기 많은 영화를 30개 확인해봅니다. 영화ID로 나와서 제목을 확인하기 힘듭니다."
   ]
  },
  {
   "cell_type": "code",
   "execution_count": 9,
   "id": "sought-blend",
   "metadata": {},
   "outputs": [
    {
     "data": {
      "text/plain": [
       "movie_id\n",
       "2858    3211\n",
       "260     2910\n",
       "1196    2885\n",
       "1210    2716\n",
       "2028    2561\n",
       "589     2509\n",
       "593     2498\n",
       "1198    2473\n",
       "1270    2460\n",
       "2571    2434\n",
       "480     2413\n",
       "2762    2385\n",
       "608     2371\n",
       "110     2314\n",
       "1580    2297\n",
       "527     2257\n",
       "1197    2252\n",
       "2396    2213\n",
       "1617    2210\n",
       "318     2194\n",
       "858     2167\n",
       "1265    2121\n",
       "1097    2102\n",
       "2997    2066\n",
       "2716    2051\n",
       "296     2030\n",
       "356     2022\n",
       "1240    2019\n",
       "1       2000\n",
       "457     1941\n",
       "Name: user_id, dtype: int64"
      ]
     },
     "execution_count": 9,
     "metadata": {},
     "output_type": "execute_result"
    }
   ],
   "source": [
    "# 인기 많은 영화\n",
    "ratings_count = ratings.groupby('movie_id')['user_id'].count()\n",
    "ratings_count = ratings_count.sort_values(ascending=False).head(30)\n",
    "\n",
    "ratings_count"
   ]
  },
  {
   "cell_type": "markdown",
   "id": "virtual-pilot",
   "metadata": {},
   "source": [
    "# 3. 선호하는 영화 5가지 RATING에 추가하기\n",
    "\n",
    "      좋아하는 영화 5가지를 선택해줍니다. 저는 결과를 쉽게 확인해주기 위해서 SF계열의 실제로 본 영화를 추가해줬습니다. 그리고 전부 명작입니다. 당연히 5점을 줍니다."
   ]
  },
  {
   "cell_type": "code",
   "execution_count": 10,
   "id": "amazing-pittsburgh",
   "metadata": {},
   "outputs": [
    {
     "data": {
      "text/html": [
       "<div>\n",
       "<style scoped>\n",
       "    .dataframe tbody tr th:only-of-type {\n",
       "        vertical-align: middle;\n",
       "    }\n",
       "\n",
       "    .dataframe tbody tr th {\n",
       "        vertical-align: top;\n",
       "    }\n",
       "\n",
       "    .dataframe thead th {\n",
       "        text-align: right;\n",
       "    }\n",
       "</style>\n",
       "<table border=\"1\" class=\"dataframe\">\n",
       "  <thead>\n",
       "    <tr style=\"text-align: right;\">\n",
       "      <th></th>\n",
       "      <th>user_id</th>\n",
       "      <th>movie_id</th>\n",
       "      <th>count</th>\n",
       "    </tr>\n",
       "  </thead>\n",
       "  <tbody>\n",
       "    <tr>\n",
       "      <th>1000203</th>\n",
       "      <td>6040</td>\n",
       "      <td>1090</td>\n",
       "      <td>3</td>\n",
       "    </tr>\n",
       "    <tr>\n",
       "      <th>1000205</th>\n",
       "      <td>6040</td>\n",
       "      <td>1094</td>\n",
       "      <td>5</td>\n",
       "    </tr>\n",
       "    <tr>\n",
       "      <th>1000206</th>\n",
       "      <td>6040</td>\n",
       "      <td>562</td>\n",
       "      <td>5</td>\n",
       "    </tr>\n",
       "    <tr>\n",
       "      <th>1000207</th>\n",
       "      <td>6040</td>\n",
       "      <td>1096</td>\n",
       "      <td>4</td>\n",
       "    </tr>\n",
       "    <tr>\n",
       "      <th>1000208</th>\n",
       "      <td>6040</td>\n",
       "      <td>1097</td>\n",
       "      <td>4</td>\n",
       "    </tr>\n",
       "    <tr>\n",
       "      <th>0</th>\n",
       "      <td>mine</td>\n",
       "      <td>316</td>\n",
       "      <td>5</td>\n",
       "    </tr>\n",
       "    <tr>\n",
       "      <th>1</th>\n",
       "      <td>mine</td>\n",
       "      <td>260</td>\n",
       "      <td>5</td>\n",
       "    </tr>\n",
       "    <tr>\n",
       "      <th>2</th>\n",
       "      <td>mine</td>\n",
       "      <td>1196</td>\n",
       "      <td>5</td>\n",
       "    </tr>\n",
       "    <tr>\n",
       "      <th>3</th>\n",
       "      <td>mine</td>\n",
       "      <td>1210</td>\n",
       "      <td>5</td>\n",
       "    </tr>\n",
       "    <tr>\n",
       "      <th>4</th>\n",
       "      <td>mine</td>\n",
       "      <td>1374</td>\n",
       "      <td>5</td>\n",
       "    </tr>\n",
       "  </tbody>\n",
       "</table>\n",
       "</div>"
      ],
      "text/plain": [
       "        user_id  movie_id  count\n",
       "1000203    6040      1090      3\n",
       "1000205    6040      1094      5\n",
       "1000206    6040       562      5\n",
       "1000207    6040      1096      4\n",
       "1000208    6040      1097      4\n",
       "0          mine       316      5\n",
       "1          mine       260      5\n",
       "2          mine      1196      5\n",
       "3          mine      1210      5\n",
       "4          mine      1374      5"
      ]
     },
     "execution_count": 10,
     "metadata": {},
     "output_type": "execute_result"
    }
   ],
   "source": [
    "# 본인이 좋아하시는 영화 데이터로 바꿔서 추가하셔도 됩니다! 단, 이름은 꼭 데이터셋에 있는 것과 동일하게 맞춰주세요. \n",
    "my_favorite = [316, 260, 1196, 1210, 1374]\n",
    "# 316 = Stargate (1994)\n",
    "# 260 = Star Wars: Episode IV - A New Hope (1977)\n",
    "# 1196 = Star Wars: Episode V - The Empire Strikes Back (1980)\n",
    "# 1210 = Star Wars: Episode VI - Return of the Jedi (1983)\n",
    "# 1374 = Star Trek: The Wrath of Khan (1982)\n",
    "\n",
    "# 'mine'이라는 user_id가 위 영화의 평가를 5로 다 주었다고 가정하겠습니다.\n",
    "my_ratings = pd.DataFrame({'user_id': ['mine']*5, 'movie_id': my_favorite, 'count':[5]*5})\n",
    "\n",
    "if not ratings.isin({'user_id':['mine']})['user_id'].any():  # user_id에 'mine'이라는 데이터가 없다면\n",
    "    ratings = ratings.append(my_ratings)                           # 위에 임의로 만든 my_favorite 데이터를 추가해 줍니다. \n",
    "\n",
    "ratings.tail(10)       # 잘 추가되었는지 확인해 봅시다."
   ]
  },
  {
   "cell_type": "markdown",
   "id": "technological-grain",
   "metadata": {},
   "source": [
    "      새로 추가된 'mine'을 숫자형으로 바꿔줍니다. ratings를 불러와 잘 바뀌었는지 확인해줍니다. 6040명의 유저 중 마지막으로 추가된 유저이니 6039이 나와야 합니다."
   ]
  },
  {
   "cell_type": "code",
   "execution_count": 11,
   "id": "laden-financing",
   "metadata": {},
   "outputs": [
    {
     "name": "stdout",
     "output_type": "stream",
     "text": [
      "6039\n"
     ]
    },
    {
     "data": {
      "text/html": [
       "<div>\n",
       "<style scoped>\n",
       "    .dataframe tbody tr th:only-of-type {\n",
       "        vertical-align: middle;\n",
       "    }\n",
       "\n",
       "    .dataframe tbody tr th {\n",
       "        vertical-align: top;\n",
       "    }\n",
       "\n",
       "    .dataframe thead th {\n",
       "        text-align: right;\n",
       "    }\n",
       "</style>\n",
       "<table border=\"1\" class=\"dataframe\">\n",
       "  <thead>\n",
       "    <tr style=\"text-align: right;\">\n",
       "      <th></th>\n",
       "      <th>user_id</th>\n",
       "      <th>movie_id</th>\n",
       "      <th>count</th>\n",
       "    </tr>\n",
       "  </thead>\n",
       "  <tbody>\n",
       "    <tr>\n",
       "      <th>1000203</th>\n",
       "      <td>6038</td>\n",
       "      <td>1090</td>\n",
       "      <td>3</td>\n",
       "    </tr>\n",
       "    <tr>\n",
       "      <th>1000205</th>\n",
       "      <td>6038</td>\n",
       "      <td>1094</td>\n",
       "      <td>5</td>\n",
       "    </tr>\n",
       "    <tr>\n",
       "      <th>1000206</th>\n",
       "      <td>6038</td>\n",
       "      <td>562</td>\n",
       "      <td>5</td>\n",
       "    </tr>\n",
       "    <tr>\n",
       "      <th>1000207</th>\n",
       "      <td>6038</td>\n",
       "      <td>1096</td>\n",
       "      <td>4</td>\n",
       "    </tr>\n",
       "    <tr>\n",
       "      <th>1000208</th>\n",
       "      <td>6038</td>\n",
       "      <td>1097</td>\n",
       "      <td>4</td>\n",
       "    </tr>\n",
       "    <tr>\n",
       "      <th>0</th>\n",
       "      <td>6039</td>\n",
       "      <td>316</td>\n",
       "      <td>5</td>\n",
       "    </tr>\n",
       "    <tr>\n",
       "      <th>1</th>\n",
       "      <td>6039</td>\n",
       "      <td>260</td>\n",
       "      <td>5</td>\n",
       "    </tr>\n",
       "    <tr>\n",
       "      <th>2</th>\n",
       "      <td>6039</td>\n",
       "      <td>1196</td>\n",
       "      <td>5</td>\n",
       "    </tr>\n",
       "    <tr>\n",
       "      <th>3</th>\n",
       "      <td>6039</td>\n",
       "      <td>1210</td>\n",
       "      <td>5</td>\n",
       "    </tr>\n",
       "    <tr>\n",
       "      <th>4</th>\n",
       "      <td>6039</td>\n",
       "      <td>1374</td>\n",
       "      <td>5</td>\n",
       "    </tr>\n",
       "  </tbody>\n",
       "</table>\n",
       "</div>"
      ],
      "text/plain": [
       "         user_id  movie_id  count\n",
       "1000203     6038      1090      3\n",
       "1000205     6038      1094      5\n",
       "1000206     6038       562      5\n",
       "1000207     6038      1096      4\n",
       "1000208     6038      1097      4\n",
       "0           6039       316      5\n",
       "1           6039       260      5\n",
       "2           6039      1196      5\n",
       "3           6039      1210      5\n",
       "4           6039      1374      5"
      ]
     },
     "execution_count": 11,
     "metadata": {},
     "output_type": "execute_result"
    }
   ],
   "source": [
    "# 고유한 유저, 아티스트를 찾아내는 코드\n",
    "user_unique = ratings['user_id'].unique()\n",
    "\n",
    "# 유저, 아티스트 indexing 하는 코드 idx는 index의 약자입니다.\n",
    "user_to_idx = {v:k for k,v in enumerate(user_unique)}\n",
    "\n",
    "ratings['user_id'] =  ratings['user_id'].map(user_to_idx.get).dropna()\n",
    "\n",
    "# 인덱싱이 잘 되었는지 확인해 봅니다. \n",
    "print(user_to_idx['mine'])    # 6040명의 유저 중 마지막으로 추가된 유저이니 6039이 나와야 합니다. \n",
    "\n",
    "ratings.tail(10) "
   ]
  },
  {
   "cell_type": "markdown",
   "id": "interior-morrison",
   "metadata": {},
   "source": [
    "      인덱스도 새로 정렬해줍니다. 비어있는 값을 제거하고 압축합니다."
   ]
  },
  {
   "cell_type": "code",
   "execution_count": 12,
   "id": "national-trance",
   "metadata": {},
   "outputs": [
    {
     "data": {
      "text/html": [
       "<div>\n",
       "<style scoped>\n",
       "    .dataframe tbody tr th:only-of-type {\n",
       "        vertical-align: middle;\n",
       "    }\n",
       "\n",
       "    .dataframe tbody tr th {\n",
       "        vertical-align: top;\n",
       "    }\n",
       "\n",
       "    .dataframe thead th {\n",
       "        text-align: right;\n",
       "    }\n",
       "</style>\n",
       "<table border=\"1\" class=\"dataframe\">\n",
       "  <thead>\n",
       "    <tr style=\"text-align: right;\">\n",
       "      <th></th>\n",
       "      <th>user_id</th>\n",
       "      <th>movie_id</th>\n",
       "      <th>count</th>\n",
       "    </tr>\n",
       "  </thead>\n",
       "  <tbody>\n",
       "    <tr>\n",
       "      <th>0</th>\n",
       "      <td>0</td>\n",
       "      <td>1193</td>\n",
       "      <td>5</td>\n",
       "    </tr>\n",
       "    <tr>\n",
       "      <th>1</th>\n",
       "      <td>0</td>\n",
       "      <td>661</td>\n",
       "      <td>3</td>\n",
       "    </tr>\n",
       "    <tr>\n",
       "      <th>2</th>\n",
       "      <td>0</td>\n",
       "      <td>914</td>\n",
       "      <td>3</td>\n",
       "    </tr>\n",
       "    <tr>\n",
       "      <th>3</th>\n",
       "      <td>0</td>\n",
       "      <td>3408</td>\n",
       "      <td>4</td>\n",
       "    </tr>\n",
       "    <tr>\n",
       "      <th>4</th>\n",
       "      <td>0</td>\n",
       "      <td>2355</td>\n",
       "      <td>5</td>\n",
       "    </tr>\n",
       "    <tr>\n",
       "      <th>...</th>\n",
       "      <td>...</td>\n",
       "      <td>...</td>\n",
       "      <td>...</td>\n",
       "    </tr>\n",
       "    <tr>\n",
       "      <th>836478</th>\n",
       "      <td>6039</td>\n",
       "      <td>316</td>\n",
       "      <td>5</td>\n",
       "    </tr>\n",
       "    <tr>\n",
       "      <th>836479</th>\n",
       "      <td>6039</td>\n",
       "      <td>260</td>\n",
       "      <td>5</td>\n",
       "    </tr>\n",
       "    <tr>\n",
       "      <th>836480</th>\n",
       "      <td>6039</td>\n",
       "      <td>1196</td>\n",
       "      <td>5</td>\n",
       "    </tr>\n",
       "    <tr>\n",
       "      <th>836481</th>\n",
       "      <td>6039</td>\n",
       "      <td>1210</td>\n",
       "      <td>5</td>\n",
       "    </tr>\n",
       "    <tr>\n",
       "      <th>836482</th>\n",
       "      <td>6039</td>\n",
       "      <td>1374</td>\n",
       "      <td>5</td>\n",
       "    </tr>\n",
       "  </tbody>\n",
       "</table>\n",
       "<p>836483 rows × 3 columns</p>\n",
       "</div>"
      ],
      "text/plain": [
       "        user_id  movie_id  count\n",
       "0             0      1193      5\n",
       "1             0       661      3\n",
       "2             0       914      3\n",
       "3             0      3408      4\n",
       "4             0      2355      5\n",
       "...         ...       ...    ...\n",
       "836478     6039       316      5\n",
       "836479     6039       260      5\n",
       "836480     6039      1196      5\n",
       "836481     6039      1210      5\n",
       "836482     6039      1374      5\n",
       "\n",
       "[836483 rows x 3 columns]"
      ]
     },
     "execution_count": 12,
     "metadata": {},
     "output_type": "execute_result"
    }
   ],
   "source": [
    "ratings.reset_index(drop=True, inplace=True)\n",
    "\n",
    "ratings"
   ]
  },
  {
   "cell_type": "markdown",
   "id": "logical-turtle",
   "metadata": {},
   "source": [
    "      해당 프로젝트를 진행하던 도중 영화ID를 IDX로, 제목을 영화ID로 변경하는데 불편함을 느껴서 영화ID를 기준으로 ratings와 movies를 merge를 이용해 두 데이터를 합쳐줬습니다."
   ]
  },
  {
   "cell_type": "code",
   "execution_count": 13,
   "id": "behavioral-swimming",
   "metadata": {},
   "outputs": [
    {
     "data": {
      "text/html": [
       "<div>\n",
       "<style scoped>\n",
       "    .dataframe tbody tr th:only-of-type {\n",
       "        vertical-align: middle;\n",
       "    }\n",
       "\n",
       "    .dataframe tbody tr th {\n",
       "        vertical-align: top;\n",
       "    }\n",
       "\n",
       "    .dataframe thead th {\n",
       "        text-align: right;\n",
       "    }\n",
       "</style>\n",
       "<table border=\"1\" class=\"dataframe\">\n",
       "  <thead>\n",
       "    <tr style=\"text-align: right;\">\n",
       "      <th></th>\n",
       "      <th>user_id</th>\n",
       "      <th>movie_id</th>\n",
       "      <th>count</th>\n",
       "      <th>title</th>\n",
       "      <th>genre</th>\n",
       "    </tr>\n",
       "  </thead>\n",
       "  <tbody>\n",
       "    <tr>\n",
       "      <th>0</th>\n",
       "      <td>0</td>\n",
       "      <td>1193</td>\n",
       "      <td>5</td>\n",
       "      <td>One Flew Over the Cuckoo's Nest (1975)</td>\n",
       "      <td>Drama</td>\n",
       "    </tr>\n",
       "    <tr>\n",
       "      <th>1</th>\n",
       "      <td>0</td>\n",
       "      <td>661</td>\n",
       "      <td>3</td>\n",
       "      <td>James and the Giant Peach (1996)</td>\n",
       "      <td>Animation|Children's|Musical</td>\n",
       "    </tr>\n",
       "    <tr>\n",
       "      <th>2</th>\n",
       "      <td>0</td>\n",
       "      <td>914</td>\n",
       "      <td>3</td>\n",
       "      <td>My Fair Lady (1964)</td>\n",
       "      <td>Musical|Romance</td>\n",
       "    </tr>\n",
       "    <tr>\n",
       "      <th>3</th>\n",
       "      <td>0</td>\n",
       "      <td>3408</td>\n",
       "      <td>4</td>\n",
       "      <td>Erin Brockovich (2000)</td>\n",
       "      <td>Drama</td>\n",
       "    </tr>\n",
       "    <tr>\n",
       "      <th>4</th>\n",
       "      <td>0</td>\n",
       "      <td>2355</td>\n",
       "      <td>5</td>\n",
       "      <td>Bug's Life, A (1998)</td>\n",
       "      <td>Animation|Children's|Comedy</td>\n",
       "    </tr>\n",
       "    <tr>\n",
       "      <th>...</th>\n",
       "      <td>...</td>\n",
       "      <td>...</td>\n",
       "      <td>...</td>\n",
       "      <td>...</td>\n",
       "      <td>...</td>\n",
       "    </tr>\n",
       "    <tr>\n",
       "      <th>836478</th>\n",
       "      <td>6039</td>\n",
       "      <td>316</td>\n",
       "      <td>5</td>\n",
       "      <td>Stargate (1994)</td>\n",
       "      <td>Action|Adventure|Sci-Fi</td>\n",
       "    </tr>\n",
       "    <tr>\n",
       "      <th>836479</th>\n",
       "      <td>6039</td>\n",
       "      <td>260</td>\n",
       "      <td>5</td>\n",
       "      <td>Star Wars: Episode IV - A New Hope (1977)</td>\n",
       "      <td>Action|Adventure|Fantasy|Sci-Fi</td>\n",
       "    </tr>\n",
       "    <tr>\n",
       "      <th>836480</th>\n",
       "      <td>6039</td>\n",
       "      <td>1196</td>\n",
       "      <td>5</td>\n",
       "      <td>Star Wars: Episode V - The Empire Strikes Back...</td>\n",
       "      <td>Action|Adventure|Drama|Sci-Fi|War</td>\n",
       "    </tr>\n",
       "    <tr>\n",
       "      <th>836481</th>\n",
       "      <td>6039</td>\n",
       "      <td>1210</td>\n",
       "      <td>5</td>\n",
       "      <td>Star Wars: Episode VI - Return of the Jedi (1983)</td>\n",
       "      <td>Action|Adventure|Romance|Sci-Fi|War</td>\n",
       "    </tr>\n",
       "    <tr>\n",
       "      <th>836482</th>\n",
       "      <td>6039</td>\n",
       "      <td>1374</td>\n",
       "      <td>5</td>\n",
       "      <td>Star Trek: The Wrath of Khan (1982)</td>\n",
       "      <td>Action|Adventure|Sci-Fi</td>\n",
       "    </tr>\n",
       "  </tbody>\n",
       "</table>\n",
       "<p>836483 rows × 5 columns</p>\n",
       "</div>"
      ],
      "text/plain": [
       "        user_id  movie_id  count  \\\n",
       "0             0      1193      5   \n",
       "1             0       661      3   \n",
       "2             0       914      3   \n",
       "3             0      3408      4   \n",
       "4             0      2355      5   \n",
       "...         ...       ...    ...   \n",
       "836478     6039       316      5   \n",
       "836479     6039       260      5   \n",
       "836480     6039      1196      5   \n",
       "836481     6039      1210      5   \n",
       "836482     6039      1374      5   \n",
       "\n",
       "                                                    title  \\\n",
       "0                  One Flew Over the Cuckoo's Nest (1975)   \n",
       "1                        James and the Giant Peach (1996)   \n",
       "2                                     My Fair Lady (1964)   \n",
       "3                                  Erin Brockovich (2000)   \n",
       "4                                    Bug's Life, A (1998)   \n",
       "...                                                   ...   \n",
       "836478                                    Stargate (1994)   \n",
       "836479          Star Wars: Episode IV - A New Hope (1977)   \n",
       "836480  Star Wars: Episode V - The Empire Strikes Back...   \n",
       "836481  Star Wars: Episode VI - Return of the Jedi (1983)   \n",
       "836482                Star Trek: The Wrath of Khan (1982)   \n",
       "\n",
       "                                      genre  \n",
       "0                                     Drama  \n",
       "1              Animation|Children's|Musical  \n",
       "2                           Musical|Romance  \n",
       "3                                     Drama  \n",
       "4               Animation|Children's|Comedy  \n",
       "...                                     ...  \n",
       "836478              Action|Adventure|Sci-Fi  \n",
       "836479      Action|Adventure|Fantasy|Sci-Fi  \n",
       "836480    Action|Adventure|Drama|Sci-Fi|War  \n",
       "836481  Action|Adventure|Romance|Sci-Fi|War  \n",
       "836482              Action|Adventure|Sci-Fi  \n",
       "\n",
       "[836483 rows x 5 columns]"
      ]
     },
     "execution_count": 13,
     "metadata": {},
     "output_type": "execute_result"
    }
   ],
   "source": [
    "movies_ratings = pd.merge(ratings, movies, on = 'movie_id', how = 'left')\n",
    "movies_ratings"
   ]
  },
  {
   "cell_type": "markdown",
   "id": "graphic-singing",
   "metadata": {},
   "source": [
    "      마찬가지로 사용하게 될 컬럼만 남겨줍니다."
   ]
  },
  {
   "cell_type": "code",
   "execution_count": 14,
   "id": "central-inspector",
   "metadata": {},
   "outputs": [
    {
     "data": {
      "text/html": [
       "<div>\n",
       "<style scoped>\n",
       "    .dataframe tbody tr th:only-of-type {\n",
       "        vertical-align: middle;\n",
       "    }\n",
       "\n",
       "    .dataframe tbody tr th {\n",
       "        vertical-align: top;\n",
       "    }\n",
       "\n",
       "    .dataframe thead th {\n",
       "        text-align: right;\n",
       "    }\n",
       "</style>\n",
       "<table border=\"1\" class=\"dataframe\">\n",
       "  <thead>\n",
       "    <tr style=\"text-align: right;\">\n",
       "      <th></th>\n",
       "      <th>user_id</th>\n",
       "      <th>title</th>\n",
       "      <th>count</th>\n",
       "    </tr>\n",
       "  </thead>\n",
       "  <tbody>\n",
       "    <tr>\n",
       "      <th>0</th>\n",
       "      <td>0</td>\n",
       "      <td>One Flew Over the Cuckoo's Nest (1975)</td>\n",
       "      <td>5</td>\n",
       "    </tr>\n",
       "    <tr>\n",
       "      <th>1</th>\n",
       "      <td>0</td>\n",
       "      <td>James and the Giant Peach (1996)</td>\n",
       "      <td>3</td>\n",
       "    </tr>\n",
       "    <tr>\n",
       "      <th>2</th>\n",
       "      <td>0</td>\n",
       "      <td>My Fair Lady (1964)</td>\n",
       "      <td>3</td>\n",
       "    </tr>\n",
       "    <tr>\n",
       "      <th>3</th>\n",
       "      <td>0</td>\n",
       "      <td>Erin Brockovich (2000)</td>\n",
       "      <td>4</td>\n",
       "    </tr>\n",
       "    <tr>\n",
       "      <th>4</th>\n",
       "      <td>0</td>\n",
       "      <td>Bug's Life, A (1998)</td>\n",
       "      <td>5</td>\n",
       "    </tr>\n",
       "    <tr>\n",
       "      <th>...</th>\n",
       "      <td>...</td>\n",
       "      <td>...</td>\n",
       "      <td>...</td>\n",
       "    </tr>\n",
       "    <tr>\n",
       "      <th>836478</th>\n",
       "      <td>6039</td>\n",
       "      <td>Stargate (1994)</td>\n",
       "      <td>5</td>\n",
       "    </tr>\n",
       "    <tr>\n",
       "      <th>836479</th>\n",
       "      <td>6039</td>\n",
       "      <td>Star Wars: Episode IV - A New Hope (1977)</td>\n",
       "      <td>5</td>\n",
       "    </tr>\n",
       "    <tr>\n",
       "      <th>836480</th>\n",
       "      <td>6039</td>\n",
       "      <td>Star Wars: Episode V - The Empire Strikes Back...</td>\n",
       "      <td>5</td>\n",
       "    </tr>\n",
       "    <tr>\n",
       "      <th>836481</th>\n",
       "      <td>6039</td>\n",
       "      <td>Star Wars: Episode VI - Return of the Jedi (1983)</td>\n",
       "      <td>5</td>\n",
       "    </tr>\n",
       "    <tr>\n",
       "      <th>836482</th>\n",
       "      <td>6039</td>\n",
       "      <td>Star Trek: The Wrath of Khan (1982)</td>\n",
       "      <td>5</td>\n",
       "    </tr>\n",
       "  </tbody>\n",
       "</table>\n",
       "<p>836483 rows × 3 columns</p>\n",
       "</div>"
      ],
      "text/plain": [
       "        user_id                                              title  count\n",
       "0             0             One Flew Over the Cuckoo's Nest (1975)      5\n",
       "1             0                   James and the Giant Peach (1996)      3\n",
       "2             0                                My Fair Lady (1964)      3\n",
       "3             0                             Erin Brockovich (2000)      4\n",
       "4             0                               Bug's Life, A (1998)      5\n",
       "...         ...                                                ...    ...\n",
       "836478     6039                                    Stargate (1994)      5\n",
       "836479     6039          Star Wars: Episode IV - A New Hope (1977)      5\n",
       "836480     6039  Star Wars: Episode V - The Empire Strikes Back...      5\n",
       "836481     6039  Star Wars: Episode VI - Return of the Jedi (1983)      5\n",
       "836482     6039                Star Trek: The Wrath of Khan (1982)      5\n",
       "\n",
       "[836483 rows x 3 columns]"
      ]
     },
     "execution_count": 14,
     "metadata": {},
     "output_type": "execute_result"
    }
   ],
   "source": [
    "using_cols = ['user_id', 'title', 'count']\n",
    "movies_ratings = movies_ratings[using_cols]\n",
    "movies_ratings"
   ]
  },
  {
   "cell_type": "markdown",
   "id": "diverse-hurricane",
   "metadata": {},
   "source": [
    "      위에서 확인했던 인기많은 영화 30개를 확인해봅니다. 대부분 다 아는 영화들인것이 정확한 평가인거같습니다."
   ]
  },
  {
   "cell_type": "code",
   "execution_count": 15,
   "id": "duplicate-surfing",
   "metadata": {},
   "outputs": [
    {
     "data": {
      "text/plain": [
       "title\n",
       "American Beauty (1999)                                   3211\n",
       "Star Wars: Episode IV - A New Hope (1977)                2911\n",
       "Star Wars: Episode V - The Empire Strikes Back (1980)    2886\n",
       "Star Wars: Episode VI - Return of the Jedi (1983)        2717\n",
       "Saving Private Ryan (1998)                               2561\n",
       "Terminator 2: Judgment Day (1991)                        2509\n",
       "Silence of the Lambs, The (1991)                         2498\n",
       "Raiders of the Lost Ark (1981)                           2473\n",
       "Back to the Future (1985)                                2460\n",
       "Matrix, The (1999)                                       2434\n",
       "Jurassic Park (1993)                                     2413\n",
       "Sixth Sense, The (1999)                                  2385\n",
       "Fargo (1996)                                             2371\n",
       "Braveheart (1995)                                        2314\n",
       "Men in Black (1997)                                      2297\n",
       "Schindler's List (1993)                                  2257\n",
       "Princess Bride, The (1987)                               2252\n",
       "Shakespeare in Love (1998)                               2213\n",
       "L.A. Confidential (1997)                                 2210\n",
       "Shawshank Redemption, The (1994)                         2194\n",
       "Godfather, The (1972)                                    2167\n",
       "Groundhog Day (1993)                                     2121\n",
       "E.T. the Extra-Terrestrial (1982)                        2102\n",
       "Being John Malkovich (1999)                              2066\n",
       "Ghostbusters (1984)                                      2051\n",
       "Pulp Fiction (1994)                                      2030\n",
       "Forrest Gump (1994)                                      2022\n",
       "Terminator, The (1984)                                   2019\n",
       "Toy Story (1995)                                         2000\n",
       "Fugitive, The (1993)                                     1941\n",
       "Name: user_id, dtype: int64"
      ]
     },
     "execution_count": 15,
     "metadata": {},
     "output_type": "execute_result"
    }
   ],
   "source": [
    "# 인기 많은 영화\n",
    "movie_count = movies_ratings.groupby('title')['user_id'].count()\n",
    "movie_count = movie_count.sort_values(ascending=False).head(30)\n",
    "\n",
    "movie_count"
   ]
  },
  {
   "cell_type": "markdown",
   "id": "ancient-proof",
   "metadata": {},
   "source": [
    "      CSR로 만들기 위해서 제목 컬럼을 IDX로 변환해줍니다. 영화제목을 IDX로 변환하는 코드를 작성하고 확인한 후에 IDX를 영화제목으로 변환해주는 코드를 작성했습니다."
   ]
  },
  {
   "cell_type": "code",
   "execution_count": 16,
   "id": "acceptable-clock",
   "metadata": {},
   "outputs": [
    {
     "name": "stderr",
     "output_type": "stream",
     "text": [
      "/home/aiffel-dj39/anaconda3/envs/aiffel/lib/python3.7/site-packages/ipykernel_launcher.py:3: SettingWithCopyWarning: \n",
      "A value is trying to be set on a copy of a slice from a DataFrame.\n",
      "Try using .loc[row_indexer,col_indexer] = value instead\n",
      "\n",
      "See the caveats in the documentation: https://pandas.pydata.org/pandas-docs/stable/user_guide/indexing.html#returning-a-view-versus-a-copy\n",
      "  This is separate from the ipykernel package so we can avoid doing imports until\n"
     ]
    }
   ],
   "source": [
    "movie_unique = movies_ratings['title'].unique()\n",
    "movie_to_idx = {v:k for k,v in enumerate(movie_unique)}\n",
    "movies_ratings['title'] =  movies_ratings['title'].map(movie_to_idx.get).dropna()\n",
    "\n",
    "#movie_to_idx 를 뒤집어, index로부터 movie 이름을 얻는 dict를 생성합니다. \n",
    "idx_to_movie = {v:k for k,v in movie_to_idx.items()}"
   ]
  },
  {
   "cell_type": "markdown",
   "id": "authentic-intersection",
   "metadata": {},
   "source": [
    "      확인 결과 둘 다 정상적으로 작동합니다."
   ]
  },
  {
   "cell_type": "code",
   "execution_count": 17,
   "id": "subsequent-minority",
   "metadata": {},
   "outputs": [
    {
     "data": {
      "text/plain": [
       "544"
      ]
     },
     "execution_count": 17,
     "metadata": {},
     "output_type": "execute_result"
    }
   ],
   "source": [
    "movie_to_idx['Stargate (1994)']"
   ]
  },
  {
   "cell_type": "code",
   "execution_count": 18,
   "id": "spare-hours",
   "metadata": {},
   "outputs": [
    {
     "data": {
      "text/plain": [
       "'Stargate (1994)'"
      ]
     },
     "execution_count": 18,
     "metadata": {},
     "output_type": "execute_result"
    }
   ],
   "source": [
    "idx_to_movie[544]"
   ]
  },
  {
   "cell_type": "markdown",
   "id": "treated-programming",
   "metadata": {},
   "source": [
    "      본인이 추가한 평가들이 잘 들어갔는지 마지막으로 확인해줍니다. 모든 것이 잘 변환되어있는 것을 확인했습니다."
   ]
  },
  {
   "cell_type": "code",
   "execution_count": 19,
   "id": "proprietary-uniform",
   "metadata": {},
   "outputs": [
    {
     "data": {
      "text/html": [
       "<div>\n",
       "<style scoped>\n",
       "    .dataframe tbody tr th:only-of-type {\n",
       "        vertical-align: middle;\n",
       "    }\n",
       "\n",
       "    .dataframe tbody tr th {\n",
       "        vertical-align: top;\n",
       "    }\n",
       "\n",
       "    .dataframe thead th {\n",
       "        text-align: right;\n",
       "    }\n",
       "</style>\n",
       "<table border=\"1\" class=\"dataframe\">\n",
       "  <thead>\n",
       "    <tr style=\"text-align: right;\">\n",
       "      <th></th>\n",
       "      <th>user_id</th>\n",
       "      <th>title</th>\n",
       "      <th>count</th>\n",
       "    </tr>\n",
       "  </thead>\n",
       "  <tbody>\n",
       "    <tr>\n",
       "      <th>836478</th>\n",
       "      <td>6039</td>\n",
       "      <td>544</td>\n",
       "      <td>5</td>\n",
       "    </tr>\n",
       "    <tr>\n",
       "      <th>836479</th>\n",
       "      <td>6039</td>\n",
       "      <td>44</td>\n",
       "      <td>5</td>\n",
       "    </tr>\n",
       "    <tr>\n",
       "      <th>836480</th>\n",
       "      <td>6039</td>\n",
       "      <td>117</td>\n",
       "      <td>5</td>\n",
       "    </tr>\n",
       "    <tr>\n",
       "      <th>836481</th>\n",
       "      <td>6039</td>\n",
       "      <td>64</td>\n",
       "      <td>5</td>\n",
       "    </tr>\n",
       "    <tr>\n",
       "      <th>836482</th>\n",
       "      <td>6039</td>\n",
       "      <td>583</td>\n",
       "      <td>5</td>\n",
       "    </tr>\n",
       "  </tbody>\n",
       "</table>\n",
       "</div>"
      ],
      "text/plain": [
       "        user_id  title  count\n",
       "836478     6039    544      5\n",
       "836479     6039     44      5\n",
       "836480     6039    117      5\n",
       "836481     6039     64      5\n",
       "836482     6039    583      5"
      ]
     },
     "execution_count": 19,
     "metadata": {},
     "output_type": "execute_result"
    }
   ],
   "source": [
    "# user_id 컬럼을 선택합니다.\n",
    "# 컬럼의 값과 조건을 비교합니다.\n",
    "# 그 결과를 새로운 변수에 할당합니다.\n",
    "is_user = movies_ratings['user_id'] == 6039\n",
    "\n",
    "# 조건를 충족하는 데이터를 필터링하여 새로운 변수에 저장합니다.\n",
    "user = movies_ratings[is_user]\n",
    "\n",
    "# 결과를 출력합니다.\n",
    "user"
   ]
  },
  {
   "cell_type": "markdown",
   "id": "following-reading",
   "metadata": {},
   "source": [
    "# 4. CSR Matrix 만들기\n",
    "     \n",
    "     이제 유저ID 컬럼과 IDX로 바뀐 제목 컬럼을 이용하여 CSR 매트릭스를 만들어줍니다. 만들 때 숫자형 말고 다른 것이 있으면 컴파일 에러가 발생하는것 같습니다. 생성 결과 6040X3628의 행렬이 만들어진것을 확인했습니다."
   ]
  },
  {
   "cell_type": "code",
   "execution_count": 20,
   "id": "killing-lloyd",
   "metadata": {},
   "outputs": [
    {
     "name": "stdout",
     "output_type": "stream",
     "text": [
      "6040 3628\n"
     ]
    },
    {
     "data": {
      "text/plain": [
       "<6040x3628 sparse matrix of type '<class 'numpy.int64'>'\n",
       "\twith 836483 stored elements in Compressed Sparse Row format>"
      ]
     },
     "execution_count": 20,
     "metadata": {},
     "output_type": "execute_result"
    }
   ],
   "source": [
    "from scipy.sparse import csr_matrix\n",
    "\n",
    "num_user = movies_ratings['user_id'].nunique()\n",
    "num_movie = movies_ratings['title'].nunique()\n",
    "\n",
    "print(num_user, num_movie)\n",
    "\n",
    "csr_data = csr_matrix((movies_ratings['count'], (movies_ratings.user_id, movies_ratings.title)), shape= (num_user, num_movie))\n",
    "csr_data"
   ]
  },
  {
   "cell_type": "markdown",
   "id": "maritime-insulin",
   "metadata": {},
   "source": [
    "# 5. 모델 구성하고 학습시키기\n",
    "    \n",
    "      예제에서 진행했듯이 모델을 구성해주고 위에서 만든 CSR로 학습을 진행합니다. 학습을 마친 후 본인의 성향 벡터와 영화의 벡터를 이용하여 정확도를 예상해봅니다."
   ]
  },
  {
   "cell_type": "code",
   "execution_count": 21,
   "id": "imposed-knife",
   "metadata": {},
   "outputs": [],
   "source": [
    "from implicit.als import AlternatingLeastSquares\n",
    "import os\n",
    "import numpy as np\n",
    "\n",
    "# implicit 라이브러리에서 권장하고 있는 부분입니다. 학습 내용과는 무관합니다.\n",
    "os.environ['OPENBLAS_NUM_THREADS']='1'\n",
    "os.environ['KMP_DUPLICATE_LIB_OK']='True'\n",
    "os.environ['MKL_NUM_THREADS']='1'"
   ]
  },
  {
   "cell_type": "code",
   "execution_count": 22,
   "id": "flush-david",
   "metadata": {},
   "outputs": [],
   "source": [
    "# Implicit AlternatingLeastSquares 모델의 선언\n",
    "als_model = AlternatingLeastSquares(factors=100, regularization=0.01, use_gpu=False, iterations=15, dtype=np.float32)"
   ]
  },
  {
   "cell_type": "code",
   "execution_count": 23,
   "id": "standard-bermuda",
   "metadata": {},
   "outputs": [
    {
     "data": {
      "text/plain": [
       "<3628x6040 sparse matrix of type '<class 'numpy.int64'>'\n",
       "\twith 836483 stored elements in Compressed Sparse Column format>"
      ]
     },
     "execution_count": 23,
     "metadata": {},
     "output_type": "execute_result"
    }
   ],
   "source": [
    "# als 모델은 input으로 (item X user 꼴의 matrix를 받기 때문에 Transpose해줍니다.)\n",
    "csr_data_transpose = csr_data.T\n",
    "csr_data_transpose"
   ]
  },
  {
   "cell_type": "code",
   "execution_count": 24,
   "id": "spatial-breath",
   "metadata": {},
   "outputs": [
    {
     "data": {
      "application/vnd.jupyter.widget-view+json": {
       "model_id": "59d5f3f9020e4a7f83e1be2c538bb172",
       "version_major": 2,
       "version_minor": 0
      },
      "text/plain": [
       "  0%|          | 0/15 [00:00<?, ?it/s]"
      ]
     },
     "metadata": {},
     "output_type": "display_data"
    }
   ],
   "source": [
    "# 모델 훈련\n",
    "als_model.fit(csr_data_transpose)"
   ]
  },
  {
   "cell_type": "markdown",
   "id": "intelligent-communications",
   "metadata": {},
   "source": [
    "# 6. 모델이 예측한 선호도 확인하기"
   ]
  },
  {
   "cell_type": "code",
   "execution_count": 25,
   "id": "remarkable-delaware",
   "metadata": {},
   "outputs": [
    {
     "name": "stdout",
     "output_type": "stream",
     "text": [
      "[ 4.3420565e-01 -2.3691906e-01  8.3487517e-01  1.9792056e-02\n",
      " -6.7425931e-01 -2.5232890e-01 -4.0742439e-01 -1.1378595e+00\n",
      "  3.9833495e-01  9.3949959e-02  5.1261121e-01  1.4973220e+00\n",
      " -2.2827855e-01  7.7114201e-01  8.3384126e-01 -4.8654530e-02\n",
      " -8.1862777e-01 -1.3176940e-01  1.0035108e-01 -7.9671949e-02\n",
      " -7.4904019e-01  1.7581974e-01  4.3770096e-01 -2.1579958e-01\n",
      " -2.5387332e-01  1.3894135e-01  4.7609117e-02 -3.0102131e-01\n",
      "  1.8675046e-01  8.5462314e-01 -1.2766261e-01 -4.1149551e-01\n",
      " -9.4283052e-02 -2.4488817e-01  6.8272561e-01 -3.3583811e-01\n",
      "  3.0438483e-01  4.1226365e-02 -1.2439046e-01 -4.6201637e-01\n",
      "  8.1316453e-01 -9.5242836e-02 -5.9691465e-01 -2.4275973e-01\n",
      "  4.1264129e-01  8.6374432e-01 -5.1022172e-01 -6.4703636e-02\n",
      " -1.3021016e-01  2.6077336e-01 -8.3317667e-02 -1.0635823e+00\n",
      " -8.6758268e-01 -3.6377954e-01  8.5451663e-01  5.7612479e-01\n",
      "  7.3149574e-01 -2.7742168e-01 -1.5694505e-04 -2.7213314e-01\n",
      "  1.7152543e-01  1.2703879e-01  1.1761250e+00  1.1982466e+00\n",
      "  5.2909166e-01 -5.7468438e-01 -9.4775152e-01 -8.9186478e-01\n",
      " -2.6765025e-01 -1.5988308e-01  1.1586192e+00 -8.1433195e-01\n",
      " -7.4088015e-02  3.4224838e-01 -5.2514291e-01  8.3813727e-02\n",
      "  1.3072364e-01 -1.7832629e-01  6.2255657e-01  1.0095369e+00\n",
      " -3.6008164e-01 -3.4424689e-01  2.3310343e-02  3.2328290e-01\n",
      " -1.9510920e-01 -1.5773812e-01  1.2031209e-01 -4.6191251e-01\n",
      " -1.3767464e-01 -9.4065255e-01  6.8681800e-01 -7.4113019e-02\n",
      " -5.5172330e-01  4.3587038e-01 -3.4284845e-01  1.6504090e-02\n",
      " -3.3429271e-01  1.1756840e-02  5.4382253e-01  3.1944004e-01]\n",
      "[-6.7116059e-03  4.0107518e-03  4.2721601e-03 -1.2720011e-03\n",
      " -2.7073803e-03  4.7355294e-04 -4.0351572e-03 -2.6500491e-02\n",
      " -5.6048208e-03  3.0528274e-03 -1.4147237e-03  1.3168636e-02\n",
      "  2.1055676e-03  2.8578125e-02  2.5246812e-02 -1.0847040e-02\n",
      " -2.0167609e-03  2.5800603e-02  1.5939754e-03 -7.0510078e-03\n",
      " -3.8733564e-03 -2.4063578e-02 -2.3420260e-03 -1.3852231e-02\n",
      " -1.1486056e-02  9.5321601e-03  2.1931967e-02 -5.9286719e-03\n",
      " -3.4380525e-03  1.4659685e-02 -8.3482060e-05  1.4063133e-02\n",
      "  6.9958897e-04  1.3022799e-02 -1.1337364e-02  1.3785528e-02\n",
      " -4.9599162e-03 -5.6451443e-03  2.5698508e-03  9.4675450e-03\n",
      "  7.4177110e-03  7.1810782e-03  1.1174364e-02 -4.5476658e-03\n",
      "  8.9029931e-03  2.3540769e-02 -1.8029261e-02 -7.9129096e-03\n",
      "  2.9631238e-03  1.3375704e-03 -1.1819193e-02  4.4153868e-03\n",
      " -1.2394916e-02  2.6636284e-03  3.5362937e-02  2.5401091e-02\n",
      "  1.7527757e-02  7.2058255e-04 -8.3966542e-04  7.9239003e-04\n",
      "  1.3212181e-02  8.0320276e-03  1.9855442e-02  8.0350712e-03\n",
      " -4.7595915e-03 -5.0190752e-03  2.4634837e-03  1.8796157e-02\n",
      "  1.0047425e-02  1.3164376e-02  2.9631803e-02 -9.1794524e-03\n",
      "  1.6665038e-02  5.3501893e-03  1.3946314e-02 -8.2729512e-04\n",
      "  1.3162840e-02  5.8296020e-03  1.9353032e-02  1.6797973e-02\n",
      "  7.2313435e-03  1.4422056e-02  2.2830676e-02  2.3296572e-02\n",
      "  9.2640677e-03 -1.3188856e-02 -1.0704248e-03 -8.2483044e-04\n",
      "  1.6579689e-02  1.0070043e-02  1.8670123e-02  1.3084492e-02\n",
      " -2.0523449e-02  2.9411796e-02  1.6966954e-02  1.5711423e-02\n",
      "  5.0506089e-03  2.1137962e-02  5.7807029e-03 -1.2399858e-02]\n"
     ]
    }
   ],
   "source": [
    "mine, stargate = user_to_idx['mine'], movie_to_idx['Stargate (1994)']\n",
    "mine_vector, stargate_vector = als_model.user_factors[mine], als_model.item_factors[stargate]\n",
    "\n",
    "print(mine_vector)\n",
    "print(stargate_vector)"
   ]
  },
  {
   "cell_type": "code",
   "execution_count": 26,
   "id": "purple-discharge",
   "metadata": {},
   "outputs": [
    {
     "data": {
      "text/plain": [
       "0.2757695"
      ]
     },
     "execution_count": 26,
     "metadata": {},
     "output_type": "execute_result"
    }
   ],
   "source": [
    "np.dot(mine_vector, stargate_vector)"
   ]
  },
  {
   "cell_type": "code",
   "execution_count": 27,
   "id": "extra-gross",
   "metadata": {},
   "outputs": [
    {
     "data": {
      "text/plain": [
       "0.4765836"
      ]
     },
     "execution_count": 27,
     "metadata": {},
     "output_type": "execute_result"
    }
   ],
   "source": [
    "star_wars_I = movie_to_idx['Star Wars: Episode I - The Phantom Menace (1999)'] #Star Wars: Episode I - The Phantom Menace (1999)\n",
    "star_wars_I_vector = als_model.item_factors[star_wars_I]\n",
    "np.dot(mine_vector, star_wars_I_vector)"
   ]
  },
  {
   "cell_type": "markdown",
   "id": "secondary-excitement",
   "metadata": {},
   "source": [
    "      스타게이트의 경우 5점을 주었음에도 불구하고 0.29밖에 안됬고 스타워즈1은 4,5,6을 평가했는데 0.49로 매우 높게 나왔습니다.\n",
    "      \n",
    "      스타트렉:퍼스트 컨택트의 유사한 영화를 찾아봤습니다. 일단 1로 나온것은 자기자신이고 나머지는 IDX로 나와서 잘 모르겠으니 확인해줍니다."
   ]
  },
  {
   "cell_type": "markdown",
   "id": "separate-aside",
   "metadata": {},
   "source": [
    "# 7. 내가 좋아하는 영화와 비슷한 영화 추천받기"
   ]
  },
  {
   "cell_type": "code",
   "execution_count": 28,
   "id": "decent-advisory",
   "metadata": {},
   "outputs": [
    {
     "data": {
      "text/plain": [
       "[(471, 0.99999994),\n",
       " (113, 0.9025383),\n",
       " (558, 0.88010925),\n",
       " (699, 0.8279797),\n",
       " (586, 0.7756079),\n",
       " (584, 0.70790344),\n",
       " (1164, 0.65918434),\n",
       " (583, 0.64518994),\n",
       " (581, 0.6339021),\n",
       " (544, 0.5946121),\n",
       " (145, 0.50578594),\n",
       " (713, 0.46366918),\n",
       " (228, 0.43473464),\n",
       " (62, 0.42972943),\n",
       " (3589, 0.41953653),\n",
       " (479, 0.41886035)]"
      ]
     },
     "execution_count": 28,
     "metadata": {},
     "output_type": "execute_result"
    }
   ],
   "source": [
    "favorite_movie = 'Star Trek: First Contact (1996)' # Star Trek: First Contact (1996)\n",
    "movie_id = movie_to_idx[favorite_movie]\n",
    "similar_movie = als_model.similar_items(movie_id, N=16) # 16을 준 이유는 자기 자신이 1위를 지니기 때문입니다.\n",
    "\n",
    "similar_movie"
   ]
  },
  {
   "cell_type": "markdown",
   "id": "swedish-batman",
   "metadata": {},
   "source": [
    "      변환해 주는 코드를 작성한 후 확인해주니 확실히 SF류 영화가 가깝다는 것을 확인 할 수 있었습니다."
   ]
  },
  {
   "cell_type": "code",
   "execution_count": 29,
   "id": "pretty-vegetation",
   "metadata": {},
   "outputs": [
    {
     "data": {
      "text/plain": [
       "[['Star Trek VI: The Undiscovered Country (1991)', 0.9025383],\n",
       " ['Star Trek: Generations (1994)', 0.88010925],\n",
       " ['Star Trek: Insurrection (1998)', 0.8279797],\n",
       " ['Star Trek IV: The Voyage Home (1986)', 0.7756079],\n",
       " ['Star Trek III: The Search for Spock (1984)', 0.70790344],\n",
       " ['Star Trek V: The Final Frontier (1989)', 0.65918434],\n",
       " ['Star Trek: The Wrath of Khan (1982)', 0.64518994],\n",
       " ['Star Trek: The Motion Picture (1979)', 0.6339021],\n",
       " ['Stargate (1994)', 0.5946121],\n",
       " ['Fifth Element, The (1997)', 0.50578594],\n",
       " ['Starship Troopers (1997)', 0.46366918],\n",
       " ['X-Files: Fight the Future, The (1998)', 0.43473464],\n",
       " ['Total Recall (1990)', 0.42972943],\n",
       " ['Soft Toilet Seats (1999)', 0.41953653],\n",
       " ['Contact (1997)', 0.41886035]]"
      ]
     },
     "execution_count": 29,
     "metadata": {},
     "output_type": "execute_result"
    }
   ],
   "source": [
    "movie_ids = [[idx_to_movie[i[0]],i[1]] for i in similar_movie]\n",
    "\n",
    "movie_ids = movie_ids[1:]\n",
    "\n",
    "[[movie_ids[i][0],movie_ids[i][1]] for i in range(0,len(movie_ids))]"
   ]
  },
  {
   "cell_type": "markdown",
   "id": "tropical-talent",
   "metadata": {},
   "source": [
    "      위의 경험을 토대로 IDX와 제목을 변환해주는 코드를 작성해줍니다. 순위를 나타낼 때 자기자신은 제외하고 나오도록 작성했습니다."
   ]
  },
  {
   "cell_type": "code",
   "execution_count": 30,
   "id": "tired-vanilla",
   "metadata": {},
   "outputs": [],
   "source": [
    "def get_similar_movie_from_name(movie:str,N=15):\n",
    "    movie_id = movie_to_idx[movie]\n",
    "    similar_movie = als_model.similar_items(movie_id, N+1)\n",
    "    similar_movie = [[idx_to_movie[i[0]],i[1]] for i in similar_movie]\n",
    "    similar_movie = similar_movie[1:]\n",
    "    \n",
    "    return similar_movie\n",
    "\n",
    "def get_similar_movie_from_idx(movie_id:int,N=15):\n",
    "    print(idx_to_movie[movie_id])\n",
    "    similar_movie = als_model.similar_items(movie_id, N+1)\n",
    "    similar_movie = [[idx_to_movie[i[0]],i[1]] for i in similar_movie]\n",
    "    similar_movie = similar_movie[1:]\n",
    "    \n",
    "    return similar_movie"
   ]
  },
  {
   "cell_type": "code",
   "execution_count": 31,
   "id": "general-alignment",
   "metadata": {},
   "outputs": [
    {
     "data": {
      "text/plain": [
       "[['Stargate (1994)', 0.67718005],\n",
       " ['Face/Off (1997)', 0.6272104],\n",
       " ['Gattaca (1997)', 0.6058121],\n",
       " ['Strange Days (1995)', 0.6032737],\n",
       " ['Total Recall (1990)', 0.5872202],\n",
       " ['Starship Troopers (1997)', 0.58650684],\n",
       " ['Dark City (1998)', 0.54892224],\n",
       " ['Mars Attacks! (1996)', 0.5444699],\n",
       " ['Matrix, The (1999)', 0.538372],\n",
       " ['Independence Day (ID4) (1996)', 0.5361375],\n",
       " ['Twelve Monkeys (1995)', 0.52018464],\n",
       " ['Star Trek: First Contact (1996)', 0.50578594],\n",
       " ['Contact (1997)', 0.50037307],\n",
       " ['Demolition Man (1993)', 0.5001871],\n",
       " ['Deep Impact (1998)', 0.48669207]]"
      ]
     },
     "execution_count": 31,
     "metadata": {},
     "output_type": "execute_result"
    }
   ],
   "source": [
    "get_similar_movie_from_name('Fifth Element, The (1997)')"
   ]
  },
  {
   "cell_type": "markdown",
   "id": "standard-blanket",
   "metadata": {},
   "source": [
    "      제5원소의 유사한 영화로 페이스오프가 나온건 의외입니다. 그 외에는 대부분 외계인, 우주선, SF가 장르가 주로 보입니다."
   ]
  },
  {
   "cell_type": "code",
   "execution_count": 32,
   "id": "strange-michael",
   "metadata": {},
   "outputs": [
    {
     "name": "stdout",
     "output_type": "stream",
     "text": [
      "Misery (1990)\n"
     ]
    },
    {
     "data": {
      "text/plain": [
       "[['Scream (1996)', 0.66883075],\n",
       " [\"Jacob's Ladder (1990)\", 0.5975624],\n",
       " ['Shining, The (1980)', 0.5764125],\n",
       " ['Carrie (1976)', 0.57216007],\n",
       " ['Nightmare on Elm Street, A (1984)', 0.5496004],\n",
       " ['Halloween (1978)', 0.5393939],\n",
       " ['Interview with the Vampire (1994)', 0.53837854],\n",
       " ['Needful Things (1993)', 0.5052303],\n",
       " ['Poltergeist (1982)', 0.50322264],\n",
       " ['Candyman (1992)', 0.501338],\n",
       " ['Wolf (1994)', 0.49882925],\n",
       " ['Exorcist, The (1973)', 0.48981372],\n",
       " ['Omen, The (1976)', 0.48746628],\n",
       " ['Gremlins (1984)', 0.4830642],\n",
       " [\"Bram Stoker's Dracula (1992)\", 0.47306302]]"
      ]
     },
     "execution_count": 32,
     "metadata": {},
     "output_type": "execute_result"
    }
   ],
   "source": [
    "get_similar_movie_from_idx(316)"
   ]
  },
  {
   "cell_type": "markdown",
   "id": "biblical-roller",
   "metadata": {},
   "source": [
    "      임의의 숫자를 넣었는데 미저리였군요. 확인 결과 역시 슬래셔 또는 호러 영화가 주로 비슷하다고 나왔습니다."
   ]
  },
  {
   "cell_type": "markdown",
   "id": "twelve-pocket",
   "metadata": {},
   "source": [
    "# 8. 좋아할 만한 영화 추천받기\n",
    "\n",
    "      SF 영화 5개에 5점을 줘서 입력해준 'mine'을 이용하여 해당 모델의 추천을 받아보겠습니다."
   ]
  },
  {
   "cell_type": "code",
   "execution_count": 33,
   "id": "eleven-sitting",
   "metadata": {},
   "outputs": [
    {
     "data": {
      "text/plain": [
       "[['Star Wars: Episode I - The Phantom Menace (1999)', 0.4765836],\n",
       " ['Raiders of the Lost Ark (1981)', 0.47358608],\n",
       " ['Princess Bride, The (1987)', 0.41284764],\n",
       " ['Star Trek IV: The Voyage Home (1986)', 0.3700028],\n",
       " ['Star Trek: First Contact (1996)', 0.35488272],\n",
       " ['Star Trek: Generations (1994)', 0.31789857],\n",
       " ['Back to the Future (1985)', 0.29966107],\n",
       " ['Star Trek III: The Search for Spock (1984)', 0.29016477],\n",
       " ['Star Trek VI: The Undiscovered Country (1991)', 0.2830228],\n",
       " ['Terminator, The (1984)', 0.26793113],\n",
       " ['Indiana Jones and the Last Crusade (1989)', 0.2624995],\n",
       " ['Star Trek: Insurrection (1998)', 0.2384617],\n",
       " ['Alien (1979)', 0.23173246],\n",
       " ['Aliens (1986)', 0.23054565],\n",
       " ['Superman (1978)', 0.22409526],\n",
       " ['Star Trek: The Motion Picture (1979)', 0.2171332],\n",
       " ['Matrix, The (1999)', 0.20942748],\n",
       " ['E.T. the Extra-Terrestrial (1982)', 0.20325908],\n",
       " ['Star Trek V: The Final Frontier (1989)', 0.20113364],\n",
       " [\"One Flew Over the Cuckoo's Nest (1975)\", 0.20037377]]"
      ]
     },
     "execution_count": 33,
     "metadata": {},
     "output_type": "execute_result"
    }
   ],
   "source": [
    "user = user_to_idx['mine']\n",
    "# recommend에서는 user*item CSR Matrix를 받습니다.\n",
    "movie_recommended = als_model.recommend(user, csr_data, N=20, filter_already_liked_items=True)\n",
    "\n",
    "[[idx_to_movie[i[0]],i[1]] for i in movie_recommended]"
   ]
  },
  {
   "cell_type": "markdown",
   "id": "developing-mistake",
   "metadata": {},
   "source": [
    "      거의 다 SF를 추천하고 있는 것을 보면 제대로 학습이 된 것 같습니다.\n",
    "      \n",
    "      스타워즈1을 통해 어떻게 추천을 했는지 확인해봅시다."
   ]
  },
  {
   "cell_type": "code",
   "execution_count": 34,
   "id": "opening-forward",
   "metadata": {},
   "outputs": [],
   "source": [
    "star_wars_I = movie_to_idx['Star Wars: Episode I - The Phantom Menace (1999)']\n",
    "explain = als_model.explain(user, csr_data, itemid=star_wars_I)"
   ]
  },
  {
   "cell_type": "code",
   "execution_count": 35,
   "id": "unusual-deposit",
   "metadata": {},
   "outputs": [
    {
     "data": {
      "text/plain": [
       "[['Star Wars: Episode VI - Return of the Jedi (1983)', 0.22908096152418728],\n",
       " ['Star Wars: Episode IV - A New Hope (1977)', 0.11780052713130644],\n",
       " ['Stargate (1994)', 0.10308496907921474],\n",
       " ['Star Wars: Episode V - The Empire Strikes Back (1980)',\n",
       "  0.06844235603954292],\n",
       " ['Star Trek: The Wrath of Khan (1982)', -0.0478247461046907]]"
      ]
     },
     "execution_count": 35,
     "metadata": {},
     "output_type": "execute_result"
    }
   ],
   "source": [
    "[[idx_to_movie[explain[1][i][0]], explain[1][i][1]] for i in range(0, len(explain[1]))]"
   ]
  },
  {
   "cell_type": "markdown",
   "id": "liquid-deputy",
   "metadata": {},
   "source": [
    "      스타트렉을 제외하고는 전부 매우 긍정적인 점수를 제공했습니다."
   ]
  },
  {
   "cell_type": "markdown",
   "id": "consolidated-frederick",
   "metadata": {},
   "source": [
    "***********************************************************************************\n",
    "# 총평 및 결론\n",
    "\n",
    "      약 0.2에서 거의 0.5 사이에서 추천영화가 나타났는데 생각보다 정확도가 높은것같다,\n",
    "      \n",
    "      원래 작성하던 코드는 IDX에서 movie_ID로, movie_ID에서 title로 변환해주는 코드를 작성했는데 프로젝트를 진행할수록 코드가 너무 꼬이고 번잡해지는것 같아서 Merge를 통해 두 데이터셋을 합쳐주었습니다. 이 경우 CSR파일을 만들 때 제목이 그대로 문자열로 들어가 오류를 발생하는 것 같아서 결국 IDX로 변환해주었습니다.\n",
    "      \n",
    "      Merge를 하는 경우에도 Index나 없는 user_ID땜에 오류를 발생하는 것 같아서 다 제거하고 진행하는데 생각보다 과정이 복잡해서 시간을 많이 잡아먹게 되었습니다."
   ]
  }
 ],
 "metadata": {
  "kernelspec": {
   "display_name": "aiffel",
   "language": "python",
   "name": "aiffel"
  },
  "language_info": {
   "codemirror_mode": {
    "name": "ipython",
    "version": 3
   },
   "file_extension": ".py",
   "mimetype": "text/x-python",
   "name": "python",
   "nbconvert_exporter": "python",
   "pygments_lexer": "ipython3",
   "version": "3.7.9"
  }
 },
 "nbformat": 4,
 "nbformat_minor": 5
}
