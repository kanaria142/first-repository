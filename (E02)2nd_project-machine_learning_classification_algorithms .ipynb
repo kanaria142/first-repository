{
 "cells": [
  {
   "cell_type": "markdown",
   "metadata": {},
   "source": [
    "# (E02)2nd_project-machine_learning_classification_algorithms \n",
    "*************************************************************************************************"
   ]
  },
  {
   "cell_type": "markdown",
   "metadata": {},
   "source": [
    "## 1. 손글씨 숫자 분류"
   ]
  },
  {
   "cell_type": "markdown",
   "metadata": {},
   "source": [
    "### 필요한 모듈과 데이터 불러오기"
   ]
  },
  {
   "cell_type": "code",
   "execution_count": 7,
   "metadata": {},
   "outputs": [
    {
     "name": "stdout",
     "output_type": "stream",
     "text": [
      "      pixel_0_0  pixel_0_1  pixel_0_2  pixel_0_3  pixel_0_4  pixel_0_5  \\\n",
      "0           0.0        0.0        5.0       13.0        9.0        1.0   \n",
      "1           0.0        0.0        0.0       12.0       13.0        5.0   \n",
      "2           0.0        0.0        0.0        4.0       15.0       12.0   \n",
      "3           0.0        0.0        7.0       15.0       13.0        1.0   \n",
      "4           0.0        0.0        0.0        1.0       11.0        0.0   \n",
      "...         ...        ...        ...        ...        ...        ...   \n",
      "1792        0.0        0.0        4.0       10.0       13.0        6.0   \n",
      "1793        0.0        0.0        6.0       16.0       13.0       11.0   \n",
      "1794        0.0        0.0        1.0       11.0       15.0        1.0   \n",
      "1795        0.0        0.0        2.0       10.0        7.0        0.0   \n",
      "1796        0.0        0.0       10.0       14.0        8.0        1.0   \n",
      "\n",
      "      pixel_0_6  pixel_0_7  pixel_1_0  pixel_1_1  ...  pixel_6_7  pixel_7_0  \\\n",
      "0           0.0        0.0        0.0        0.0  ...        0.0        0.0   \n",
      "1           0.0        0.0        0.0        0.0  ...        0.0        0.0   \n",
      "2           0.0        0.0        0.0        0.0  ...        0.0        0.0   \n",
      "3           0.0        0.0        0.0        8.0  ...        0.0        0.0   \n",
      "4           0.0        0.0        0.0        0.0  ...        0.0        0.0   \n",
      "...         ...        ...        ...        ...  ...        ...        ...   \n",
      "1792        0.0        0.0        0.0        1.0  ...        0.0        0.0   \n",
      "1793        1.0        0.0        0.0        0.0  ...        0.0        0.0   \n",
      "1794        0.0        0.0        0.0        0.0  ...        0.0        0.0   \n",
      "1795        0.0        0.0        0.0        0.0  ...        0.0        0.0   \n",
      "1796        0.0        0.0        0.0        2.0  ...        0.0        0.0   \n",
      "\n",
      "      pixel_7_1  pixel_7_2  pixel_7_3  pixel_7_4  pixel_7_5  pixel_7_6  \\\n",
      "0           0.0        6.0       13.0       10.0        0.0        0.0   \n",
      "1           0.0        0.0       11.0       16.0       10.0        0.0   \n",
      "2           0.0        0.0        3.0       11.0       16.0        9.0   \n",
      "3           0.0        7.0       13.0       13.0        9.0        0.0   \n",
      "4           0.0        0.0        2.0       16.0        4.0        0.0   \n",
      "...         ...        ...        ...        ...        ...        ...   \n",
      "1792        0.0        2.0       14.0       15.0        9.0        0.0   \n",
      "1793        0.0        6.0       16.0       14.0        6.0        0.0   \n",
      "1794        0.0        2.0        9.0       13.0        6.0        0.0   \n",
      "1795        0.0        5.0       12.0       16.0       12.0        0.0   \n",
      "1796        1.0        8.0       12.0       14.0       12.0        1.0   \n",
      "\n",
      "      pixel_7_7  label  \n",
      "0           0.0      0  \n",
      "1           0.0      1  \n",
      "2           0.0      2  \n",
      "3           0.0      3  \n",
      "4           0.0      4  \n",
      "...         ...    ...  \n",
      "1792        0.0      9  \n",
      "1793        0.0      0  \n",
      "1794        0.0      8  \n",
      "1795        0.0      9  \n",
      "1796        0.0      8  \n",
      "\n",
      "[1797 rows x 65 columns] \n",
      "\n",
      "[0 1 2 3 4 5 6 7 8 9] \n",
      "\n",
      "X_train 개수:  1437 , X_test 개수:  360\n"
     ]
    }
   ],
   "source": [
    "from sklearn.datasets import load_digits\n",
    "from sklearn.model_selection import train_test_split\n",
    "from sklearn.metrics import classification_report\n",
    "from sklearn.tree import DecisionTreeClassifier\n",
    "from sklearn.metrics import accuracy_score\n",
    "from sklearn.ensemble import RandomForestClassifier\n",
    "from sklearn import svm\n",
    "from sklearn.linear_model import SGDClassifier\n",
    "from sklearn.linear_model import LogisticRegression\n",
    "from sklearn import metrics\n",
    "\n",
    "import pandas as pd\n",
    "from matplotlib import pyplot as plt\n",
    "\n",
    "digits = load_digits()\n",
    "digits_data = digits.data\n",
    "digits_label = digits.target\n",
    "\n",
    "digits_df = pd.DataFrame(data=digits_data, columns=digits.feature_names)  # 데이터프레임 자료형으로 변환하여 데이터 확인\n",
    "digits_df[\"label\"] = digits.target                                       # 마지막 열에 정답을 넣어서 확인하기 쉽게\n",
    "\n",
    "print(digits_df,'\\n')\n",
    "\n",
    "print(digits.target_names,'\\n') #정답 리스트 확인\n",
    "\n",
    "X_train, X_test, y_train, y_test = train_test_split(digits_data, digits_label, test_size=0.2, random_state=7) #트레이닝 세트와 테스트 세트 나눠주기, 이경우 예제와 똑같이 20%를 테스트셋으로 넘기고 랜덤성을 줌\n",
    "\n",
    "print('X_train 개수: ', len(X_train), ', X_test 개수: ', len(X_test))"
   ]
  },
  {
   "cell_type": "markdown",
   "metadata": {},
   "source": [
    "### a. Decision Tree 모델"
   ]
  },
  {
   "cell_type": "code",
   "execution_count": 8,
   "metadata": {},
   "outputs": [
    {
     "name": "stdout",
     "output_type": "stream",
     "text": [
      "              precision    recall  f1-score   support\n",
      "\n",
      "           0       1.00      0.98      0.99        43\n",
      "           1       0.81      0.81      0.81        42\n",
      "           2       0.79      0.82      0.80        40\n",
      "           3       0.79      0.91      0.85        34\n",
      "           4       0.83      0.95      0.89        37\n",
      "           5       0.90      0.96      0.93        28\n",
      "           6       0.84      0.93      0.88        28\n",
      "           7       0.96      0.82      0.89        33\n",
      "           8       0.88      0.65      0.75        43\n",
      "           9       0.78      0.78      0.78        32\n",
      "\n",
      "    accuracy                           0.86       360\n",
      "   macro avg       0.86      0.86      0.86       360\n",
      "weighted avg       0.86      0.86      0.85       360\n",
      "\n",
      "0.8555555555555555\n"
     ]
    }
   ],
   "source": [
    "#Decision_Tree\n",
    "decision_tree = DecisionTreeClassifier(random_state=32)\n",
    "decision_tree.fit(X_train, y_train)\n",
    "\n",
    "y_pred = decision_tree.predict(X_test)\n",
    "\n",
    "print(classification_report(y_test, y_pred))    #precision, recall, f1-scor인, accuracy 확인\n",
    "print(accuracy_score(y_test, y_pred))           #정확도 소숫점 확인"
   ]
  },
  {
   "cell_type": "code",
   "execution_count": 9,
   "metadata": {},
   "outputs": [
    {
     "data": {
      "image/png": "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\n",
      "text/plain": [
       "<Figure size 432x288 with 2 Axes>"
      ]
     },
     "metadata": {
      "needs_background": "light"
     },
     "output_type": "display_data"
    }
   ],
   "source": [
    "disp = metrics.plot_confusion_matrix(decision_tree, X_test, y_test)    #정오답 시각화\n",
    "disp.figure_.suptitle(\"Confusion Matrix\")\n",
    "\n",
    "plt.show()"
   ]
  },
  {
   "cell_type": "markdown",
   "metadata": {},
   "source": [
    "#### Decision Tree 모델 분석\n",
    "\n",
    "    F1 score는 최저 0.75에서 최대 0.99로 인식률이 높은 숫자와 낫은 숫자의 격차가 상당히 심했다.\n",
    "    8을 1 또는 3으로 평가하는 경우가 많았고 6과 8도 오답이 다른 것에 비해 높았다.\n",
    "    9의 경우 다양한 오답의 분포를 보였다.\n",
    "   \n",
    "    정확도는 약 86%로 5모델 중 가장 낮았다."
   ]
  },
  {
   "cell_type": "markdown",
   "metadata": {},
   "source": [
    "### b. Random Forest 모델"
   ]
  },
  {
   "cell_type": "code",
   "execution_count": 10,
   "metadata": {},
   "outputs": [
    {
     "name": "stdout",
     "output_type": "stream",
     "text": [
      "              precision    recall  f1-score   support\n",
      "\n",
      "           0       1.00      0.98      0.99        43\n",
      "           1       0.93      1.00      0.97        42\n",
      "           2       1.00      1.00      1.00        40\n",
      "           3       1.00      1.00      1.00        34\n",
      "           4       0.93      1.00      0.96        37\n",
      "           5       0.90      0.96      0.93        28\n",
      "           6       1.00      0.96      0.98        28\n",
      "           7       0.94      0.97      0.96        33\n",
      "           8       1.00      0.84      0.91        43\n",
      "           9       0.94      0.94      0.94        32\n",
      "\n",
      "    accuracy                           0.96       360\n",
      "   macro avg       0.96      0.96      0.96       360\n",
      "weighted avg       0.97      0.96      0.96       360\n",
      "\n",
      "0.9638888888888889\n"
     ]
    }
   ],
   "source": [
    "#Random Forest\n",
    "random_forest = RandomForestClassifier(random_state=32)\n",
    "random_forest.fit(X_train, y_train)\n",
    "\n",
    "y_pred = random_forest.predict(X_test)\n",
    "\n",
    "print(classification_report(y_test, y_pred))\n",
    "print(accuracy_score(y_test, y_pred))"
   ]
  },
  {
   "cell_type": "code",
   "execution_count": 11,
   "metadata": {},
   "outputs": [
    {
     "data": {
      "image/png": "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\n",
      "text/plain": [
       "<Figure size 432x288 with 2 Axes>"
      ]
     },
     "metadata": {
      "needs_background": "light"
     },
     "output_type": "display_data"
    }
   ],
   "source": [
    "disp = metrics.plot_confusion_matrix(random_forest, X_test, y_test)\n",
    "disp.figure_.suptitle(\"Confusion Matrix\")\n",
    "\n",
    "plt.show()"
   ]
  },
  {
   "cell_type": "markdown",
   "metadata": {},
   "source": [
    "#### Random Forest 모델 분석\n",
    "\n",
    "    F1 score는 최저 0.91에서 최대 1의 높은 성능을 보였다.\n",
    "    그러나 이 모델의 경우도 8을 1로 착각 하는 경우가 많았다.\n",
    "    정확도는 96%를 보였다."
   ]
  },
  {
   "cell_type": "markdown",
   "metadata": {},
   "source": [
    "### c. Support Vector Machine 모델"
   ]
  },
  {
   "cell_type": "code",
   "execution_count": 12,
   "metadata": {},
   "outputs": [
    {
     "name": "stdout",
     "output_type": "stream",
     "text": [
      "              precision    recall  f1-score   support\n",
      "\n",
      "           0       1.00      1.00      1.00        43\n",
      "           1       0.95      1.00      0.98        42\n",
      "           2       1.00      1.00      1.00        40\n",
      "           3       1.00      1.00      1.00        34\n",
      "           4       1.00      1.00      1.00        37\n",
      "           5       0.93      1.00      0.97        28\n",
      "           6       1.00      1.00      1.00        28\n",
      "           7       1.00      1.00      1.00        33\n",
      "           8       1.00      0.93      0.96        43\n",
      "           9       1.00      0.97      0.98        32\n",
      "\n",
      "    accuracy                           0.99       360\n",
      "   macro avg       0.99      0.99      0.99       360\n",
      "weighted avg       0.99      0.99      0.99       360\n",
      "\n",
      "0.9888888888888889\n"
     ]
    }
   ],
   "source": [
    "#SVM\n",
    "svm_model = svm.SVC()\n",
    "\n",
    "svm_model.fit(X_train, y_train)\n",
    "y_pred = svm_model.predict(X_test)\n",
    "\n",
    "print(classification_report(y_test, y_pred))\n",
    "print(accuracy_score(y_test, y_pred))"
   ]
  },
  {
   "cell_type": "code",
   "execution_count": 13,
   "metadata": {},
   "outputs": [
    {
     "data": {
      "image/png": "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\n",
      "text/plain": [
       "<Figure size 432x288 with 2 Axes>"
      ]
     },
     "metadata": {
      "needs_background": "light"
     },
     "output_type": "display_data"
    }
   ],
   "source": [
    "disp = metrics.plot_confusion_matrix(svm_model, X_test, y_test)\n",
    "disp.figure_.suptitle(\"Confusion Matrix\")\n",
    "\n",
    "plt.show()"
   ]
  },
  {
   "cell_type": "markdown",
   "metadata": {},
   "source": [
    "#### Support Vector Model 분석\n",
    "\n",
    "    가장 낮은 F1-score조차 0.96으로 가장 높은 정답률을 보였고 정확도도 99%로 가장 정확한 모델이였다.\n",
    "    복잡한 비선형 의사결정 영역을 모형화 할 수 있는 모델답게 다양한 값을 가지고 있는 데이터베이스 분석에 최적화되있는 것 같다."
   ]
  },
  {
   "cell_type": "markdown",
   "metadata": {},
   "source": [
    "### d. Stochastic Gradient Descent Classifier 모델"
   ]
  },
  {
   "cell_type": "code",
   "execution_count": 14,
   "metadata": {},
   "outputs": [
    {
     "name": "stdout",
     "output_type": "stream",
     "text": [
      "              precision    recall  f1-score   support\n",
      "\n",
      "           0       1.00      1.00      1.00        43\n",
      "           1       0.80      0.93      0.86        42\n",
      "           2       0.98      1.00      0.99        40\n",
      "           3       0.92      0.97      0.94        34\n",
      "           4       0.97      0.97      0.97        37\n",
      "           5       1.00      0.89      0.94        28\n",
      "           6       0.96      0.93      0.95        28\n",
      "           7       0.97      0.97      0.97        33\n",
      "           8       0.89      0.79      0.84        43\n",
      "           9       0.94      0.91      0.92        32\n",
      "\n",
      "    accuracy                           0.94       360\n",
      "   macro avg       0.94      0.94      0.94       360\n",
      "weighted avg       0.94      0.94      0.94       360\n",
      "\n",
      "0.9361111111111111\n"
     ]
    }
   ],
   "source": [
    "#SGD Classifier\n",
    "sgd_model = SGDClassifier()\n",
    "\n",
    "sgd_model.fit(X_train, y_train)\n",
    "y_pred = sgd_model.predict(X_test)\n",
    "\n",
    "print(classification_report(y_test, y_pred))\n",
    "print(accuracy_score(y_test, y_pred))"
   ]
  },
  {
   "cell_type": "code",
   "execution_count": 15,
   "metadata": {},
   "outputs": [
    {
     "data": {
      "image/png": "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\n",
      "text/plain": [
       "<Figure size 432x288 with 2 Axes>"
      ]
     },
     "metadata": {
      "needs_background": "light"
     },
     "output_type": "display_data"
    }
   ],
   "source": [
    "disp = metrics.plot_confusion_matrix(sgd_model, X_test, y_test)\n",
    "disp.figure_.suptitle(\"Confusion Matrix\")\n",
    "\n",
    "plt.show()"
   ]
  },
  {
   "cell_type": "markdown",
   "metadata": {},
   "source": [
    "#### Stochastic Gradient Descent Classifier 분석\n",
    "\n",
    "    이 모델도 f1-score가 최대는 1이였지만 8을 1로 잘못 결정하는 오류가 심각했다. \n",
    "    정확도는 94%를 보였다."
   ]
  },
  {
   "cell_type": "markdown",
   "metadata": {},
   "source": [
    "### e. Logistic Regression 모델"
   ]
  },
  {
   "cell_type": "code",
   "execution_count": 16,
   "metadata": {},
   "outputs": [
    {
     "name": "stdout",
     "output_type": "stream",
     "text": [
      "              precision    recall  f1-score   support\n",
      "\n",
      "           0       1.00      1.00      1.00        43\n",
      "           1       0.95      0.95      0.95        42\n",
      "           2       0.98      1.00      0.99        40\n",
      "           3       0.94      0.97      0.96        34\n",
      "           4       1.00      1.00      1.00        37\n",
      "           5       0.79      0.96      0.87        28\n",
      "           6       1.00      0.96      0.98        28\n",
      "           7       0.97      0.97      0.97        33\n",
      "           8       0.92      0.84      0.88        43\n",
      "           9       0.97      0.88      0.92        32\n",
      "\n",
      "    accuracy                           0.95       360\n",
      "   macro avg       0.95      0.95      0.95       360\n",
      "weighted avg       0.96      0.95      0.95       360\n",
      "\n",
      "0.9527777777777777\n"
     ]
    }
   ],
   "source": [
    "#Logistic Regression\n",
    "logistic_model = LogisticRegression(max_iter = 1500)\n",
    "\n",
    "logistic_model.fit(X_train, y_train)\n",
    "y_pred = logistic_model.predict(X_test)\n",
    "\n",
    "print(classification_report(y_test, y_pred))\n",
    "print(accuracy_score(y_test, y_pred))"
   ]
  },
  {
   "cell_type": "code",
   "execution_count": 17,
   "metadata": {},
   "outputs": [
    {
     "data": {
      "image/png": "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\n",
      "text/plain": [
       "<Figure size 432x288 with 2 Axes>"
      ]
     },
     "metadata": {
      "needs_background": "light"
     },
     "output_type": "display_data"
    }
   ],
   "source": [
    "disp = metrics.plot_confusion_matrix(logistic_model, X_test, y_test)\n",
    "disp.figure_.suptitle(\"Confusion Matrix\")\n",
    "\n",
    "plt.show()"
   ]
  },
  {
   "cell_type": "markdown",
   "metadata": {},
   "source": [
    "#### Logistic Regression 분석\n",
    "\n",
    "    다른 모델들에서 고전하는 8과 1은 잘 구분하였으나 8과 9를 5로 평가하는 경우가 보인다.\n",
    "    정확도는 95%로 준수하였다."
   ]
  },
  {
   "cell_type": "markdown",
   "metadata": {},
   "source": [
    "### 결론\n",
    "\n",
    "    손글씨 숫자 분류에선 Precision이나 Recall보다는 종합적으로 평가할 수 있는 둘의 조화평균인 f1-score와 정답을 맞춘 비율인 정확도로 평가하는 것이 좋다고 생각한다.\n",
    "    그러므로 두개에서 모두 좋은 결과가 나온 SVM 모델이 가장 적합하고 생각한다.\n",
    "    이처럼 정답의 가짓수가 많을 수록 SVM 모델의 성능이 올라간다고 생각한다."
   ]
  },
  {
   "cell_type": "markdown",
   "metadata": {},
   "source": [
    "## 2. 와인 종류 분류"
   ]
  },
  {
   "cell_type": "code",
   "execution_count": 18,
   "metadata": {},
   "outputs": [
    {
     "name": "stdout",
     "output_type": "stream",
     "text": [
      "     alcohol  malic_acid   ash  alcalinity_of_ash  magnesium  total_phenols  \\\n",
      "0      14.23        1.71  2.43               15.6      127.0           2.80   \n",
      "1      13.20        1.78  2.14               11.2      100.0           2.65   \n",
      "2      13.16        2.36  2.67               18.6      101.0           2.80   \n",
      "3      14.37        1.95  2.50               16.8      113.0           3.85   \n",
      "4      13.24        2.59  2.87               21.0      118.0           2.80   \n",
      "..       ...         ...   ...                ...        ...            ...   \n",
      "173    13.71        5.65  2.45               20.5       95.0           1.68   \n",
      "174    13.40        3.91  2.48               23.0      102.0           1.80   \n",
      "175    13.27        4.28  2.26               20.0      120.0           1.59   \n",
      "176    13.17        2.59  2.37               20.0      120.0           1.65   \n",
      "177    14.13        4.10  2.74               24.5       96.0           2.05   \n",
      "\n",
      "     flavanoids  nonflavanoid_phenols  proanthocyanins  color_intensity   hue  \\\n",
      "0          3.06                  0.28             2.29             5.64  1.04   \n",
      "1          2.76                  0.26             1.28             4.38  1.05   \n",
      "2          3.24                  0.30             2.81             5.68  1.03   \n",
      "3          3.49                  0.24             2.18             7.80  0.86   \n",
      "4          2.69                  0.39             1.82             4.32  1.04   \n",
      "..          ...                   ...              ...              ...   ...   \n",
      "173        0.61                  0.52             1.06             7.70  0.64   \n",
      "174        0.75                  0.43             1.41             7.30  0.70   \n",
      "175        0.69                  0.43             1.35            10.20  0.59   \n",
      "176        0.68                  0.53             1.46             9.30  0.60   \n",
      "177        0.76                  0.56             1.35             9.20  0.61   \n",
      "\n",
      "     od280/od315_of_diluted_wines  proline  label  \n",
      "0                            3.92   1065.0      0  \n",
      "1                            3.40   1050.0      0  \n",
      "2                            3.17   1185.0      0  \n",
      "3                            3.45   1480.0      0  \n",
      "4                            2.93    735.0      0  \n",
      "..                            ...      ...    ...  \n",
      "173                          1.74    740.0      2  \n",
      "174                          1.56    750.0      2  \n",
      "175                          1.56    835.0      2  \n",
      "176                          1.62    840.0      2  \n",
      "177                          1.60    560.0      2  \n",
      "\n",
      "[178 rows x 14 columns] \n",
      "\n",
      "['class_0' 'class_1' 'class_2'] \n",
      "\n",
      "X_train 개수:  142 , X_test 개수:  36\n"
     ]
    }
   ],
   "source": [
    "from sklearn.datasets import load_wine\n",
    "from sklearn.model_selection import train_test_split\n",
    "from sklearn.metrics import classification_report\n",
    "from sklearn.tree import DecisionTreeClassifier\n",
    "from sklearn.metrics import accuracy_score\n",
    "from sklearn.ensemble import RandomForestClassifier\n",
    "from sklearn import svm\n",
    "from sklearn.linear_model import SGDClassifier\n",
    "from sklearn.linear_model import LogisticRegression\n",
    "\n",
    "import pandas as pd\n",
    "\n",
    "wine = load_wine()\n",
    "wine_data = wine.data\n",
    "wine_label = wine.target\n",
    "\n",
    "wine_df = pd.DataFrame(data=wine_data, columns=wine.feature_names)\n",
    "wine_df[\"label\"] = wine.target\n",
    "\n",
    "print(wine_df,'\\n')\n",
    "\n",
    "print(wine.target_names,'\\n')\n",
    "\n",
    "X_train, X_test, y_train, y_test = train_test_split(wine_data, wine_label, test_size=0.2, random_state=7)\n",
    "\n",
    "print('X_train 개수: ', len(X_train), ', X_test 개수: ', len(X_test))\n"
   ]
  },
  {
   "cell_type": "markdown",
   "metadata": {},
   "source": [
    "### a. Decision Tree 모델"
   ]
  },
  {
   "cell_type": "code",
   "execution_count": 19,
   "metadata": {},
   "outputs": [
    {
     "name": "stdout",
     "output_type": "stream",
     "text": [
      "              precision    recall  f1-score   support\n",
      "\n",
      "           0       1.00      1.00      1.00         7\n",
      "           1       0.89      1.00      0.94        17\n",
      "           2       1.00      0.83      0.91        12\n",
      "\n",
      "    accuracy                           0.94        36\n",
      "   macro avg       0.96      0.94      0.95        36\n",
      "weighted avg       0.95      0.94      0.94        36\n",
      "\n",
      "0.9444444444444444\n"
     ]
    }
   ],
   "source": [
    "#Decision_Tree\n",
    "decision_tree = DecisionTreeClassifier(random_state=32)\n",
    "decision_tree.fit(X_train, y_train)\n",
    "\n",
    "y_pred = decision_tree.predict(X_test)\n",
    "\n",
    "print(classification_report(y_test, y_pred))\n",
    "print(accuracy_score(y_test, y_pred))"
   ]
  },
  {
   "cell_type": "code",
   "execution_count": 20,
   "metadata": {},
   "outputs": [
    {
     "data": {
      "image/png": "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\n",
      "text/plain": [
       "<Figure size 432x288 with 2 Axes>"
      ]
     },
     "metadata": {
      "needs_background": "light"
     },
     "output_type": "display_data"
    }
   ],
   "source": [
    "disp = metrics.plot_confusion_matrix(decision_tree, X_test, y_test)\n",
    "disp.figure_.suptitle(\"Confusion Matrix\")\n",
    "\n",
    "plt.show()"
   ]
  },
  {
   "cell_type": "markdown",
   "metadata": {},
   "source": [
    "#### Decision Tree 모델 분석\n",
    "\n",
    "    F1-score는  0.91에서 1이고 정확도는 약 94%였다.\n",
    "    2를 1로 착각하는 경우 외에는 에러가 존재하지 않았다."
   ]
  },
  {
   "cell_type": "markdown",
   "metadata": {},
   "source": [
    "### b. Random Forest 모델"
   ]
  },
  {
   "cell_type": "code",
   "execution_count": 21,
   "metadata": {},
   "outputs": [
    {
     "name": "stdout",
     "output_type": "stream",
     "text": [
      "              precision    recall  f1-score   support\n",
      "\n",
      "           0       1.00      1.00      1.00         7\n",
      "           1       1.00      1.00      1.00        17\n",
      "           2       1.00      1.00      1.00        12\n",
      "\n",
      "    accuracy                           1.00        36\n",
      "   macro avg       1.00      1.00      1.00        36\n",
      "weighted avg       1.00      1.00      1.00        36\n",
      "\n",
      "1.0\n"
     ]
    }
   ],
   "source": [
    "#Random Forest\n",
    "random_forest = RandomForestClassifier(random_state=32)\n",
    "random_forest.fit(X_train, y_train)\n",
    "\n",
    "y_pred = random_forest.predict(X_test)\n",
    "\n",
    "print(classification_report(y_test, y_pred))\n",
    "print(accuracy_score(y_test, y_pred))"
   ]
  },
  {
   "cell_type": "code",
   "execution_count": 22,
   "metadata": {},
   "outputs": [
    {
     "data": {
      "image/png": "iVBORw0KGgoAAAANSUhEUgAAATIAAAEjCAYAAACxTI37AAAAOXRFWHRTb2Z0d2FyZQBNYXRwbG90bGliIHZlcnNpb24zLjMuMiwgaHR0cHM6Ly9tYXRwbG90bGliLm9yZy8vihELAAAACXBIWXMAAAsTAAALEwEAmpwYAAAdlUlEQVR4nO3debwcZZ3v8c/3JCcJCVnIAoQQTFDAyTgCTlRAxeDGolece11Q5CLqRRSXURmVwSsqio6OXhdwYZBBdgFRcAgmCER0ZAmJYRfiRQghyZCELYQlZ/nNH1Undk7O6a7q0326qs/3/XrVK93V1U/9TuXkl6eeehZFBGZmZdbR6gDMzIbKiczMSs+JzMxKz4nMzErPiczMSs+JzMxKz4msjUnaQdKvJD0p6bIhlHO0pMWNjK0VJF0j6dhWx2GN50RWAJLeI+k2SU9LWpv+g3t1A4p+O7ALMC0i3lFvIRFxYUS8qQHxbEPSAkkh6Yp++/dN9y/JWM4XJV1Q67iIODwiflpnuFZgTmQtJulTwHeA00mSzh7AD4AjG1D8C4D7I6K7AWU1y3rgIEnTKvYdC9zfqBMo4d/1dhYR3lq0AZOBp4F3VDlmLEmiW5Nu3wHGpp8tAFYDnwYeBdYCx6WffQnYAnSl5/gA8EXggoqy5wABjE7fvw94ANgE/AU4umL/7yu+dxCwFHgy/fOgis+WAKcB/5mWsxiYPsjP1hf/j4AT032j0n1fAJZUHPtd4GHgKWAZ8Jp0/2H9fs7bK+L4ahrHs8CL0n0fTD//IXB5Rfn/AlwHqNW/F97yb/5fqrUOBMYBv6hyzCnAAcB+wL7AK4DPV3y+K0lCnEWSrM6UtFNEnEpSy/tZROwYET+pFoikCcD3gMMjYiJJsloxwHFTgavTY6cB3wau7lejeg9wHLAzMAY4qdq5gfOA/52+PhS4myRpV1pKcg2mAhcBl0kaFxG/7vdz7lvxnWOA44GJwEP9yvs08FJJ75P0GpJrd2ykWc3KxYmstaYBG6L6rd/RwJcj4tGIWE9S0zqm4vOu9POuiFhIUivZp854eoGXSNohItZGxN0DHPNmYGVEnB8R3RFxMfAn4H9UHPPvEXF/RDwLXEqSgAYVEX8ApkrahyShnTfAMRdExMb0nN8iqanW+jnPjYi70+909SvvGeC9JIn4AuBjEbG6RnlWUE5krbURmC5pdJVjdmPb2sRD6b6tZfRLhM8AO+YNJCI2A+8CTgDWSrpa0oszxNMX06yK9+vqiOd84KPAIQxQQ5X0aUn3pk9gnyCphU6vUebD1T6MiFtJbqVFknCtpJzIWusm4DngbVWOWUPSaN9nD7a/7cpqMzC+4v2ulR9GxKKIeCMwk6SW9W8Z4umL6ZE6Y+pzPvARYGFaW9oqvfX7LPBOYKeImELSPqe+0Acps+ptoqQTSWp2a4DP1B25tZwTWQtFxJMkjdpnSnqbpPGSOiUdLukb6WEXA5+XNEPS9PT4ml0NBrECOFjSHpImAyf3fSBpF0lvTdvKnie5Re0ZoIyFwN5pl5HRkt4FzAP+o86YAIiIvwCvJWkT7G8i0E3yhHO0pC8Akyo+/y9gTp4nk5L2Br5Ccnt5DPAZSfvVF721mhNZi0XEt4FPkTTgrye5Hfoo8Mv0kK8AtwF3AHcCy9N99ZzrWuBnaVnL2Db5dJA0gK8BHiNJKh8ZoIyNwFvSYzeS1GTeEhEb6ompX9m/j4iBapuLgGtIumQ8RFKLrbxt7Ovsu1HS8lrnSW/lLwD+JSJuj4iVwD8D50saO5SfwVpDfkhjZmXnGpmZlZ4TmZmVnhOZmZWeE5mZlZ4TmZmVnhOZmZWeE5mZlZ4TmZmVnhOZmZWeE5mZlZ4TmZmVnhOZmZWeE5mZlZ4TmZmVnhOZmZWeE5mZlZ4TmZmVXrXVe4bd6PETonPy1FaHUVid6za3OgQruefYzJZ4XrWPHNyhh0yIjY8NtJzD9pbd8fyiiDhsKOfLolCJrHPyVOa8/1OtDqOwdv/aH1odgpXcLXHdkMvY+FgPty7aI9Oxo2aurLVkX0MUKpGZWfEF0Etvq8PYhhOZmeUSBF2R7dZyuDiRmVlurpGZWakFQU/BlpF0IjOz3HpxIjOzEgugx4nMzMrONTIzK7UAugrWRuYhSmaWSxD0ZNxqkXSOpEcl3dVv/8ck3SfpbknfqFWOa2Rmlk9AT+MqZOcCZwDn9e2QdAhwJPDSiHhe0s61CnEiM7Nckp79DSor4kZJc/rt/jDw9Yh4Pj3m0Vrl+NbSzHISPRk3YLqk2yq24zOcYG/gNZJukfRbSS+v9QXXyMwsl6SxP/MEGhsiYn7OU4wGdgIOAF4OXCppz4jBnzA4kZlZLkk/siHNBFTLauCKNHHdKqkXmA6sH+wLvrU0s9x6Q5m2Ov0SeB2ApL2BMcCGal9wjczMcmlkjUzSxcACkra01cCpwDnAOWmXjC3AsdVuK8GJzMxyCkRPg27mIuLdg3z03jzlOJGZWW5DuG1sCicyM8slEFtiVKvD2IYTmZnlknSILdZzQicyM8utyd0vcnMiM7NcIkRPuEZmZiXX6xqZmZVZ0thfrNRRrGjMrPDc2G9mbaHH/cjMrMwa2bO/UZzIzCy3Xj+1NLMySwaNO5GZWYkFostDlIptzpTH+dZh1259v/vkpzjj5pdz/u37tjCq4pm/4ClOOG0NozqCay6eyqVn7NLqkAqlna9PBCOrQ6ykw4DvAqOAsyPi6808XyM8+MRO/K9L3glAh3q54bjz+M0De7Y4qmLp6AhOPP0RTj5qTzas7eT7C1dy86LJrFo5rtWhFUL7Xx8VrkNs09KqpFHAmcDhwDzg3ZLmNet8zXDA7o/w8JOTWbtpYqtDKZR99n+GNQ+OYd2qsXR3dbDkyikceOiTrQ6rMNr9+gRJjSzLNlyaeaZXAH+OiAciYgtwCcladaVx+N5/ZuHKF7U6jMKZtmsX69eM2fp+w9pOps/samFExTISrk8PHZm2WgZboDf97CRJIWl6rXKamchmAQ9XvF+d7iuFzo4eDpn7IItWvrDVoRSOBrirqD4R8cjS7tcnyDZff8bJF88FDuu/U9Js4I3AqiyFNDORDfRTbPfXKen4vjXvup/Z3MRw8nn1C1Zxz/rpbHx2fKtDKZwNazuZsduWre+nz+xi47rOFkZULO1+fZLl4EZn2mqWFXEj8NgAH/0/4DMMkDMG0sxEthqYXfF+d2BN/4Mi4qyImB8R80ePn9DEcPI5Yu8/s/D+vVodRiHdt2I8s+ZuYZfZzzO6s5cFRz7BzYsntzqswmj/65Nrgd78pUtvBR6JiNuzfqeZTy2XAntJmgs8AhwFvKeJ52uYcaO7OGj2w3zphoNbHUoh9faIM0+ZxekXPUDHKFh8yVQeur9dnsgNXbtfnyBXz/7pkm6reH9WRJw12MGSxgOnAG/KE1PTEllEdEv6KLCIpPvFORFxd7PO10jPdXfyqrPf3+owCm3p9ZNYev2kVodRWO1+fXLUtvKuNP5CYC5wu5LGxt2B5ZJeERHrBvtSU/uRRcRCYGEzz2FmwytCTRtrGRF3Ajv3vZf0IDA/Iqou0Fus7rlmVnhJY/+oTFst6QK9NwH7SFot6QP1xOQhSmaWU+Pm7K+yQG/f53OylONEZma5JI39xRqi5ERmZrl5Gh8zK7W+nv1F4kRmZrl58REzK7UI6Op1IjOzEktuLZ3IzKzk6h1H2SxOZGaWi7tfmFkb8K2lmbWBos3Z70RmZrkkTy29HJyZlZg7xJpZW/CtpZmVmp9amllb8FNLMyu1CNHtRGZmZVe0W8tipVUzK7y+NrJGLNA70Erjkr4p6U+S7pD0C0lTapXjRGZmuTV5pfFrgZdExEuB+4GTaxXiRGZmufT1I2tEIhtopfGIWBwR3enbm0mWhKvKbWRmlluOfmS5FugdwPuBn9U6yInMzHKJgO7sEyvmXaB3K0mnAN3AhbWOdSIzs9ya/dRS0rHAW4DXR0TUOt6JzMxyafZYS0mHAZ8FXhsRz2T5jhv7zSy3CGXaahlkpfEzgInAtZJWSPpRrXJcIzOz3Bo1aHyQlcZ/krccJzIzyyWieD37ncjMLCfR4+XgzKzssrR/DadCJbLOdZvZ/Wt/aHUYhbVozYpWh1B4h+62X6tDaHuej8zMyi+SdrIicSIzs9w81bWZlVq4sd/M2oFvLc2s9PzU0sxKLcKJzMzagLtfmFnpuY3MzEotEL1+amlmZVewCpkTmZnl5MZ+M2sLBauSOZGZWW6lqZFJ+j5V8m5EfLwpEZlZoQXQ29uYRCbpHJJFRh6NiJek+6aSLAE3B3gQeGdEPF6tnGqPHm4DllXZzGwkCiCUbavtXLZfafxzwHURsRdwXfq+qkFrZBHx08r3kiZExOYskZlZe2tUP7KIuFHSnH67jwQWpK9/CiwhWVVpUDU7g0g6UNI9wL3p+30l/SBnvGbWTiLjlq40XrEdn6H0XSJiLUD65861vpClsf87wKHAVWnBt0s6OMP3zKwtZVvqLVX3SuN5ZOqeGxEP99vV04RYzKwsstfI6vFfkmYCpH8+WusLWRLZw5IOAkLSGEknkd5mmtkIFBC9yrTV6Srg2PT1scCVtb6QJZGdAJwIzAIeAfZL35vZiKWMW41SBl5p/OvAGyWtBN6Yvq+qZhtZRGwAjq4ZkZmNHI17ajnQSuMAr89TTpanlntK+pWk9ZIelXSlpD3znMTM2kxz28hyy3JreRFwKTAT2A24DLi4mUGZWYE1tkNsQ2RJZIqI8yOiO90uoHBDRs1sOEVk24ZLtbGWU9OXN0j6HHAJSQJ7F3D1MMRmZkXVoLGWjVKtsX8ZSeLqi/hDFZ8FcFqzgjKzYlPB7smqjbWcO5yBmFlJDHNDfhaZ5iOT9BJgHjCub19EnNesoMysyIa3IT+LmolM0qkkI9HnAQuBw4HfA05kZiNVwWpkWZ5avp2kc9q6iDgO2BcY29SozKzYejNuwyTLreWzEdErqVvSJJIBnG3dIXb+gqc44bQ1jOoIrrl4KpeesUurQ2q5b31yNrf8ZhJTpndz1g33AfDVD72A1f8/aW3Y/NQoJkzq4Ye/ua+VYRZGW/8O9fUjK5Asiew2SVOAfyN5kvk0cGutLw00hW0ZdHQEJ57+CCcftScb1nby/YUruXnRZFatHFf7y23sTe96jLcet4FvfmKPrftO+fFDW1//+Eu7MWGiJ0WBkfE7VLSnljVvLSPiIxHxRET8iGQA57HpLWYt57L9FLaFt8/+z7DmwTGsWzWW7q4Ollw5hQMPfbLVYbXc3x2wmYk7DZyoIuDGq6ZwyNuqTqs+YoyI36GCDVGq1iH2ZdU+i4jl1QoeZArbwpu2axfr14zZ+n7D2k5e/LJnWhhR8d11ywR2mtHNrD23tDqUQvDv0PCrdmv5rSqfBfC6RgSQTn17PMA4xjeiyCHRALf+wznUooxu+OVOLHBtbKuR8DtUtFvLah1iDxmOACLiLOAsgEma2vLLs2FtJzN2+2vNYvrMLjau62xhRMXW0w3/uXAyZ/z6/laHUhht/zsUFG6IUqaprkeS+1aMZ9bcLewy+3lGd/ay4MgnuHnx5FaHVVjLfzeR2S96nhm7dbU6lMIYEb9DZWkjG6l6e8SZp8zi9IseoGMULL5kKg/d3z5Pm+r1tQ+/gDtu2pEnHxvN0X8/j2M+vY7D3vMYv73St5X9jYTfoUbdWkr6JPBBkrR3J3BcRDyXt5ymJbJ0CtsFJMtBrQZOjYifNOt8jbT0+kksvX5Sq8MolJN/+NCA+0/6zqphjqQc2v53qAGJTNIs4OPAvIh4VtKlwFEkPR5yyTJESSRTXe8ZEV+WtAewa0RU7UtWZQpbMyu7xt02jgZ2kNQFjAfW1FNIljayHwAHAn2JaRNwZj0nM7PyU2TfqLJAb0Q8AvwrsApYCzwZEYvriSnLreUrI+Jlkv6YnvxxSWNqfcnM2lj2p5aDLtAraSfgSGAu8ARwmaT3prNQ55KlRtYlaRRpZVLSDIZ1OKiZFU2OGlk1bwD+EhHrI6ILuAI4qJ54siSy7wG/AHaW9FWSKXxOr+dkZtYmGtP9YhVwgKTxaVv866lz8e8s61peKGlZehIBb4sIrzRuNlJlq23VLibiFkmXA8uBbuCPpJ3j88ry1HIP4BngV5X7IsLP3c1GqsYt0HsqcOpQy8nS2H81f12EZBxJw9x9wN8O9eRmVk4qWCt5llvLv6t8n86K8aFBDjczG3a5e/ZHxHJJL29GMGZWEi2f3mFbWdrIPlXxtgN4GbC+aRGZWbE1qLG/kbLUyCZWvO4maTP7eXPCMbNSKFMiSzvC7hgR/zRM8ZhZGZQlkUkaHRHd1aa8NrORR5TrqeWtJO1hKyRdBVwGbO77MCKuaHJsZlZEJW0jmwpsJJmjv68/WZCMizKzkahEiWzn9InlXfw1gfUp2I9hZsOqYBmgWiIbBezItgmsT8F+DDMbTmW6tVwbEV8etkjMrDxKlMiKtd6TmRVDlOup5euHLQozK5ey1Mgi4rHhDMTMyqNMbWRmZgNzIjOzUhvmVcSzyDJnv5nZVqJhi48gaYqkyyX9SdK9kg6sJybXyMwstwa2kX0X+HVEvD1dZnJ8PYU4kZlZfg1IZJImAQcD7wOIiC3AlnrK8q2lmeWXfTm4QVcaB/YkmaT13yX9UdLZkibUE44TmZnlk7F9LL393BAR8yu2yuXeRpPMsPPDiNifZHadz9UTkhOZmeXXmAV6VwOrI+KW9P3lJIktNycyM8tNvdm2aiJiHfCwpH3SXa8H7qknHjf2l8ihu+3X6hAKT9fPanUIxfahzoYU08Cnlh8DLkyfWD4AHFdPIU5kZpZPAzvERsQKYP5Qy3EiM7P8Ctaz34nMzHLp69lfJE5kZpabeouVyZzIzCyfAg4adyIzs9x8a2lm5edEZmZl5xqZmZWfE5mZlVrJVlEyM9uO+5GZWXuIYmUyJzIzy801MjMrN3eINbN24MZ+Mys9JzIzK7egcI39nurazHJr1AK9AJJGpaso/Ue98TiRmVl+jVl8pM8ngHuHEo4TmZnl0tchthE1Mkm7A28Gzh5KTG4jM7N8Iho5seJ3gM8AE4dSiGtkZpZfA1Yal/QW4NGIWDbUcFwjM7PccvTs3xARg62S9CrgrZKOAMYBkyRdEBHvzRuPa2Rmlk8AvZFtq1ZMxMkRsXtEzAGOAq6vJ4mBa2RmVo9idSNzIjOz/Bo9aDwilgBL6v2+E5mZ5ebl4Mys3Dz7hZmVXdIhtliZzInMzPLz7BdmVnaukZXA/AVPccJpaxjVEVxz8VQuPWOXVodUOL5G24tvPA43PwdTOtA5yfWIHz0JNz0HncDM0fDZndCOJe++WcA2sqZdUUmzJd0g6V5Jd0v6RLPO1UgdHcGJpz/C54+ey/9ZsA+HHPkEe+z1XKvDKhRfo0EcOh6+Pm3bfX8/Fs7ZGZ29C8weDRdtak1sDZWMtcyyDZdm/tfQDXw6Iv4GOAA4UdK8Jp6vIfbZ/xnWPDiGdavG0t3VwZIrp3DgoU+2OqxC8TUamPYdC5O2/Sell49Do5S8+ZsxsL6nBZE1QUS2bZg0LZFFxNqIWJ6+3kQy39CsZp2vUabt2sX6NWO2vt+wtpPpM7taGFHx+BrV6Zpn4BXjWh3F0KUL9GbZhsuwtJFJmgPsD9wyHOcbCmn7fQVr12w5X6P84oJNMAp4ww6tDqUxCvYX3vREJmlH4OfAP0bEUwN8fjxwPMA4xjc7nJo2rO1kxm5btr6fPrOLjes6WxhR8fga5ROLNsPNz8K/TkcD/S9QRsXKY82d/UJSJ0kSuzAirhjomIg4KyLmR8T8TsY2M5xM7lsxnllzt7DL7OcZ3dnLgiOf4ObFk1sdVqH4GmUXtz4HlzwNX5mGxpX8aWUF9fZm2oZL02pkSv7r+Qlwb0R8u1nnabTeHnHmKbM4/aIH6BgFiy+ZykP3t0G7RgP5Gg0sTnsMbn8enuwl3rkW3jcpeUrZBfzTxqQSM68TfXKnFkc6RMGI6hD7KuAY4E5JK9J9/xwRC5t4zoZYev0kll4/qdVhFJqv0fb0f6duv/OICcMfSJOJGDkdYiPi9yTDssys3YyURGZmbcyJzMxKrYBtZO3zGMXMhk0jnlo2chija2RmllPDhh/1DWNcLmkisEzStRFxT96CnMjMLJ+gIYksItYCa9PXmyT1DWN0IjOzYZC9jWy6pNsq3p8VEWf1P2iowxidyMwstxz9yKot0JuUVWMYYxZOZGaWX4O6X2QZxpiFE5mZ5RMBPUPvf9HIYYzufmFm+TVmYsW+YYyvk7Qi3Y6oJxzXyMwsv8Y8tWzYMEYnMjPLJwCvNG5m5RYQxRqj5ERmZvkEDWnsbyQnMjPLz7NfmFnpOZGZWbkN75qVWTiRmVk+AQzjwiJZOJGZWX6ukZlZuTVmiFIjOZGZWT4B4X5kZlZ67tlvZqXnNjIzK7UIP7U0szbgGpmZlVsQPT2tDmIbTmRmlk8Bp/HxDLFmll/0ZttqkHSYpPsk/VnS5+oNxzUyM8slgGhAjUzSKOBM4I3AamCppKvqWaDXNTIzyyeiUTWyVwB/jogHImILcAlwZD0huUZmZrk1qLF/FvBwxfvVwCvrKahQiWwTj2/4TVz+UKvjqDAd2NDqIAqseNfnkFYHsJ2iXaMXDLWATTy+6Ddx+fSMh4+rstL4QAuP1HXPWqhEFhEzWh1DJUm31VoleSTz9amtHa9RRBzWoKJWA7Mr3u8OrKmnILeRmVmrLAX2kjRX0hjgKOCqegoqVI3MzEaOiOiW9FFgETAKOCci7q6nLCey6s6qfciI5utTm69RFRGxEFg41HIUBRszZWaWl9vIzKz0nMgG0KhhE+1K0jmSHpV0V6tjKSJJsyXdIOleSXdL+kSrY2p3vrXsJx02cT8VwyaAd9czbKJdSToYeBo4LyJe0up4ikbSTGBmRCyXNBFYBrzNv0PN4xrZ9ho2bKJdRcSNwGOtjqOoImJtRCxPX28C7iXpxW5N4kS2vYGGTfiX0OoiaQ6wP3BLi0Npa05k22vYsAkb2STtCPwc+MeIeKrV8bQzJ7LtNWzYhI1ckjpJktiFEXFFq+Npd05k22vYsAkbmSQJ+Alwb0R8u9XxjAROZP1ERDfQN2ziXuDSeodNtCtJFwM3AftIWi3pA62OqWBeBRwDvE7SinQ7otVBtTN3vzCz0nONzMxKz4nMzErPiczMSs+JzMxKz4nMzErPiaxEJPWkj/LvknSZpPFDKOtcSW9PX58taV6VYxdIOqiOczwoabtFKgbb3++Yp3Oe64uSTsobo7UHJ7JyeTYi9ktnnNgCnFD5YTpzR24R8cEaMzMsAHInMrPh4kRWXr8DXpTWlm6QdBFwp6RRkr4paamkOyR9CJLe5pLOkHSPpKuBnfsKkrRE0vz09WGSlku6XdJ16aDnE4BPprXB10iaIenn6TmWSnpV+t1pkhZL+qOkHzPwuNVtSPqlpGXpvF3H9/vsW2ks10make57oaRfp9/5naQXN+RqWrlFhLeSbMDT6Z+jgSuBD5PUljYDc9PPjgc+n74eC9wGzAX+J3AtySIPuwFPAG9Pj1sCzAdmkMz80VfW1PTPLwInVcRxEfDq9PUeJENxAL4HfCF9/WaSwfbTB/g5HuzbX3GOHYC7gGnp+wCOTl9/ATgjfX0dsFf6+pXA9QPF6G1kbV58pFx2kLQiff07kvF8BwG3RsRf0v1vAl7a1/4FTAb2Ag4GLo6IHmCNpOsHKP8A4Ma+siJisDnH3gDMS4YUAjApnUDwYJKESURcLenxDD/TxyX9Q/p6dhrrRqAX+Fm6/wLginQ2iYOAyyrOPTbDOazNOZGVy7MRsV/ljvQf9ObKXcDHImJRv+OOoPZ0RMpwDCRNEgdGxLMDxJJ5zJukBSRJ8cCIeEbSEmDcIIdHet4n+l8DM7eRtZ9FwIfTaWSQtLekCcCNwFFpG9pM4JABvnsT8FpJc9PvTk33bwImVhy3mGRgPelx+6UvbwSOTvcdDuxUI9bJwONpEnsxSY2wTwfQV6t8D/D7SOb0+oukd6TnkKR9a5zDRgAnsvZzNnAPsDxdHOTHJDXvXwArgTuBHwK/7f/FiFhP0sZ2haTb+eut3a+Af+hr7Ac+DsxPHybcw1+fnn4JOFjScpJb3FU1Yv01MFrSHcBpwM0Vn20G/lbSMuB1wJfT/UcDH0jjuxtPQ2549gszawOukZlZ6TmRmVnpOZGZWek5kZlZ6TmRmVnpOZGZWek5kZlZ6TmRmVnp/TfyQNaI4j1JSwAAAABJRU5ErkJggg==\n",
      "text/plain": [
       "<Figure size 432x288 with 2 Axes>"
      ]
     },
     "metadata": {
      "needs_background": "light"
     },
     "output_type": "display_data"
    }
   ],
   "source": [
    "disp = metrics.plot_confusion_matrix(random_forest, X_test, y_test)\n",
    "disp.figure_.suptitle(\"Confusion Matrix\")\n",
    "\n",
    "plt.show()"
   ]
  },
  {
   "cell_type": "markdown",
   "metadata": {},
   "source": [
    "#### Random Forest 모델 분석\n",
    "\n",
    "    F1 score는 모두 1이고 정확도도 100%로 이번 분석 모델 중 가장 정확했다.\n",
    "        \n",
    "    다양한 내부 데이터가 존재하는 데이터베이스를 분석할 때 가장 높은 정확도를 보여주는 것 같다,"
   ]
  },
  {
   "cell_type": "markdown",
   "metadata": {},
   "source": [
    "### c. Support Vector Machine 모델"
   ]
  },
  {
   "cell_type": "code",
   "execution_count": 23,
   "metadata": {},
   "outputs": [
    {
     "name": "stdout",
     "output_type": "stream",
     "text": [
      "              precision    recall  f1-score   support\n",
      "\n",
      "           0       0.86      0.86      0.86         7\n",
      "           1       0.58      0.88      0.70        17\n",
      "           2       0.33      0.08      0.13        12\n",
      "\n",
      "    accuracy                           0.61        36\n",
      "   macro avg       0.59      0.61      0.56        36\n",
      "weighted avg       0.55      0.61      0.54        36\n",
      "\n",
      "0.6111111111111112\n"
     ]
    }
   ],
   "source": [
    "#SVM\n",
    "svm_model = svm.SVC()\n",
    "\n",
    "svm_model.fit(X_train, y_train)\n",
    "y_pred = svm_model.predict(X_test)\n",
    "\n",
    "print(classification_report(y_test, y_pred))\n",
    "print(accuracy_score(y_test, y_pred))"
   ]
  },
  {
   "cell_type": "code",
   "execution_count": 24,
   "metadata": {},
   "outputs": [
    {
     "data": {
      "image/png": "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\n",
      "text/plain": [
       "<Figure size 432x288 with 2 Axes>"
      ]
     },
     "metadata": {
      "needs_background": "light"
     },
     "output_type": "display_data"
    }
   ],
   "source": [
    "disp = metrics.plot_confusion_matrix(svm_model, X_test, y_test)\n",
    "disp.figure_.suptitle(\"Confusion Matrix\")\n",
    "\n",
    "plt.show()"
   ]
  },
  {
   "cell_type": "markdown",
   "metadata": {},
   "source": [
    "#### Support Vector Model 분석\n",
    "\n",
    "    손글씨 숫자를 분석할 때와는 다르게 가장 낮은 F1-score와 정확도를 보여주었다.\n",
    "    이는 밑의 SGDClssifier에서도 보이는 현상인데 데이터베이스에 이상치가 존재하거나 선형화되있지 않는 데이터들 때문인 것 같다,"
   ]
  },
  {
   "cell_type": "markdown",
   "metadata": {},
   "source": [
    "### d. Stochastic Gradient Descent Classifier 모델"
   ]
  },
  {
   "cell_type": "code",
   "execution_count": 25,
   "metadata": {},
   "outputs": [
    {
     "name": "stdout",
     "output_type": "stream",
     "text": [
      "              precision    recall  f1-score   support\n",
      "\n",
      "           0       0.86      0.86      0.86         7\n",
      "           1       0.91      0.59      0.71        17\n",
      "           2       0.61      0.92      0.73        12\n",
      "\n",
      "    accuracy                           0.75        36\n",
      "   macro avg       0.79      0.79      0.77        36\n",
      "weighted avg       0.80      0.75      0.75        36\n",
      "\n",
      "0.75\n"
     ]
    }
   ],
   "source": [
    "#SGD Classifier\n",
    "sgd_model = SGDClassifier()\n",
    "\n",
    "sgd_model.fit(X_train, y_train)\n",
    "y_pred = sgd_model.predict(X_test)\n",
    "\n",
    "print(classification_report(y_test, y_pred))\n",
    "print(accuracy_score(y_test, y_pred))"
   ]
  },
  {
   "cell_type": "code",
   "execution_count": 26,
   "metadata": {},
   "outputs": [
    {
     "data": {
      "image/png": "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\n",
      "text/plain": [
       "<Figure size 432x288 with 2 Axes>"
      ]
     },
     "metadata": {
      "needs_background": "light"
     },
     "output_type": "display_data"
    }
   ],
   "source": [
    "disp = metrics.plot_confusion_matrix(sgd_model, X_test, y_test)\n",
    "disp.figure_.suptitle(\"Confusion Matrix\")\n",
    "\n",
    "plt.show()"
   ]
  },
  {
   "cell_type": "markdown",
   "metadata": {},
   "source": [
    "#### Stochastic Gradient Descent Classifier 분석\n",
    "\n",
    "    정확도와 F1-score는 SVM보다 좀 더 높았지만 여전히 낮았다. \n",
    "    정규화된 하이퍼파라미터나 표준화가 필요한 것 같다."
   ]
  },
  {
   "cell_type": "markdown",
   "metadata": {},
   "source": [
    "### e. Logistic Regression 모델"
   ]
  },
  {
   "cell_type": "code",
   "execution_count": 27,
   "metadata": {},
   "outputs": [
    {
     "name": "stdout",
     "output_type": "stream",
     "text": [
      "              precision    recall  f1-score   support\n",
      "\n",
      "           0       1.00      1.00      1.00         7\n",
      "           1       0.94      1.00      0.97        17\n",
      "           2       1.00      0.92      0.96        12\n",
      "\n",
      "    accuracy                           0.97        36\n",
      "   macro avg       0.98      0.97      0.98        36\n",
      "weighted avg       0.97      0.97      0.97        36\n",
      "\n",
      "0.9722222222222222\n"
     ]
    }
   ],
   "source": [
    "#Logistic Regression\n",
    "logistic_model = LogisticRegression(max_iter = 4000)\n",
    "\n",
    "logistic_model.fit(X_train, y_train)\n",
    "y_pred = logistic_model.predict(X_test)\n",
    "\n",
    "print(classification_report(y_test, y_pred))\n",
    "print(accuracy_score(y_test, y_pred))"
   ]
  },
  {
   "cell_type": "code",
   "execution_count": 28,
   "metadata": {},
   "outputs": [
    {
     "data": {
      "image/png": "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\n",
      "text/plain": [
       "<Figure size 432x288 with 2 Axes>"
      ]
     },
     "metadata": {
      "needs_background": "light"
     },
     "output_type": "display_data"
    }
   ],
   "source": [
    "disp = metrics.plot_confusion_matrix(logistic_model, X_test, y_test)\n",
    "disp.figure_.suptitle(\"Confusion Matrix\")\n",
    "\n",
    "plt.show()"
   ]
  },
  {
   "cell_type": "markdown",
   "metadata": {},
   "source": [
    "#### Logistic Regression 분석\n",
    "\n",
    "    이 모델도 97%의 정확도를 보여주었다.\n",
    "    임계값을 기준으로 로지스틱 회귀를 하는 것이 위의 다른 2개의 모델보다 정확도를 올려주는 것 같다."
   ]
  },
  {
   "cell_type": "markdown",
   "metadata": {},
   "source": [
    "### 결론\n",
    "\n",
    "    와인 분류와 같이 내부 데이터가 많고 복잡할 경우 Random Forest 모델이나 Logistic Regression 모델이 적합한 것같다,\n",
    "    다만 이번 실험은 데이터베이스 크기 자체가 작아서 부정확한것 같다."
   ]
  },
  {
   "cell_type": "markdown",
   "metadata": {},
   "source": [
    "## 3. 유방암 검진"
   ]
  },
  {
   "cell_type": "code",
   "execution_count": 29,
   "metadata": {},
   "outputs": [
    {
     "name": "stdout",
     "output_type": "stream",
     "text": [
      "     mean radius  mean texture  mean perimeter  mean area  mean smoothness  \\\n",
      "0          17.99         10.38          122.80     1001.0          0.11840   \n",
      "1          20.57         17.77          132.90     1326.0          0.08474   \n",
      "2          19.69         21.25          130.00     1203.0          0.10960   \n",
      "3          11.42         20.38           77.58      386.1          0.14250   \n",
      "4          20.29         14.34          135.10     1297.0          0.10030   \n",
      "..           ...           ...             ...        ...              ...   \n",
      "564        21.56         22.39          142.00     1479.0          0.11100   \n",
      "565        20.13         28.25          131.20     1261.0          0.09780   \n",
      "566        16.60         28.08          108.30      858.1          0.08455   \n",
      "567        20.60         29.33          140.10     1265.0          0.11780   \n",
      "568         7.76         24.54           47.92      181.0          0.05263   \n",
      "\n",
      "     mean compactness  mean concavity  mean concave points  mean symmetry  \\\n",
      "0             0.27760         0.30010              0.14710         0.2419   \n",
      "1             0.07864         0.08690              0.07017         0.1812   \n",
      "2             0.15990         0.19740              0.12790         0.2069   \n",
      "3             0.28390         0.24140              0.10520         0.2597   \n",
      "4             0.13280         0.19800              0.10430         0.1809   \n",
      "..                ...             ...                  ...            ...   \n",
      "564           0.11590         0.24390              0.13890         0.1726   \n",
      "565           0.10340         0.14400              0.09791         0.1752   \n",
      "566           0.10230         0.09251              0.05302         0.1590   \n",
      "567           0.27700         0.35140              0.15200         0.2397   \n",
      "568           0.04362         0.00000              0.00000         0.1587   \n",
      "\n",
      "     mean fractal dimension  ...  worst texture  worst perimeter  worst area  \\\n",
      "0                   0.07871  ...          17.33           184.60      2019.0   \n",
      "1                   0.05667  ...          23.41           158.80      1956.0   \n",
      "2                   0.05999  ...          25.53           152.50      1709.0   \n",
      "3                   0.09744  ...          26.50            98.87       567.7   \n",
      "4                   0.05883  ...          16.67           152.20      1575.0   \n",
      "..                      ...  ...            ...              ...         ...   \n",
      "564                 0.05623  ...          26.40           166.10      2027.0   \n",
      "565                 0.05533  ...          38.25           155.00      1731.0   \n",
      "566                 0.05648  ...          34.12           126.70      1124.0   \n",
      "567                 0.07016  ...          39.42           184.60      1821.0   \n",
      "568                 0.05884  ...          30.37            59.16       268.6   \n",
      "\n",
      "     worst smoothness  worst compactness  worst concavity  \\\n",
      "0             0.16220            0.66560           0.7119   \n",
      "1             0.12380            0.18660           0.2416   \n",
      "2             0.14440            0.42450           0.4504   \n",
      "3             0.20980            0.86630           0.6869   \n",
      "4             0.13740            0.20500           0.4000   \n",
      "..                ...                ...              ...   \n",
      "564           0.14100            0.21130           0.4107   \n",
      "565           0.11660            0.19220           0.3215   \n",
      "566           0.11390            0.30940           0.3403   \n",
      "567           0.16500            0.86810           0.9387   \n",
      "568           0.08996            0.06444           0.0000   \n",
      "\n",
      "     worst concave points  worst symmetry  worst fractal dimension  label  \n",
      "0                  0.2654          0.4601                  0.11890      0  \n",
      "1                  0.1860          0.2750                  0.08902      0  \n",
      "2                  0.2430          0.3613                  0.08758      0  \n",
      "3                  0.2575          0.6638                  0.17300      0  \n",
      "4                  0.1625          0.2364                  0.07678      0  \n",
      "..                    ...             ...                      ...    ...  \n",
      "564                0.2216          0.2060                  0.07115      0  \n",
      "565                0.1628          0.2572                  0.06637      0  \n",
      "566                0.1418          0.2218                  0.07820      0  \n",
      "567                0.2650          0.4087                  0.12400      0  \n",
      "568                0.0000          0.2871                  0.07039      1  \n",
      "\n",
      "[569 rows x 31 columns] \n",
      "\n",
      "['malignant' 'benign'] \n",
      "\n",
      "X_train 개수:  455 , X_test 개수:  114\n"
     ]
    }
   ],
   "source": [
    "from sklearn.datasets import load_breast_cancer\n",
    "from sklearn.model_selection import train_test_split\n",
    "from sklearn.metrics import classification_report\n",
    "from sklearn.tree import DecisionTreeClassifier\n",
    "from sklearn.metrics import accuracy_score\n",
    "from sklearn.ensemble import RandomForestClassifier\n",
    "from sklearn import svm\n",
    "from sklearn.linear_model import SGDClassifier\n",
    "from sklearn.linear_model import LogisticRegression\n",
    "\n",
    "import pandas as pd\n",
    "\n",
    "breast_cancer = load_breast_cancer()\n",
    "breast_cancer_data = breast_cancer.data\n",
    "breast_cancer_label = breast_cancer.target\n",
    "\n",
    "breast_cancer_df = pd.DataFrame(data=breast_cancer_data, columns=breast_cancer.feature_names)\n",
    "breast_cancer_df[\"label\"] = breast_cancer.target\n",
    "\n",
    "print(breast_cancer_df,'\\n')\n",
    "\n",
    "print(breast_cancer.target_names,'\\n')\n",
    "\n",
    "X_train, X_test, y_train, y_test = train_test_split(breast_cancer_data, breast_cancer_label, test_size=0.2, random_state=7)\n",
    "\n",
    "print('X_train 개수: ', len(X_train), ', X_test 개수: ', len(X_test))"
   ]
  },
  {
   "cell_type": "markdown",
   "metadata": {},
   "source": [
    "## 이번 분석의 경우 암이 아니더라고 일단 있다고 나오면 경고해주는 것이 중요하기 때문에 Recall값을 더 중요하게 봐야한다."
   ]
  },
  {
   "cell_type": "markdown",
   "metadata": {},
   "source": [
    "### a. Decision Tree 모델"
   ]
  },
  {
   "cell_type": "code",
   "execution_count": 30,
   "metadata": {},
   "outputs": [
    {
     "name": "stdout",
     "output_type": "stream",
     "text": [
      "              precision    recall  f1-score   support\n",
      "\n",
      "           0       0.92      0.82      0.87        40\n",
      "           1       0.91      0.96      0.93        74\n",
      "\n",
      "    accuracy                           0.91       114\n",
      "   macro avg       0.91      0.89      0.90       114\n",
      "weighted avg       0.91      0.91      0.91       114\n",
      "\n",
      "0.9122807017543859\n"
     ]
    }
   ],
   "source": [
    "#Decision_Tree\n",
    "decision_tree = DecisionTreeClassifier(random_state=32)\n",
    "decision_tree.fit(X_train, y_train)\n",
    "\n",
    "y_pred = decision_tree.predict(X_test)\n",
    "\n",
    "print(classification_report(y_test, y_pred))\n",
    "print(accuracy_score(y_test, y_pred))"
   ]
  },
  {
   "cell_type": "code",
   "execution_count": 31,
   "metadata": {},
   "outputs": [
    {
     "data": {
      "image/png": "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\n",
      "text/plain": [
       "<Figure size 432x288 with 2 Axes>"
      ]
     },
     "metadata": {
      "needs_background": "light"
     },
     "output_type": "display_data"
    }
   ],
   "source": [
    "disp = metrics.plot_confusion_matrix(decision_tree, X_test, y_test)\n",
    "disp.figure_.suptitle(\"Confusion Matrix\")\n",
    "\n",
    "plt.show()"
   ]
  },
  {
   "cell_type": "markdown",
   "metadata": {},
   "source": [
    "#### Decision Tree 모델 분석\n",
    "\n",
    "    Recall의 평균이 0.89이고 정확도는 약 91%이다.\n",
    "    골고루 오류가 흩어져 있어서 정확도는 높으나 적합하지 않은 모델인것같다.\n",
    "    "
   ]
  },
  {
   "cell_type": "markdown",
   "metadata": {},
   "source": [
    "### b. Random Forest 모델"
   ]
  },
  {
   "cell_type": "code",
   "execution_count": 32,
   "metadata": {},
   "outputs": [
    {
     "name": "stdout",
     "output_type": "stream",
     "text": [
      "              precision    recall  f1-score   support\n",
      "\n",
      "           0       1.00      1.00      1.00        40\n",
      "           1       1.00      1.00      1.00        74\n",
      "\n",
      "    accuracy                           1.00       114\n",
      "   macro avg       1.00      1.00      1.00       114\n",
      "weighted avg       1.00      1.00      1.00       114\n",
      "\n",
      "1.0\n"
     ]
    }
   ],
   "source": [
    "#Random Forest\n",
    "random_forest = RandomForestClassifier(random_state=32)\n",
    "random_forest.fit(X_train, y_train)\n",
    "\n",
    "y_pred = random_forest.predict(X_test)\n",
    "\n",
    "print(classification_report(y_test, y_pred))\n",
    "print(accuracy_score(y_test, y_pred))"
   ]
  },
  {
   "cell_type": "code",
   "execution_count": 33,
   "metadata": {},
   "outputs": [
    {
     "data": {
      "image/png": "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\n",
      "text/plain": [
       "<Figure size 432x288 with 2 Axes>"
      ]
     },
     "metadata": {
      "needs_background": "light"
     },
     "output_type": "display_data"
    }
   ],
   "source": [
    "disp = metrics.plot_confusion_matrix(random_forest, X_test, y_test)\n",
    "disp.figure_.suptitle(\"Confusion Matrix\")\n",
    "\n",
    "plt.show()"
   ]
  },
  {
   "cell_type": "markdown",
   "metadata": {},
   "source": [
    "#### Random Forest 모델 분석\n",
    "\n",
    "    Recall의 평균과 정확도 모두 1로 가장 정확한 모델로 평가했다.\n",
    "    그러나 워낙 테스트 데이터가 적어서 확신할 수 없다."
   ]
  },
  {
   "cell_type": "markdown",
   "metadata": {},
   "source": [
    "### c. Support Vector Machine 모델"
   ]
  },
  {
   "cell_type": "code",
   "execution_count": 34,
   "metadata": {},
   "outputs": [
    {
     "name": "stdout",
     "output_type": "stream",
     "text": [
      "              precision    recall  f1-score   support\n",
      "\n",
      "           0       1.00      0.72      0.84        40\n",
      "           1       0.87      1.00      0.93        74\n",
      "\n",
      "    accuracy                           0.90       114\n",
      "   macro avg       0.94      0.86      0.89       114\n",
      "weighted avg       0.92      0.90      0.90       114\n",
      "\n",
      "0.9035087719298246\n"
     ]
    }
   ],
   "source": [
    "#SVM\n",
    "svm_model = svm.SVC()\n",
    "\n",
    "svm_model.fit(X_train, y_train)\n",
    "y_pred = svm_model.predict(X_test)\n",
    "\n",
    "print(classification_report(y_test, y_pred))\n",
    "print(accuracy_score(y_test, y_pred))"
   ]
  },
  {
   "cell_type": "code",
   "execution_count": 35,
   "metadata": {},
   "outputs": [
    {
     "data": {
      "image/png": "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\n",
      "text/plain": [
       "<Figure size 432x288 with 2 Axes>"
      ]
     },
     "metadata": {
      "needs_background": "light"
     },
     "output_type": "display_data"
    }
   ],
   "source": [
    "disp = metrics.plot_confusion_matrix(svm_model, X_test, y_test)\n",
    "disp.figure_.suptitle(\"Confusion Matrix\")\n",
    "\n",
    "plt.show()"
   ]
  },
  {
   "cell_type": "markdown",
   "metadata": {},
   "source": [
    "#### Support Vector Model 분석\n",
    "\n",
    "    걸린 사람은 정확하게 찾아냈으나 안 걸린 사람 중에 걸렸다고 평가한 경우가 꽤나 많았다.\n",
    "    밑의 Logistic Regression 모델과 비슷한 경향을 보인다."
   ]
  },
  {
   "cell_type": "markdown",
   "metadata": {},
   "source": [
    "### d. Stochastic Gradient Descent Classifier 모델"
   ]
  },
  {
   "cell_type": "code",
   "execution_count": 36,
   "metadata": {},
   "outputs": [
    {
     "name": "stdout",
     "output_type": "stream",
     "text": [
      "              precision    recall  f1-score   support\n",
      "\n",
      "           0       0.80      0.90      0.85        40\n",
      "           1       0.94      0.88      0.91        74\n",
      "\n",
      "    accuracy                           0.89       114\n",
      "   macro avg       0.87      0.89      0.88       114\n",
      "weighted avg       0.89      0.89      0.89       114\n",
      "\n",
      "0.8859649122807017\n"
     ]
    }
   ],
   "source": [
    "#SGD Classifier\n",
    "sgd_model = SGDClassifier()\n",
    "\n",
    "sgd_model.fit(X_train, y_train)\n",
    "y_pred = sgd_model.predict(X_test)\n",
    "\n",
    "print(classification_report(y_test, y_pred))\n",
    "print(accuracy_score(y_test, y_pred))"
   ]
  },
  {
   "cell_type": "code",
   "execution_count": 37,
   "metadata": {},
   "outputs": [
    {
     "data": {
      "image/png": "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\n",
      "text/plain": [
       "<Figure size 432x288 with 2 Axes>"
      ]
     },
     "metadata": {
      "needs_background": "light"
     },
     "output_type": "display_data"
    }
   ],
   "source": [
    "disp = metrics.plot_confusion_matrix(sgd_model, X_test, y_test)\n",
    "disp.figure_.suptitle(\"Confusion Matrix\")\n",
    "\n",
    "plt.show()"
   ]
  },
  {
   "cell_type": "markdown",
   "metadata": {},
   "source": [
    "#### Stochastic Gradient Descent Classifier 분석\n",
    "\n",
    "    정확도는 약 89%였고 Recall도 0.89로 가장 부정확한 모델이였다."
   ]
  },
  {
   "cell_type": "markdown",
   "metadata": {},
   "source": [
    "### e. Logistic Regression 모델"
   ]
  },
  {
   "cell_type": "code",
   "execution_count": 38,
   "metadata": {},
   "outputs": [
    {
     "name": "stdout",
     "output_type": "stream",
     "text": [
      "              precision    recall  f1-score   support\n",
      "\n",
      "           0       1.00      0.85      0.92        40\n",
      "           1       0.93      1.00      0.96        74\n",
      "\n",
      "    accuracy                           0.95       114\n",
      "   macro avg       0.96      0.93      0.94       114\n",
      "weighted avg       0.95      0.95      0.95       114\n",
      "\n",
      "0.9473684210526315\n"
     ]
    }
   ],
   "source": [
    "#Logistic Regression\n",
    "logistic_model = LogisticRegression(max_iter = 2000)\n",
    "\n",
    "logistic_model.fit(X_train, y_train)\n",
    "y_pred = logistic_model.predict(X_test)\n",
    "\n",
    "print(classification_report(y_test, y_pred))\n",
    "print(accuracy_score(y_test, y_pred))"
   ]
  },
  {
   "cell_type": "code",
   "execution_count": 39,
   "metadata": {
    "scrolled": true
   },
   "outputs": [
    {
     "data": {
      "image/png": "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\n",
      "text/plain": [
       "<Figure size 432x288 with 2 Axes>"
      ]
     },
     "metadata": {
      "needs_background": "light"
     },
     "output_type": "display_data"
    }
   ],
   "source": [
    "disp = metrics.plot_confusion_matrix(logistic_model, X_test, y_test)\n",
    "disp.figure_.suptitle(\"Confusion Matrix\")\n",
    "\n",
    "plt.show()"
   ]
  },
  {
   "cell_type": "markdown",
   "metadata": {},
   "source": [
    "#### Logistic Regression 분석\n",
    "\n",
    "    Recall값은 0.93이고 정확도는 약 95%로 뛰어난 정확도를 보여주었다."
   ]
  },
  {
   "cell_type": "markdown",
   "metadata": {},
   "source": [
    "### 결론\n",
    "\n",
    "    정확도는 일단 Random Forest 모델이 가장 높았다.\n",
    "    이는 내부의 데이터가 다양해서 다양한 데이터를 고려해서 평가를 내리기 때문에 이런 결과가 나온것같다.\n",
    "    \n",
    "    또한 Logistic Regression의 선형 분석 또한 높은 정확도를 보여주었는데 이는 내부 데이터의 임계값이 하나라도 높으면 잡아내서 경고해주기 때문인것같다.\n",
    "    \n",
    "    더 많은 데이터를 이용하여 평가할땐 Logistic Regression 모델이 더 정확 할 것 같다.\n",
    "\n",
    "******************************************************************************************************************"
   ]
  },
  {
   "cell_type": "markdown",
   "metadata": {},
   "source": [
    "## 총평\n",
    "\n",
    "    각각의 장 단점이 있으나 내부의 데이터가 많을 경우엔 Random Forest 모델, 결과값이 다양할 경우엔 Support Vector Machine 모델을, 그리고 임계값이 정해져 있을 땐 Logistic Regression 모델이 정확한 것 같다."
   ]
  },
 ],
 "metadata": {
  "kernelspec": {
   "display_name": "aiffel",
   "language": "python",
   "name": "aiffel"
  },
  "language_info": {
   "codemirror_mode": {
    "name": "ipython",
    "version": 3
   },
   "file_extension": ".py",
   "mimetype": "text/x-python",
   "name": "python",
   "nbconvert_exporter": "python",
   "pygments_lexer": "ipython3",
   "version": "3.7.9"
  }
 },
 "nbformat": 4,
 "nbformat_minor": 4
}
