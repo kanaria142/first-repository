{
 "cells": [
  {
   "cell_type": "markdown",
   "metadata": {},
   "source": [
    "# (E04)4th_project-Movie_Review_Sentiment_ Analysis\n",
    "***********************************************************************************************\n"
   ]
  },
  {
   "cell_type": "markdown",
   "metadata": {},
   "source": [
    "## 1. 데이터 준비와 확인\n",
    "\n",
    "      20만개로 이루어진 네이버 영화 평론 댓글 모음을 준비하고 전처리를 진행한다."
   ]
  },
  {
   "cell_type": "code",
   "execution_count": 1,
   "metadata": {},
   "outputs": [
    {
     "name": "stdout",
     "output_type": "stream",
     "text": [
      "훈련용 리뷰 개수 : 150000\n",
      "테스트용 리뷰 개수 : 50000\n"
     ]
    }
   ],
   "source": [
    "import pandas as pd\n",
    "import urllib.request\n",
    "%matplotlib inline\n",
    "import matplotlib.pyplot as plt\n",
    "import re\n",
    "from konlpy.tag import Okt\n",
    "from tensorflow import keras\n",
    "from tensorflow.keras.preprocessing.text import Tokenizer\n",
    "import numpy as np\n",
    "from tensorflow.keras.preprocessing.sequence import pad_sequences\n",
    "from collections import Counter\n",
    "\n",
    "# 데이터를 읽어봅시다. \n",
    "train_data = pd.read_table('~/aiffel/sentiment_classification/ratings_train.txt')\n",
    "test_data = pd.read_table('~/aiffel/sentiment_classification/ratings_test.txt')\n",
    "\n",
    "train_data.head()\n",
    "\n",
    "print('훈련용 리뷰 개수 :',len(train_data)) # 훈련용 리뷰 개수 출력\n",
    "print('테스트용 리뷰 개수 :',len(test_data)) # 테스트용 리뷰 개수 출력"
   ]
  },
  {
   "cell_type": "markdown",
   "metadata": {},
   "source": [
    "      불러온 데이터가 훈련용 150000개, 테스트용 50000개로 총 20만개인것을 확인할 수 있다."
   ]
  },
  {
   "cell_type": "code",
   "execution_count": 2,
   "metadata": {},
   "outputs": [],
   "source": [
    "from konlpy.tag import Mecab\n",
    "tokenizer = Mecab()\n",
    "stopwords = ['의','가','이','은','들','는','좀','잘','걍','과','도','를','으로','자','에','와','한','하다']\n",
    "num_words = 10000"
   ]
  },
  {
   "cell_type": "markdown",
   "metadata": {},
   "source": [
    "      불용어를 제거하는 코드입니다."
   ]
  },
  {
   "cell_type": "code",
   "execution_count": 3,
   "metadata": {},
   "outputs": [
    {
     "name": "stdout",
     "output_type": "stream",
     "text": [
      "훈련용 리뷰 개수 : 146183\n"
     ]
    }
   ],
   "source": [
    "train_data.drop_duplicates(subset=['document'], inplace=True)\n",
    "print('훈련용 리뷰 개수 :',len(train_data)) # 훈련용 리뷰 개수 출력"
   ]
  },
  {
   "cell_type": "markdown",
   "metadata": {},
   "source": [
    "      불용어를 제거 한 후 훈련용 리뷰에서 중복된 리뷰를 찾아 제거합니다.\n",
    "      남은 훈련용 리뷰 개수는 146183개입니다"
   ]
  },
  {
   "cell_type": "code",
   "execution_count": 4,
   "metadata": {},
   "outputs": [
    {
     "name": "stdout",
     "output_type": "stream",
     "text": [
      "True\n",
      "False\n",
      "훈련용 리뷰 개수 : 146182\n"
     ]
    }
   ],
   "source": [
    "print(train_data.isnull().values.any())\n",
    "train_data = train_data.dropna(how = 'any') \n",
    "\n",
    "print(train_data.isnull().values.any())\n",
    "print('훈련용 리뷰 개수 :',len(train_data)) # 훈련용 리뷰 개수 출력"
   ]
  },
  {
   "cell_type": "markdown",
   "metadata": {},
   "source": [
    "      남은 훈련용 리뷰에서 값이 없는(NULL) 리뷰가 있는지 찾습니다\n",
    "      존재한다면 두번째 줄 코드를 실행하여 제거하고 다시 있는지 확인합니다.\n",
    "      1개가 제거되어 146182개가 남아있습니다."
   ]
  },
  {
   "cell_type": "code",
   "execution_count": 5,
   "metadata": {},
   "outputs": [
    {
     "name": "stdout",
     "output_type": "stream",
     "text": [
      "id            0\n",
      "document    391\n",
      "label         0\n",
      "dtype: int64\n",
      "훈련용 리뷰 개수 : 145791\n"
     ]
    }
   ],
   "source": [
    "train_data['document'] = train_data['document'].str.replace(\"[^ㄱ-ㅎㅏ-ㅣ가-힣 ]\",\"\")\n",
    "train_data['document'].replace('', np.nan, inplace=True)\n",
    "print(train_data.isnull().sum())\n",
    "\n",
    "train_data = train_data.dropna(how = 'any')\n",
    "print('훈련용 리뷰 개수 :',len(train_data)) # 훈련용 리뷰 개수 출력"
   ]
  },
  {
   "cell_type": "markdown",
   "metadata": {},
   "source": [
    "      마지막으로 한글과 공백을 제외한 나머지를 제거하는 코드를 실행해줍니다.\n",
    "      숫자, 영어, 특수기호로만 이루어진 리뷰가 총 391개로 NULL값을 가지게 된 것을 알 수 있습니다.\n",
    "      마찬가지로 공백이 된 이 데이터를 제거해줍니다."
   ]
  },
  {
   "cell_type": "code",
   "execution_count": 6,
   "metadata": {},
   "outputs": [
    {
     "name": "stdout",
     "output_type": "stream",
     "text": [
      "테스트용 리뷰 개수 : 49158\n"
     ]
    }
   ],
   "source": [
    "test_data.drop_duplicates(subset=['document'], inplace=True)\n",
    "print('테스트용 리뷰 개수 :',len(test_data)) # 테스트용 리뷰 개수 출력\\"
   ]
  },
  {
   "cell_type": "code",
   "execution_count": 7,
   "metadata": {},
   "outputs": [
    {
     "name": "stdout",
     "output_type": "stream",
     "text": [
      "True\n",
      "False\n",
      "테스트용 리뷰 개수 : 49157\n"
     ]
    }
   ],
   "source": [
    "print(test_data.isnull().values.any())\n",
    "test_data = test_data.dropna(how = 'any') \n",
    "\n",
    "print(test_data.isnull().values.any())\n",
    "print('테스트용 리뷰 개수 :',len(test_data)) # 테스트용 리뷰 개수 출력"
   ]
  },
  {
   "cell_type": "code",
   "execution_count": 8,
   "metadata": {},
   "outputs": [
    {
     "name": "stdout",
     "output_type": "stream",
     "text": [
      "id            0\n",
      "document    162\n",
      "label         0\n",
      "dtype: int64\n",
      "테스트용 리뷰 개수 : 48995\n"
     ]
    }
   ],
   "source": [
    "test_data['document'] = test_data['document'].str.replace(\"[^ㄱ-ㅎㅏ-ㅣ가-힣 ]\",\"\")\n",
    "test_data['document'].replace('', np.nan, inplace=True)\n",
    "print(test_data.isnull().sum())\n",
    "\n",
    "test_data = test_data.dropna(how = 'any')\n",
    "print('테스트용 리뷰 개수 :',len(test_data)) # 테스트용 리뷰 개수 출력"
   ]
  },
  {
   "cell_type": "markdown",
   "metadata": {},
   "source": [
    "      위의 훈련용 데이터에 해준 과정을 테스트 데이터에도 시행해줍니다,\n",
    "      남은 것이 총 48995개인 것을 확인 할 수 있습니다."
   ]
  },
  {
   "cell_type": "code",
   "execution_count": 9,
   "metadata": {},
   "outputs": [],
   "source": [
    "X_train = []\n",
    "for sentence in train_data['document']:\n",
    "    temp_X = tokenizer.morphs(sentence) # 토큰화\n",
    "    temp_X = [word for word in temp_X if not word in stopwords] # 불용어 제거\n",
    "    X_train.append(temp_X)\n",
    "\n",
    "X_test = []\n",
    "for sentence in test_data['document']:\n",
    "    temp_X = tokenizer.morphs(sentence) # 토큰화\n",
    "    temp_X = [word for word in temp_X if not word in stopwords] # 불용어 제거\n",
    "    X_test.append(temp_X)"
   ]
  },
  {
   "cell_type": "markdown",
   "metadata": {},
   "source": [
    "      남은 리뷰 데이터들을 토큰화 해줍니다"
   ]
  },
  {
   "cell_type": "code",
   "execution_count": 10,
   "metadata": {},
   "outputs": [
    {
     "name": "stdout",
     "output_type": "stream",
     "text": [
      "훈련용 리뷰 개수 : 145791\n",
      "테스트용 리뷰 개수 : 48995\n",
      "(145791,)\n"
     ]
    }
   ],
   "source": [
    "words = np.concatenate(X_train).tolist()\n",
    "vocab_size = 10000\n",
    "counter = Counter(words)\n",
    "counter = counter.most_common(vocab_size-4)\n",
    "vocab = ['<PAD>', '<BOS>', '<UNK>', '<UNUSED>'] + [key for key, _ in counter]\n",
    "word_to_index = {word:index for index, word in enumerate(vocab)}\n",
    "\n",
    "def wordlist_to_indexlist(wordlist):\n",
    "    return [word_to_index[word] if word in word_to_index else word_to_index['<UNK>'] for word in wordlist]\n",
    "\n",
    "X_train = list(map(wordlist_to_indexlist, X_train))\n",
    "X_test = list(map(wordlist_to_indexlist, X_test))\n",
    "\n",
    "y_train = np.array(list(train_data['label']))\n",
    "y_test = np.array(list(test_data['label']))\n",
    "\n",
    "\n",
    "print('훈련용 리뷰 개수 :',len(X_train)) # 훈련용 리뷰 개수 출력\n",
    "print('테스트용 리뷰 개수 :',len(X_test)) # 테스트용 리뷰 개수 출력\n",
    "print(y_train.shape)"
   ]
  },
  {
   "cell_type": "markdown",
   "metadata": {},
   "source": [
    "      텍스트 스트링을 사전 인덱스 스트링으로 변환해줍니다."
   ]
  },
  {
   "cell_type": "code",
   "execution_count": 11,
   "metadata": {},
   "outputs": [],
   "source": [
    "index_to_word = {index:word for word, index in word_to_index.items()}"
   ]
  },
  {
   "cell_type": "code",
   "execution_count": 12,
   "metadata": {},
   "outputs": [],
   "source": [
    "# 문장 1개를 활용할 딕셔너리와 함께 주면, 단어 인덱스 리스트 벡터로 변환해 주는 함수입니다. \n",
    "# 단, 모든 문장은 <BOS>로 시작하는 것으로 합니다. \n",
    "def get_encoded_sentence(sentence, word_to_index):\n",
    "    return [word_to_index['<BOS>']]+[word_to_index[word] if word in word_to_index else word_to_index['<UNK>'] for word in sentence.split()]\n",
    "\n",
    "# 여러 개의 문장 리스트를 한꺼번에 단어 인덱스 리스트 벡터로 encode해 주는 함수입니다. \n",
    "def get_encoded_sentences(sentences, word_to_index):\n",
    "    return [get_encoded_sentence(sentence, word_to_index) for sentence in sentences]\n",
    "\n",
    "# 숫자 벡터로 encode된 문장을 원래대로 decode하는 함수입니다. \n",
    "def get_decoded_sentence(encoded_sentence, index_to_word):\n",
    "    return ' '.join(index_to_word[index] if index in index_to_word else '<UNK>' for index in encoded_sentence[1:])  #[1:]를 통해 <BOS>를 제외\n",
    "\n",
    "# 여러개의 숫자 벡터로 encode된 문장을 한꺼번에 원래대로 decode하는 함수입니다. \n",
    "def get_decoded_sentences(encoded_sentences, index_to_word):\n",
    "    return [get_decoded_sentence(encoded_sentence, index_to_word) for encoded_sentence in encoded_sentences]"
   ]
  },
  {
   "cell_type": "code",
   "execution_count": 13,
   "metadata": {},
   "outputs": [
    {
     "name": "stdout",
     "output_type": "stream",
     "text": [
      "문장길이 평균 :  13.757179674103888\n",
      "문장길이 최대 :  83\n",
      "문장길이 표준편차 :  11.462771769216866\n",
      "pad_sequences maxlen :  36\n",
      "전체 문장의 0.9338145451931864%가 maxlen 설정값 이내에 포함됩니다. \n"
     ]
    }
   ],
   "source": [
    "total_data_text = list(X_train) + list(X_test)\n",
    "# 텍스트데이터 문장길이의 리스트를 생성한 후\n",
    "num_tokens = [len(tokens) for tokens in total_data_text]\n",
    "num_tokens = np.array(num_tokens)\n",
    "# 문장길이의 평균값, 최대값, 표준편차를 계산해 본다. \n",
    "print('문장길이 평균 : ', np.mean(num_tokens))\n",
    "print('문장길이 최대 : ', np.max(num_tokens))\n",
    "print('문장길이 표준편차 : ', np.std(num_tokens))\n",
    "\n",
    "# 예를들어, 최대 길이를 (평균 + 2*표준편차)로 한다면,  \n",
    "max_tokens = np.mean(num_tokens) + 2 * np.std(num_tokens)\n",
    "maxlen = int(max_tokens)\n",
    "print('pad_sequences maxlen : ', maxlen)\n",
    "print('전체 문장의 {}%가 maxlen 설정값 이내에 포함됩니다. '.format(np.sum(num_tokens < max_tokens) / len(num_tokens)))"
   ]
  },
  {
   "cell_type": "markdown",
   "metadata": {},
   "source": [
    "      문장길이의 평균과 최대, 표준편차를 구하고 약 93%의 길이인 36을 최대 길이로 설정해줍니다."
   ]
  },
  {
   "cell_type": "code",
   "execution_count": 14,
   "metadata": {},
   "outputs": [
    {
     "name": "stdout",
     "output_type": "stream",
     "text": [
      "[27, 67, 895, 33, 214, 15, 28, 699]\n",
      "더 빙 진짜 짜증 나 네요 목소리\n",
      "라벨:  0\n"
     ]
    }
   ],
   "source": [
    "print(X_train[0])\n",
    "\n",
    "print(get_decoded_sentence(X_train[0], index_to_word))\n",
    "print('라벨: ', y_train[0])  # 1번째 리뷰데이터의 라벨"
   ]
  },
  {
   "cell_type": "markdown",
   "metadata": {},
   "source": [
    "      리뷰 데이터 변환이 잘 진행됬는지 확인해봅니다."
   ]
  },
  {
   "cell_type": "code",
   "execution_count": 15,
   "metadata": {},
   "outputs": [
    {
     "name": "stdout",
     "output_type": "stream",
     "text": [
      "(145791, 36)\n",
      "(145791,)\n"
     ]
    }
   ],
   "source": [
    "x_train = keras.preprocessing.sequence.pad_sequences(X_train,\n",
    "                                                        value=word_to_index[\"<PAD>\"],\n",
    "                                                        padding='pre',\n",
    "                                                        maxlen=maxlen)\n",
    "\n",
    "x_test = keras.preprocessing.sequence.pad_sequences(X_test,\n",
    "                                                       value=word_to_index[\"<PAD>\"],\n",
    "                                                       padding='pre',\n",
    "                                                       maxlen=maxlen)\n",
    "\n",
    "print(x_train.shape)\n",
    "print(y_train.shape)"
   ]
  },
  {
   "cell_type": "markdown",
   "metadata": {},
   "source": [
    "       padding 방식을 문장 뒷쪽('post')과 앞쪽('pre') 중 어느쪽으로 하느냐에 따라 RNN을 이용한 딥러닝 적용 시 성능 차이가 발생한다. 성능이 더 좋은 'pre'를 이용해서 학습을 진행한다."
   ]
  },
  {
   "cell_type": "code",
   "execution_count": 16,
   "metadata": {},
   "outputs": [
    {
     "name": "stdout",
     "output_type": "stream",
     "text": [
      "(100000, 36)\n",
      "(100000,)\n"
     ]
    }
   ],
   "source": [
    "# validation set 45791건 분리\n",
    "x_val = x_train[:45791]   \n",
    "y_val = y_train[:45791]\n",
    "\n",
    "# validation set을 제외한 나머지 100000건\n",
    "partial_x_train = x_train[45791:]  \n",
    "partial_y_train = y_train[45791:]\n",
    "\n",
    "print(partial_x_train.shape)\n",
    "print(partial_y_train.shape)"
   ]
  },
  {
   "cell_type": "markdown",
   "metadata": {},
   "source": [
    "      테스트 리뷰 45791개를 검증셋으로 넘기고 나머지는 학습용으로 씁니다."
   ]
  },
  {
   "cell_type": "markdown",
   "metadata": {},
   "source": [
    "## 2. 각종 모델 학습 결과와 평가\n",
    "\n",
    "### 1)  RNN 모델"
   ]
  },
  {
   "cell_type": "code",
   "execution_count": 17,
   "metadata": {},
   "outputs": [
    {
     "name": "stdout",
     "output_type": "stream",
     "text": [
      "Model: \"sequential\"\n",
      "_________________________________________________________________\n",
      "Layer (type)                 Output Shape              Param #   \n",
      "=================================================================\n",
      "embedding (Embedding)        (None, None, 100)         1000000   \n",
      "_________________________________________________________________\n",
      "lstm (LSTM)                  (None, 100)               80400     \n",
      "_________________________________________________________________\n",
      "dense (Dense)                (None, 8)                 808       \n",
      "_________________________________________________________________\n",
      "dense_1 (Dense)              (None, 1)                 9         \n",
      "=================================================================\n",
      "Total params: 1,081,217\n",
      "Trainable params: 1,081,217\n",
      "Non-trainable params: 0\n",
      "_________________________________________________________________\n"
     ]
    }
   ],
   "source": [
    "#RNN 모델\n",
    "#vocab_size = 10000    # 어휘 사전의 크기입니다(10,000개의 단어)\n",
    "word_vector_dim = 100  # 워드 벡터의 차원수 (변경가능한 하이퍼파라미터)\n",
    "\n",
    "model_RNN = keras.Sequential()\n",
    "\n",
    "model_RNN.add(keras.layers.Embedding(vocab_size, word_vector_dim, input_shape=(None,)))\n",
    "model_RNN.add(keras.layers.LSTM(word_vector_dim))   \n",
    "model_RNN.add(keras.layers.Dense(8, activation='relu'))\n",
    "model_RNN.add(keras.layers.Dense(1, activation='sigmoid'))  \n",
    "\n",
    "model_RNN.summary()"
   ]
  },
  {
   "cell_type": "code",
   "execution_count": 18,
   "metadata": {},
   "outputs": [
    {
     "name": "stdout",
     "output_type": "stream",
     "text": [
      "Epoch 1/20\n",
      "196/196 [==============================] - 3s 14ms/step - loss: 0.4580 - accuracy: 0.7840 - val_loss: 0.3619 - val_accuracy: 0.8398\n",
      "Epoch 2/20\n",
      "196/196 [==============================] - 3s 13ms/step - loss: 0.3413 - accuracy: 0.8525 - val_loss: 0.3523 - val_accuracy: 0.8445\n",
      "Epoch 3/20\n",
      "196/196 [==============================] - 3s 13ms/step - loss: 0.3126 - accuracy: 0.8661 - val_loss: 0.3569 - val_accuracy: 0.8450\n",
      "Epoch 4/20\n",
      "196/196 [==============================] - 3s 13ms/step - loss: 0.2865 - accuracy: 0.8793 - val_loss: 0.3577 - val_accuracy: 0.8436\n",
      "Epoch 5/20\n",
      "196/196 [==============================] - 3s 13ms/step - loss: 0.2648 - accuracy: 0.8886 - val_loss: 0.3762 - val_accuracy: 0.8457\n",
      "Epoch 6/20\n",
      "196/196 [==============================] - 3s 13ms/step - loss: 0.2399 - accuracy: 0.9002 - val_loss: 0.3976 - val_accuracy: 0.8433\n",
      "Epoch 7/20\n",
      "196/196 [==============================] - 3s 13ms/step - loss: 0.2189 - accuracy: 0.9086 - val_loss: 0.4025 - val_accuracy: 0.8414\n",
      "Epoch 8/20\n",
      "196/196 [==============================] - 3s 13ms/step - loss: 0.2008 - accuracy: 0.9159 - val_loss: 0.4572 - val_accuracy: 0.8396\n",
      "Epoch 9/20\n",
      "196/196 [==============================] - 3s 13ms/step - loss: 0.1848 - accuracy: 0.9233 - val_loss: 0.5035 - val_accuracy: 0.8379\n",
      "Epoch 10/20\n",
      "196/196 [==============================] - 3s 13ms/step - loss: 0.1702 - accuracy: 0.9285 - val_loss: 0.5018 - val_accuracy: 0.8357\n",
      "Epoch 11/20\n",
      "196/196 [==============================] - 3s 13ms/step - loss: 0.1577 - accuracy: 0.9331 - val_loss: 0.5445 - val_accuracy: 0.8347\n",
      "Epoch 12/20\n",
      "196/196 [==============================] - 3s 13ms/step - loss: 0.1457 - accuracy: 0.9375 - val_loss: 0.5703 - val_accuracy: 0.8357\n",
      "Epoch 13/20\n",
      "196/196 [==============================] - 3s 13ms/step - loss: 0.1356 - accuracy: 0.9420 - val_loss: 0.6332 - val_accuracy: 0.8356\n",
      "Epoch 14/20\n",
      "196/196 [==============================] - 3s 13ms/step - loss: 0.1265 - accuracy: 0.9456 - val_loss: 0.6408 - val_accuracy: 0.8288\n",
      "Epoch 15/20\n",
      "196/196 [==============================] - 3s 13ms/step - loss: 0.1177 - accuracy: 0.9493 - val_loss: 0.7221 - val_accuracy: 0.8303\n",
      "Epoch 16/20\n",
      "196/196 [==============================] - 3s 13ms/step - loss: 0.1053 - accuracy: 0.9548 - val_loss: 0.7920 - val_accuracy: 0.8332\n",
      "Epoch 17/20\n",
      "196/196 [==============================] - 3s 13ms/step - loss: 0.1002 - accuracy: 0.9565 - val_loss: 0.7629 - val_accuracy: 0.8293\n",
      "Epoch 18/20\n",
      "196/196 [==============================] - 3s 13ms/step - loss: 0.0963 - accuracy: 0.9592 - val_loss: 0.8514 - val_accuracy: 0.8276\n",
      "Epoch 19/20\n",
      "196/196 [==============================] - 3s 13ms/step - loss: 0.0885 - accuracy: 0.9620 - val_loss: 0.8716 - val_accuracy: 0.8273\n",
      "Epoch 20/20\n",
      "196/196 [==============================] - 3s 15ms/step - loss: 0.0817 - accuracy: 0.9649 - val_loss: 0.9509 - val_accuracy: 0.8272\n"
     ]
    }
   ],
   "source": [
    "model_RNN.compile(optimizer='adam', loss='binary_crossentropy', metrics=['accuracy'])\n",
    "              \n",
    "epochs=20  # 몇 epoch를 훈련하면 좋을지 결과를 보면서 바꾸어 봅시다. \n",
    "\n",
    "history_RNN = model_RNN.fit(partial_x_train, partial_y_train, epochs=epochs, batch_size=512, validation_data=(x_val, y_val), verbose=1)"
   ]
  },
  {
   "cell_type": "code",
   "execution_count": 19,
   "metadata": {},
   "outputs": [
    {
     "name": "stdout",
     "output_type": "stream",
     "text": [
      "1532/1532 - 2s - loss: 0.9608 - accuracy: 0.8223\n",
      "dict_keys(['loss', 'accuracy', 'val_loss', 'val_accuracy'])\n"
     ]
    }
   ],
   "source": [
    "results = model_RNN.evaluate(x_test,  y_test, verbose=2)\n",
    "history_dict = history_RNN.history\n",
    "\n",
    "print(history_dict.keys()) # epoch에 따른 그래프를 그려볼 수 있는 항목들"
   ]
  },
  {
   "cell_type": "markdown",
   "metadata": {},
   "source": [
    "      RNN 모델의 경우 20번 학습을 진행한 결과 약 82.23%의 정확도를 보였습니다."
   ]
  },
  {
   "cell_type": "code",
   "execution_count": 20,
   "metadata": {},
   "outputs": [
    {
     "data": {
      "image/png": "[encoded data removed]",
      "text/plain": [
       "<Figure size 432x288 with 1 Axes>"
      ]
     },
     "metadata": {
      "needs_background": "light"
     },
     "output_type": "display_data"
    }
   ],
   "source": [
    "acc = history_dict['accuracy']\n",
    "val_acc = history_dict['val_accuracy']\n",
    "loss = history_dict['loss']\n",
    "val_loss = history_dict['val_loss']\n",
    "\n",
    "epochs = range(1, len(acc) + 1)\n",
    "\n",
    "# \"bo\"는 \"파란색 점\"입니다\n",
    "plt.plot(epochs, loss, 'bo', label='Training loss')\n",
    "# b는 \"파란 실선\"입니다\n",
    "plt.plot(epochs, val_loss, 'b', label='Validation loss')\n",
    "plt.title('Training and validation loss')\n",
    "plt.xlabel('Epochs')\n",
    "plt.ylabel('Loss')\n",
    "plt.legend()\n",
    "\n",
    "plt.show()"
   ]
  },
  {
   "cell_type": "code",
   "execution_count": 21,
   "metadata": {},
   "outputs": [
    {
     "data": {
      "image/png": "[encoded data removed]",
      "text/plain": [
       "<Figure size 432x288 with 1 Axes>"
      ]
     },
     "metadata": {
      "needs_background": "light"
     },
     "output_type": "display_data"
    }
   ],
   "source": [
    "plt.plot(epochs, acc, 'bo', label='Training accuracy')\n",
    "\n",
    "plt.plot(epochs, val_acc, 'b', label='Validation accuracy')\n",
    "plt.title('Training and validation accuracy')\n",
    "plt.xlabel('Epochs')\n",
    "plt.ylabel('accuracy')\n",
    "plt.legend()\n",
    "\n",
    "plt.show()"
   ]
  },
  {
   "cell_type": "markdown",
   "metadata": {},
   "source": [
    "      분석을 통해 확인해 본 결과 가장 적절한 epoch의 수는 5회로 보입니다. 이떄의 정확도는 약 85%였습니다."
   ]
  },
  {
   "cell_type": "markdown",
   "metadata": {},
   "source": [
    "### 2) 1-D CNN 모델"
   ]
  },
  {
   "cell_type": "code",
   "execution_count": 22,
   "metadata": {},
   "outputs": [
    {
     "name": "stdout",
     "output_type": "stream",
     "text": [
      "Model: \"sequential_1\"\n",
      "_________________________________________________________________\n",
      "Layer (type)                 Output Shape              Param #   \n",
      "=================================================================\n",
      "embedding_1 (Embedding)      (None, None, 100)         1000000   \n",
      "_________________________________________________________________\n",
      "conv1d (Conv1D)              (None, None, 16)          9616      \n",
      "_________________________________________________________________\n",
      "max_pooling1d (MaxPooling1D) (None, None, 16)          0         \n",
      "_________________________________________________________________\n",
      "conv1d_1 (Conv1D)            (None, None, 16)          1552      \n",
      "_________________________________________________________________\n",
      "global_max_pooling1d (Global (None, 16)                0         \n",
      "_________________________________________________________________\n",
      "dense_2 (Dense)              (None, 8)                 136       \n",
      "_________________________________________________________________\n",
      "dense_3 (Dense)              (None, 1)                 9         \n",
      "=================================================================\n",
      "Total params: 1,011,313\n",
      "Trainable params: 1,011,313\n",
      "Non-trainable params: 0\n",
      "_________________________________________________________________\n"
     ]
    }
   ],
   "source": [
    "#1-D CNN 모델\n",
    "#vocab_size = 10000    # 어휘 사전의 크기입니다(10,000개의 단어)\n",
    "word_vector_dim = 100  # 워드 벡터의 차원수 (변경가능한 하이퍼파라미터)\n",
    "\n",
    "model_CNN = keras.Sequential()\n",
    "model_CNN.add(keras.layers.Embedding(vocab_size, word_vector_dim, input_shape=(None,)))\n",
    "model_CNN.add(keras.layers.Conv1D(16, 6, activation='relu'))\n",
    "model_CNN.add(keras.layers.MaxPooling1D(5))\n",
    "model_CNN.add(keras.layers.Conv1D(16, 6, activation='relu'))\n",
    "model_CNN.add(keras.layers.GlobalMaxPooling1D())\n",
    "model_CNN.add(keras.layers.Dense(8, activation='relu'))\n",
    "model_CNN.add(keras.layers.Dense(1, activation='sigmoid'))  # 최종 출력은 긍정/부정을 나타내는 1dim 입니다.\n",
    "\n",
    "model_CNN.summary()"
   ]
  },
  {
   "cell_type": "code",
   "execution_count": 23,
   "metadata": {},
   "outputs": [
    {
     "name": "stdout",
     "output_type": "stream",
     "text": [
      "Epoch 1/20\n",
      "196/196 [==============================] - 10s 51ms/step - loss: 0.4965 - accuracy: 0.7586 - val_loss: 0.3833 - val_accuracy: 0.8261\n",
      "Epoch 2/20\n",
      "196/196 [==============================] - 2s 10ms/step - loss: 0.3438 - accuracy: 0.8487 - val_loss: 0.3729 - val_accuracy: 0.8300\n",
      "Epoch 3/20\n",
      "196/196 [==============================] - 2s 10ms/step - loss: 0.2862 - accuracy: 0.8792 - val_loss: 0.3810 - val_accuracy: 0.8292\n",
      "Epoch 4/20\n",
      "196/196 [==============================] - 2s 10ms/step - loss: 0.2259 - accuracy: 0.9088 - val_loss: 0.4148 - val_accuracy: 0.8263\n",
      "Epoch 5/20\n",
      "196/196 [==============================] - 2s 10ms/step - loss: 0.1678 - accuracy: 0.9360 - val_loss: 0.4668 - val_accuracy: 0.8196\n",
      "Epoch 6/20\n",
      "196/196 [==============================] - 2s 9ms/step - loss: 0.1248 - accuracy: 0.9535 - val_loss: 0.5338 - val_accuracy: 0.8145\n",
      "Epoch 7/20\n",
      "196/196 [==============================] - 2s 9ms/step - loss: 0.0945 - accuracy: 0.9648 - val_loss: 0.6007 - val_accuracy: 0.8112\n",
      "Epoch 8/20\n",
      "196/196 [==============================] - 2s 10ms/step - loss: 0.0746 - accuracy: 0.9725 - val_loss: 0.6727 - val_accuracy: 0.8098\n",
      "Epoch 9/20\n",
      "196/196 [==============================] - 2s 11ms/step - loss: 0.0623 - accuracy: 0.9766 - val_loss: 0.7514 - val_accuracy: 0.8079\n",
      "Epoch 10/20\n",
      "196/196 [==============================] - 2s 10ms/step - loss: 0.0538 - accuracy: 0.9791 - val_loss: 0.8072 - val_accuracy: 0.8065\n",
      "Epoch 11/20\n",
      "196/196 [==============================] - 2s 10ms/step - loss: 0.0469 - accuracy: 0.9813 - val_loss: 0.8719 - val_accuracy: 0.8021\n",
      "Epoch 12/20\n",
      "196/196 [==============================] - 2s 11ms/step - loss: 0.0418 - accuracy: 0.9829 - val_loss: 0.9257 - val_accuracy: 0.8017\n",
      "Epoch 13/20\n",
      "196/196 [==============================] - 2s 10ms/step - loss: 0.0390 - accuracy: 0.9837 - val_loss: 0.9882 - val_accuracy: 0.8028\n",
      "Epoch 14/20\n",
      "196/196 [==============================] - 2s 10ms/step - loss: 0.0389 - accuracy: 0.9835 - val_loss: 1.0525 - val_accuracy: 0.7968\n",
      "Epoch 15/20\n",
      "196/196 [==============================] - 2s 10ms/step - loss: 0.0389 - accuracy: 0.9832 - val_loss: 1.1262 - val_accuracy: 0.8012\n",
      "Epoch 16/20\n",
      "196/196 [==============================] - 2s 10ms/step - loss: 0.0415 - accuracy: 0.9823 - val_loss: 1.1385 - val_accuracy: 0.7986\n",
      "Epoch 17/20\n",
      "196/196 [==============================] - 2s 10ms/step - loss: 0.0429 - accuracy: 0.9819 - val_loss: 1.1231 - val_accuracy: 0.8010\n",
      "Epoch 18/20\n",
      "196/196 [==============================] - 2s 10ms/step - loss: 0.0418 - accuracy: 0.9820 - val_loss: 1.1766 - val_accuracy: 0.7957\n",
      "Epoch 19/20\n",
      "196/196 [==============================] - 2s 10ms/step - loss: 0.0363 - accuracy: 0.9842 - val_loss: 1.2424 - val_accuracy: 0.7969\n",
      "Epoch 20/20\n",
      "196/196 [==============================] - 2s 10ms/step - loss: 0.0313 - accuracy: 0.9861 - val_loss: 1.2555 - val_accuracy: 0.7992\n"
     ]
    }
   ],
   "source": [
    "model_CNN.compile(optimizer='adam', loss='binary_crossentropy', metrics=['accuracy'])\n",
    "              \n",
    "epochs=20  # 몇 epoch를 훈련하면 좋을지 결과를 보면서 바꾸어 봅시다. \n",
    "\n",
    "history_CNN = model_CNN.fit(partial_x_train, partial_y_train, epochs=epochs, batch_size=512, validation_data=(x_val, y_val), verbose=1)"
   ]
  },
  {
   "cell_type": "code",
   "execution_count": 24,
   "metadata": {},
   "outputs": [
    {
     "name": "stdout",
     "output_type": "stream",
     "text": [
      "1532/1532 - 4s - loss: 1.2776 - accuracy: 0.7974\n",
      "dict_keys(['loss', 'accuracy', 'val_loss', 'val_accuracy'])\n"
     ]
    }
   ],
   "source": [
    "results = model_CNN.evaluate(x_test,  y_test, verbose=2)\n",
    "history_dict = history_CNN.history\n",
    "\n",
    "print(history_dict.keys()) # epoch에 따른 그래프를 그려볼 수 있는 항목들"
   ]
  },
  {
   "cell_type": "markdown",
   "metadata": {},
   "source": [
    "      시행 결과 79.74%의 정확도로 가장 낮은 성능을 보였습니다."
   ]
  },
  {
   "cell_type": "code",
   "execution_count": 25,
   "metadata": {},
   "outputs": [
    {
     "data": {
      "image/png": "[encoded data removed]",
      "text/plain": [
       "<Figure size 432x288 with 1 Axes>"
      ]
     },
     "metadata": {
      "needs_background": "light"
     },
     "output_type": "display_data"
    }
   ],
   "source": [
    "acc = history_dict['accuracy']\n",
    "val_acc = history_dict['val_accuracy']\n",
    "loss = history_dict['loss']\n",
    "val_loss = history_dict['val_loss']\n",
    "\n",
    "epochs = range(1, len(acc) + 1)\n",
    "\n",
    "plt.plot(epochs, loss, 'bo', label='Training loss')\n",
    "plt.plot(epochs, val_loss, 'b', label='Validation loss')\n",
    "plt.title('Training and validation loss')\n",
    "plt.xlabel('Epochs')\n",
    "plt.ylabel('Loss')\n",
    "plt.legend()\n",
    "\n",
    "plt.show()"
   ]
  },
  {
   "cell_type": "code",
   "execution_count": 26,
   "metadata": {},
   "outputs": [
    {
     "data": {
      "image/png": "[encoded data removed]",
      "text/plain": [
       "<Figure size 432x288 with 1 Axes>"
      ]
     },
     "metadata": {
      "needs_background": "light"
     },
     "output_type": "display_data"
    }
   ],
   "source": [
    "plt.plot(epochs, acc, 'bo', label='Training accuracy')\n",
    "\n",
    "plt.plot(epochs, val_acc, 'b', label='Validation accuracy')\n",
    "plt.title('Training and validation accuracy')\n",
    "plt.xlabel('Epochs')\n",
    "plt.ylabel('accuracy')\n",
    "plt.legend()\n",
    "\n",
    "plt.show()"
   ]
  },
  {
   "cell_type": "markdown",
   "metadata": {},
   "source": [
    "      시행 횟차를 분석 해 본 결과, 가장 적절한 epoch의 횟수는 3-5회로 보이고 가장 높은 정확도를 보였을 때 약 83%의 정확도를 보였습니다."
   ]
  },
  {
   "cell_type": "markdown",
   "metadata": {},
   "source": [
    "### 3) GlobalMaxPooling 모델"
   ]
  },
  {
   "cell_type": "code",
   "execution_count": 27,
   "metadata": {},
   "outputs": [
    {
     "name": "stdout",
     "output_type": "stream",
     "text": [
      "Model: \"sequential_2\"\n",
      "_________________________________________________________________\n",
      "Layer (type)                 Output Shape              Param #   \n",
      "=================================================================\n",
      "embedding_2 (Embedding)      (None, None, 100)         1000000   \n",
      "_________________________________________________________________\n",
      "global_max_pooling1d_1 (Glob (None, 100)               0         \n",
      "_________________________________________________________________\n",
      "dense_4 (Dense)              (None, 8)                 808       \n",
      "_________________________________________________________________\n",
      "dense_5 (Dense)              (None, 1)                 9         \n",
      "=================================================================\n",
      "Total params: 1,000,817\n",
      "Trainable params: 1,000,817\n",
      "Non-trainable params: 0\n",
      "_________________________________________________________________\n"
     ]
    }
   ],
   "source": [
    "#GlobalMaxPooling 모델\n",
    "#vocab_size = 10000  # 어휘 사전의 크기입니다(10개의 단어)\n",
    "word_vector_dim = 100   # 단어 하나를 표현하는 임베딩 벡터의 차원수입니다. \n",
    "\n",
    "model_GMP = keras.Sequential()\n",
    "model_GMP.add(keras.layers.Embedding(vocab_size, word_vector_dim, input_shape=(None,)))\n",
    "model_GMP.add(keras.layers.GlobalMaxPooling1D())\n",
    "model_GMP.add(keras.layers.Dense(8, activation='relu'))\n",
    "model_GMP.add(keras.layers.Dense(1, activation='sigmoid'))  # 최종 출력은 긍정/부정을 나타내는 1dim 입니다.\n",
    "\n",
    "model_GMP.summary()"
   ]
  },
  {
   "cell_type": "code",
   "execution_count": 28,
   "metadata": {},
   "outputs": [
    {
     "name": "stdout",
     "output_type": "stream",
     "text": [
      "Epoch 1/20\n",
      "196/196 [==============================] - 2s 9ms/step - loss: 0.5439 - accuracy: 0.7650 - val_loss: 0.3872 - val_accuracy: 0.8327\n",
      "Epoch 2/20\n",
      "196/196 [==============================] - 2s 8ms/step - loss: 0.3481 - accuracy: 0.8517 - val_loss: 0.3508 - val_accuracy: 0.8443\n",
      "Epoch 3/20\n",
      "196/196 [==============================] - 2s 8ms/step - loss: 0.2964 - accuracy: 0.8773 - val_loss: 0.3499 - val_accuracy: 0.8475\n",
      "Epoch 4/20\n",
      "196/196 [==============================] - 2s 8ms/step - loss: 0.2595 - accuracy: 0.8947 - val_loss: 0.3581 - val_accuracy: 0.8476\n",
      "Epoch 5/20\n",
      "196/196 [==============================] - 2s 8ms/step - loss: 0.2262 - accuracy: 0.9115 - val_loss: 0.3746 - val_accuracy: 0.8460\n",
      "Epoch 6/20\n",
      "196/196 [==============================] - 2s 8ms/step - loss: 0.1934 - accuracy: 0.9285 - val_loss: 0.3960 - val_accuracy: 0.8440\n",
      "Epoch 7/20\n",
      "196/196 [==============================] - 2s 8ms/step - loss: 0.1624 - accuracy: 0.9435 - val_loss: 0.4221 - val_accuracy: 0.8402\n",
      "Epoch 8/20\n",
      "196/196 [==============================] - 2s 8ms/step - loss: 0.1332 - accuracy: 0.9561 - val_loss: 0.4538 - val_accuracy: 0.8397\n",
      "Epoch 9/20\n",
      "196/196 [==============================] - 2s 8ms/step - loss: 0.1074 - accuracy: 0.9673 - val_loss: 0.4864 - val_accuracy: 0.8363\n",
      "Epoch 10/20\n",
      "196/196 [==============================] - 2s 8ms/step - loss: 0.0856 - accuracy: 0.9757 - val_loss: 0.5211 - val_accuracy: 0.8348\n",
      "Epoch 11/20\n",
      "196/196 [==============================] - 2s 8ms/step - loss: 0.0681 - accuracy: 0.9815 - val_loss: 0.5525 - val_accuracy: 0.8321\n",
      "Epoch 12/20\n",
      "196/196 [==============================] - 2s 8ms/step - loss: 0.0545 - accuracy: 0.9863 - val_loss: 0.5934 - val_accuracy: 0.8302\n",
      "Epoch 13/20\n",
      "196/196 [==============================] - 2s 8ms/step - loss: 0.0434 - accuracy: 0.9893 - val_loss: 0.6312 - val_accuracy: 0.8284\n",
      "Epoch 14/20\n",
      "196/196 [==============================] - 2s 8ms/step - loss: 0.0358 - accuracy: 0.9908 - val_loss: 0.6652 - val_accuracy: 0.8272\n",
      "Epoch 15/20\n",
      "196/196 [==============================] - 2s 8ms/step - loss: 0.0301 - accuracy: 0.9924 - val_loss: 0.6988 - val_accuracy: 0.8268\n",
      "Epoch 16/20\n",
      "196/196 [==============================] - 2s 8ms/step - loss: 0.0257 - accuracy: 0.9934 - val_loss: 0.7332 - val_accuracy: 0.8261\n",
      "Epoch 17/20\n",
      "196/196 [==============================] - 2s 8ms/step - loss: 0.0223 - accuracy: 0.9941 - val_loss: 0.7605 - val_accuracy: 0.8251\n",
      "Epoch 18/20\n",
      "196/196 [==============================] - 2s 8ms/step - loss: 0.0203 - accuracy: 0.9942 - val_loss: 0.7835 - val_accuracy: 0.8253\n",
      "Epoch 19/20\n",
      "196/196 [==============================] - 2s 8ms/step - loss: 0.0185 - accuracy: 0.9947 - val_loss: 0.8147 - val_accuracy: 0.8247\n",
      "Epoch 20/20\n",
      "196/196 [==============================] - 2s 8ms/step - loss: 0.0170 - accuracy: 0.9948 - val_loss: 0.8344 - val_accuracy: 0.8252\n"
     ]
    }
   ],
   "source": [
    "model_GMP.compile(optimizer='adam', loss='binary_crossentropy', metrics=['accuracy'])\n",
    "              \n",
    "epochs=20  # 몇 epoch를 훈련하면 좋을지 결과를 보면서 바꾸어 봅시다. \n",
    "\n",
    "history_GMP = model_GMP.fit(partial_x_train, partial_y_train, epochs=epochs, batch_size=512, validation_data=(x_val, y_val), verbose=1)"
   ]
  },
  {
   "cell_type": "code",
   "execution_count": 29,
   "metadata": {},
   "outputs": [
    {
     "name": "stdout",
     "output_type": "stream",
     "text": [
      "1532/1532 - 1s - loss: 0.8512 - accuracy: 0.8209\n",
      "dict_keys(['loss', 'accuracy', 'val_loss', 'val_accuracy'])\n"
     ]
    }
   ],
   "source": [
    "results = model_GMP.evaluate(x_test,  y_test, verbose=2)\n",
    "history_dict = history_GMP.history\n",
    "\n",
    "print(history_dict.keys()) # epoch에 따른 그래프를 그려볼 수 있는 항목들"
   ]
  },
  {
   "cell_type": "markdown",
   "metadata": {},
   "source": [
    "      약 82%의 정확도로 RNN과 비슷한 성능을 보였습니다."
   ]
  },
  {
   "cell_type": "code",
   "execution_count": 30,
   "metadata": {},
   "outputs": [
    {
     "data": {
      "image/png": "[encoded data removed]",
      "text/plain": [
       "<Figure size 432x288 with 1 Axes>"
      ]
     },
     "metadata": {
      "needs_background": "light"
     },
     "output_type": "display_data"
    }
   ],
   "source": [
    "acc = history_dict['accuracy']\n",
    "val_acc = history_dict['val_accuracy']\n",
    "loss = history_dict['loss']\n",
    "val_loss = history_dict['val_loss']\n",
    "\n",
    "epochs = range(1, len(acc) + 1)\n",
    "\n",
    "plt.plot(epochs, loss, 'bo', label='Training loss')\n",
    "plt.plot(epochs, val_loss, 'b', label='Validation loss')\n",
    "plt.title('Training and validation loss')\n",
    "plt.xlabel('Epochs')\n",
    "plt.ylabel('Loss')\n",
    "plt.legend()\n",
    "\n",
    "plt.show()"
   ]
  },
  {
   "cell_type": "code",
   "execution_count": 31,
   "metadata": {},
   "outputs": [
    {
     "data": {
      "image/png": "[encoded data removed]",
      "text/plain": [
       "<Figure size 432x288 with 1 Axes>"
      ]
     },
     "metadata": {
      "needs_background": "light"
     },
     "output_type": "display_data"
    }
   ],
   "source": [
    "plt.plot(epochs, acc, 'bo', label='Training accuracy')\n",
    "plt.plot(epochs, val_acc, 'b', label='Validation accuracy')\n",
    "plt.title('Training and validation accuracy')\n",
    "plt.xlabel('Epochs')\n",
    "plt.ylabel('accuracy')\n",
    "plt.legend()\n",
    "\n",
    "plt.show()"
   ]
  },
  {
   "cell_type": "markdown",
   "metadata": {},
   "source": [
    "      적절한 epoch의 횟수는 3회로 이때 약 85%의 정확도를 보여줬습니다."
   ]
  },
  {
   "cell_type": "markdown",
   "metadata": {},
   "source": [
    "## 3. 최고 성능 모델 분석하기"
   ]
  },
  {
   "cell_type": "code",
   "execution_count": 32,
   "metadata": {},
   "outputs": [
    {
     "name": "stdout",
     "output_type": "stream",
     "text": [
      "Model: \"sequential_3\"\n",
      "_________________________________________________________________\n",
      "Layer (type)                 Output Shape              Param #   \n",
      "=================================================================\n",
      "embedding_3 (Embedding)      (None, None, 100)         1000000   \n",
      "_________________________________________________________________\n",
      "lstm_1 (LSTM)                (None, 100)               80400     \n",
      "_________________________________________________________________\n",
      "dense_6 (Dense)              (None, 8)                 808       \n",
      "_________________________________________________________________\n",
      "dense_7 (Dense)              (None, 1)                 9         \n",
      "=================================================================\n",
      "Total params: 1,081,217\n",
      "Trainable params: 1,081,217\n",
      "Non-trainable params: 0\n",
      "_________________________________________________________________\n",
      "Epoch 1/20\n",
      "196/196 [==============================] - ETA: 0s - loss: 0.4466 - acc: 0.7843\n",
      "Epoch 00001: val_acc improved from -inf to 0.83951, saving model to best_model.h5\n",
      "196/196 [==============================] - 3s 15ms/step - loss: 0.4466 - acc: 0.7843 - val_loss: 0.3663 - val_acc: 0.8395\n",
      "Epoch 2/20\n",
      "194/196 [============================>.] - ETA: 0s - loss: 0.3379 - acc: 0.8532\n",
      "Epoch 00002: val_acc improved from 0.83951 to 0.84038, saving model to best_model.h5\n",
      "196/196 [==============================] - 3s 14ms/step - loss: 0.3378 - acc: 0.8533 - val_loss: 0.3592 - val_acc: 0.8404\n",
      "Epoch 3/20\n",
      "192/196 [============================>.] - ETA: 0s - loss: 0.3095 - acc: 0.8671\n",
      "Epoch 00003: val_acc improved from 0.84038 to 0.84534, saving model to best_model.h5\n",
      "196/196 [==============================] - 3s 13ms/step - loss: 0.3100 - acc: 0.8670 - val_loss: 0.3495 - val_acc: 0.8453\n",
      "Epoch 4/20\n",
      "196/196 [==============================] - ETA: 0s - loss: 0.2840 - acc: 0.8799\n",
      "Epoch 00004: val_acc improved from 0.84534 to 0.84554, saving model to best_model.h5\n",
      "196/196 [==============================] - 3s 14ms/step - loss: 0.2840 - acc: 0.8799 - val_loss: 0.3532 - val_acc: 0.8455\n",
      "Epoch 5/20\n",
      "193/196 [============================>.] - ETA: 0s - loss: 0.2586 - acc: 0.8914\n",
      "Epoch 00005: val_acc did not improve from 0.84554\n",
      "196/196 [==============================] - 3s 14ms/step - loss: 0.2585 - acc: 0.8915 - val_loss: 0.3876 - val_acc: 0.8429\n",
      "Epoch 6/20\n",
      "195/196 [============================>.] - ETA: 0s - loss: 0.2351 - acc: 0.9011\n",
      "Epoch 00006: val_acc did not improve from 0.84554\n",
      "196/196 [==============================] - 3s 14ms/step - loss: 0.2352 - acc: 0.9011 - val_loss: 0.3863 - val_acc: 0.8443\n",
      "Epoch 7/20\n",
      "194/196 [============================>.] - ETA: 0s - loss: 0.2134 - acc: 0.9108\n",
      "Epoch 00007: val_acc did not improve from 0.84554\n",
      "196/196 [==============================] - 3s 15ms/step - loss: 0.2135 - acc: 0.9107 - val_loss: 0.4163 - val_acc: 0.8426\n",
      "Epoch 00007: early stopping\n"
     ]
    }
   ],
   "source": [
    "#학습된 Embedding 레이어 분석\n",
    "from tensorflow.keras.layers import Embedding, Dense, LSTM\n",
    "from tensorflow.keras.models import Sequential\n",
    "from tensorflow.keras.models import load_model\n",
    "from tensorflow.keras.callbacks import EarlyStopping, ModelCheckpoint\n",
    "\n",
    "word_vector_dim = 100  # 워드 벡터의 차원수 (변경가능한 하이퍼파라미터)\n",
    "\n",
    "model_Final = keras.Sequential()\n",
    "\n",
    "model_Final.add(keras.layers.Embedding(vocab_size, word_vector_dim, input_shape=(None,)))\n",
    "model_Final.add(keras.layers.LSTM(word_vector_dim))   \n",
    "model_Final.add(keras.layers.Dense(8, activation='relu'))\n",
    "model_Final.add(keras.layers.Dense(1, activation='sigmoid'))  \n",
    "\n",
    "model_Final.summary()\n",
    "\n",
    "es = EarlyStopping(monitor='val_loss', mode='min', verbose=1, patience=4)\n",
    "mc = ModelCheckpoint('best_model.h5', monitor='val_acc', mode='max', verbose=1, save_best_only=True)\n",
    "\n",
    "model_Final.compile(optimizer='adam', loss='binary_crossentropy', metrics=['acc']) # val_loss가 4회 증가하면 학습을 종료합니다. val_acc가 가장 높은 모델을 저장합니다. \n",
    "              \n",
    "epochs=20  # 몇 epoch를 훈련하면 좋을지 결과를 보면서 바꾸어 봅시다. \n",
    "\n",
    "history_Final = model_Final.fit(partial_x_train, partial_y_train, epochs=epochs, callbacks=[es, mc], batch_size=512, validation_data=(x_val, y_val), verbose=1)"
   ]
  },
  {
   "cell_type": "markdown",
   "metadata": {},
   "source": [
    "      검증 데이터 손실(val_loss)이 증가하면, 과적합 징후므로 검증 데이터 손실이 4회 증가하면 학습을 조기 종료(Early Stopping)합니다. 또한, ModelCheckpoint를 사용하여 검증 데이터의 정확도(val_acc)가 이전보다 좋아질 경우에만 모델을 저장합니다."
   ]
  },
  {
   "cell_type": "code",
   "execution_count": 33,
   "metadata": {},
   "outputs": [
    {
     "name": "stdout",
     "output_type": "stream",
     "text": [
      "1532/1532 [==============================] - 2s 2ms/step - loss: 0.3637 - acc: 0.8376\n",
      "\n",
      " 테스트 정확도: 0.8376\n"
     ]
    }
   ],
   "source": [
    "loaded_model = load_model('best_model.h5')\n",
    "print(\"\\n 테스트 정확도: %.4f\" % (loaded_model.evaluate(x_test, y_test)[1]))"
   ]
  },
  {
   "cell_type": "markdown",
   "metadata": {},
   "source": [
    "      테스트 셋으로 확인해 본 결과 84%의 정확도를 보입니다."
   ]
  },
  {
   "cell_type": "code",
   "execution_count": 34,
   "metadata": {},
   "outputs": [
    {
     "name": "stdout",
     "output_type": "stream",
     "text": [
      "(10000, 100)\n"
     ]
    }
   ],
   "source": [
    "embedding_layer = load_model('best_model.h5')\n",
    "weights = embedding_layer.get_weights()[0]\n",
    "print(weights.shape)    # shape: (vocab_size, embedding_dim)"
   ]
  },
  {
   "cell_type": "markdown",
   "metadata": {},
   "source": [
    "## 4. 학습된 Embedding 레이어 분석"
   ]
  },
  {
   "cell_type": "code",
   "execution_count": 35,
   "metadata": {},
   "outputs": [],
   "source": [
    "import os\n",
    "\n",
    "# 학습한 Embedding 파라미터를 파일에 써서 저장합니다. \n",
    "word2vec_file_path = os.getenv('HOME')+'/aiffel/sentiment_classification/word2vec.txt'\n",
    "f = open(word2vec_file_path, 'w')\n",
    "f.write('{} {}\\n'.format(vocab_size-4, word_vector_dim))  # 몇개의 벡터를 얼마 사이즈로 기재할지 타이틀을 씁니다.\n",
    "\n",
    "# 단어 개수(에서 특수문자 4개는 제외하고)만큼의 워드 벡터를 파일에 기록합니다. \n",
    "vectors = loaded_model.get_weights()[0]\n",
    "for i in range(4,vocab_size):\n",
    "    f.write('{} {}\\n'.format(index_to_word[i], ' '.join(map(str, list(vectors[i, :])))))\n",
    "f.close()"
   ]
  },
  {
   "cell_type": "code",
   "execution_count": 36,
   "metadata": {},
   "outputs": [
    {
     "data": {
      "text/plain": [
       "[('최악', 0.8796914219856262),\n",
       " ('감흥', 0.8747795820236206),\n",
       " ('엉성', 0.8646913170814514),\n",
       " ('왜곡', 0.8637752532958984),\n",
       " ('수면제', 0.8634276986122131),\n",
       " ('짝퉁', 0.8604995012283325),\n",
       " ('낚였', 0.8582966923713684),\n",
       " ('맞출', 0.8571181893348694),\n",
       " ('하품', 0.856518030166626),\n",
       " ('반개', 0.8535510301589966)]"
      ]
     },
     "execution_count": 36,
     "metadata": {},
     "output_type": "execute_result"
    }
   ],
   "source": [
    "from gensim.models.keyedvectors import Word2VecKeyedVectors\n",
    "\n",
    "word_vectors = Word2VecKeyedVectors.load_word2vec_format(word2vec_file_path, binary=False)\n",
    "vector = word_vectors['구토']\n",
    "vector\n",
    "\n",
    "word_vectors.similar_by_word(\"구토\")"
   ]
  },
  {
   "cell_type": "code",
   "execution_count": 37,
   "metadata": {},
   "outputs": [
    {
     "data": {
      "text/plain": [
       "[('수작', 0.9210688471794128),\n",
       " ('나무랄', 0.9173898696899414),\n",
       " ('쏠쏠', 0.9126120805740356),\n",
       " ('수준급', 0.9071028828620911),\n",
       " ('만점', 0.9063248634338379),\n",
       " ('여운', 0.9009645581245422),\n",
       " ('최고', 0.897685170173645),\n",
       " ('예뻐요', 0.8976436257362366),\n",
       " ('넘사벽', 0.8975391387939453),\n",
       " ('뗄', 0.8965908885002136)]"
      ]
     },
     "execution_count": 37,
     "metadata": {},
     "output_type": "execute_result"
    }
   ],
   "source": [
    "vector = word_vectors['명작']\n",
    "vector\n",
    "\n",
    "word_vectors.similar_by_word(\"명작\")"
   ]
  },
  {
   "cell_type": "markdown",
   "metadata": {},
   "source": [
    "      부정적인 단어와 긍정적인 단어를 하나씩 확인해보자 비슷한 의미의 단어가 근접한 의미로 잘 들어간 것을 볼 수 있다."
   ]
  },
  {
   "cell_type": "markdown",
   "metadata": {},
   "source": [
    "## 5. 한국어 Word2Vec 임베딩 활용"
   ]
  },
  {
   "cell_type": "code",
   "execution_count": 38,
   "metadata": {},
   "outputs": [
    {
     "name": "stderr",
     "output_type": "stream",
     "text": [
      "/home/aiffel/anaconda3/envs/aiffel/lib/python3.7/site-packages/ipykernel_launcher.py:9: DeprecationWarning: Call to deprecated `__getitem__` (Method will be removed in 4.0.0, use self.wv.__getitem__() instead).\n",
      "  if __name__ == '__main__':\n"
     ]
    },
    {
     "data": {
      "text/plain": [
       "[('두통', 0.8388077020645142),\n",
       " ('설사', 0.7648500204086304),\n",
       " ('빈혈', 0.7441317439079285),\n",
       " ('통증', 0.7423505187034607),\n",
       " ('출혈', 0.7408765554428101),\n",
       " ('탈수', 0.7358182668685913),\n",
       " ('복통', 0.7298648953437805),\n",
       " ('경련', 0.7235933542251587),\n",
       " ('기침', 0.721824049949646),\n",
       " ('고혈압', 0.7157262563705444)]"
      ]
     },
     "execution_count": 38,
     "metadata": {},
     "output_type": "execute_result"
    }
   ],
   "source": [
    "#한국어 Word2Vec 임베딩 활용하여 성능개선\n",
    "from gensim.models import KeyedVectors\n",
    "from gensim.models.word2vec import Word2Vec\n",
    "import gensim\n",
    "\n",
    "word2vec_path = os.getenv('HOME')+'/aiffel/sentiment_classification/ko.bin'\n",
    "ko_model = Word2Vec.load(word2vec_path)\n",
    "\n",
    "vector = ko_model['구토']\n",
    "vector\n",
    "\n",
    "ko_model.wv.most_similar('구토')"
   ]
  },
  {
   "cell_type": "code",
   "execution_count": 39,
   "metadata": {},
   "outputs": [
    {
     "name": "stderr",
     "output_type": "stream",
     "text": [
      "/home/aiffel/anaconda3/envs/aiffel/lib/python3.7/site-packages/ipykernel_launcher.py:1: DeprecationWarning: Call to deprecated `__getitem__` (Method will be removed in 4.0.0, use self.wv.__getitem__() instead).\n",
      "  \"\"\"Entry point for launching an IPython kernel.\n"
     ]
    },
    {
     "data": {
      "text/plain": [
       "[('걸작', 0.7933748364448547),\n",
       " ('작품', 0.7375750541687012),\n",
       " ('대작', 0.686141848564148),\n",
       " ('희극', 0.6746902465820312),\n",
       " ('희곡', 0.674653947353363),\n",
       " ('거장', 0.6636549830436707),\n",
       " ('대표작', 0.6602857112884521),\n",
       " ('단편집', 0.6207208633422852),\n",
       " ('히트곡', 0.6082459688186646),\n",
       " ('가곡', 0.6028263568878174)]"
      ]
     },
     "execution_count": 39,
     "metadata": {},
     "output_type": "execute_result"
    }
   ],
   "source": [
    "vector = ko_model['명작']\n",
    "vector\n",
    "\n",
    "ko_model.wv.most_similar('명작')"
   ]
  },
  {
   "cell_type": "markdown",
   "metadata": {},
   "source": [
    "      한국어 Word2Vec 임베딩 활용하여 성능개선을 해보는 과정이다. 각각 위에서 찾았던 단어들의 한국어 Word2Vec 임베딩 유사단어 결과를 찾아보았다."
   ]
  },
  {
   "cell_type": "code",
   "execution_count": 40,
   "metadata": {},
   "outputs": [
    {
     "name": "stderr",
     "output_type": "stream",
     "text": [
      "/home/aiffel/anaconda3/envs/aiffel/lib/python3.7/site-packages/ipykernel_launcher.py:8: DeprecationWarning: Call to deprecated `__contains__` (Method will be removed in 4.0.0, use self.wv.__contains__() instead).\n",
      "  \n",
      "/home/aiffel/anaconda3/envs/aiffel/lib/python3.7/site-packages/ipykernel_launcher.py:9: DeprecationWarning: Call to deprecated `__getitem__` (Method will be removed in 4.0.0, use self.wv.__getitem__() instead).\n",
      "  if __name__ == '__main__':\n"
     ]
    }
   ],
   "source": [
    "#vocab_size = 10000    # 어휘 사전의 크기입니다(10,000개의 단어)\n",
    "word_vector_dim = 200  # 워드 벡터의 차원수 (변경가능한 하이퍼파라미터)\n",
    "\n",
    "embedding_matrix = np.random.rand(vocab_size, word_vector_dim)\n",
    "\n",
    "# embedding_matrix에 Word2Vec 워드벡터를 단어 하나씩마다 차례차례 카피한다.\n",
    "for i in range(4,vocab_size):\n",
    "    if index_to_word[i] in ko_model:\n",
    "        embedding_matrix[i] = ko_model[index_to_word[i]]"
   ]
  },
  {
   "cell_type": "markdown",
   "metadata": {},
   "source": [
    "      만약 한국어 Word2Vec 임베딩에 포함된 단어가 있으면 벡터값을 바꿔준다."
   ]
  },
  {
   "cell_type": "code",
   "execution_count": 41,
   "metadata": {},
   "outputs": [
    {
     "name": "stdout",
     "output_type": "stream",
     "text": [
      "Model: \"sequential_4\"\n",
      "_________________________________________________________________\n",
      "Layer (type)                 Output Shape              Param #   \n",
      "=================================================================\n",
      "embedding_4 (Embedding)      (None, 36, 200)           2000000   \n",
      "_________________________________________________________________\n",
      "lstm_2 (LSTM)                (None, 200)               320800    \n",
      "_________________________________________________________________\n",
      "dense_8 (Dense)              (None, 4)                 804       \n",
      "_________________________________________________________________\n",
      "dense_9 (Dense)              (None, 1)                 5         \n",
      "=================================================================\n",
      "Total params: 2,321,609\n",
      "Trainable params: 2,321,609\n",
      "Non-trainable params: 0\n",
      "_________________________________________________________________\n"
     ]
    }
   ],
   "source": [
    "from tensorflow.keras.initializers import Constant\n",
    "\n",
    "#vocab_size = 10000    # 어휘 사전의 크기입니다(10,000개의 단어)\n",
    "word_vector_dim = 200  # 워드 벡터의 차원수 (변경가능한 하이퍼파라미터)\n",
    "\n",
    "# 모델 구성\n",
    "model_RNN_ko = keras.Sequential()\n",
    "\n",
    "model_RNN_ko.add(keras.layers.Embedding(vocab_size, word_vector_dim, embeddings_initializer=Constant(embedding_matrix), input_length=maxlen, trainable=True))   # trainable을 True로 주면 Fine-tuning\n",
    "model_RNN_ko.add(keras.layers.LSTM(word_vector_dim))   \n",
    "model_RNN_ko.add(keras.layers.Dense(4, activation='relu'))\n",
    "model_RNN_ko.add(keras.layers.Dense(1, activation='sigmoid'))  \n",
    "\n",
    "model_RNN_ko.summary()"
   ]
  },
  {
   "cell_type": "markdown",
   "metadata": {},
   "source": [
    "      위에서 가장 성능이 좋았던 RNN모델을 활용하여 성능이 얼마나 개선되었는지 확인해본다."
   ]
  },
  {
   "cell_type": "code",
   "execution_count": 45,
   "metadata": {},
   "outputs": [
    {
     "name": "stdout",
     "output_type": "stream",
     "text": [
      "Epoch 1/20\n",
      "195/196 [============================>.] - ETA: 0s - loss: 0.1495 - acc: 0.9444\n",
      "Epoch 00001: val_acc improved from -inf to 0.85298, saving model to best_ko_model.h5\n",
      "196/196 [==============================] - 7s 35ms/step - loss: 0.1496 - acc: 0.9444 - val_loss: 0.4106 - val_acc: 0.8530\n",
      "Epoch 2/20\n",
      "194/196 [============================>.] - ETA: 0s - loss: 0.1199 - acc: 0.9564\n",
      "Epoch 00002: val_acc did not improve from 0.85298\n",
      "196/196 [==============================] - 6s 31ms/step - loss: 0.1202 - acc: 0.9563 - val_loss: 0.4731 - val_acc: 0.8481\n",
      "Epoch 3/20\n",
      "195/196 [============================>.] - ETA: 0s - loss: 0.1005 - acc: 0.9644\n",
      "Epoch 00003: val_acc did not improve from 0.85298\n",
      "196/196 [==============================] - 6s 29ms/step - loss: 0.1005 - acc: 0.9644 - val_loss: 0.5268 - val_acc: 0.8486\n",
      "Epoch 4/20\n",
      "195/196 [============================>.] - ETA: 0s - loss: 0.0813 - acc: 0.9718\n",
      "Epoch 00004: val_acc did not improve from 0.85298\n",
      "196/196 [==============================] - 6s 29ms/step - loss: 0.0813 - acc: 0.9718 - val_loss: 0.5481 - val_acc: 0.8488\n",
      "Epoch 5/20\n",
      "194/196 [============================>.] - ETA: 0s - loss: 0.0641 - acc: 0.9782\n",
      "Epoch 00005: val_acc did not improve from 0.85298\n",
      "196/196 [==============================] - 6s 29ms/step - loss: 0.0642 - acc: 0.9782 - val_loss: 0.6249 - val_acc: 0.8468\n",
      "Epoch 00005: early stopping\n"
     ]
    }
   ],
   "source": [
    "model_RNN_ko.compile(optimizer='adam', loss='binary_crossentropy', metrics=['acc'])\n",
    "              \n",
    "epochs=20  # 몇 epoch를 훈련하면 좋을지 결과를 보면서 바꾸어 봅시다. \n",
    "mc = ModelCheckpoint('best_ko_model.h5', monitor='val_acc', mode='max', verbose=1, save_best_only=True)\n",
    "\n",
    "history_RNN_ko = model_RNN_ko.fit(partial_x_train, partial_y_train, epochs=epochs, callbacks=[es, mc], batch_size=512, validation_data=(x_val, y_val), verbose=1)"
   ]
  },
  {
   "cell_type": "markdown",
   "metadata": {},
   "source": [
    "      Epoch가 7회 시행되고 종료되었고 저장된 모델은 epoch가 3회인 정확도 85.8%일 때 저장되었다. "
   ]
  },
  {
   "cell_type": "code",
   "execution_count": 43,
   "metadata": {},
   "outputs": [
    {
     "name": "stdout",
     "output_type": "stream",
     "text": [
      "1532/1532 - 2s - loss: 0.3835 - acc: 0.8521\n",
      "[0.3835199475288391, 0.8521073460578918]\n"
     ]
    }
   ],
   "source": [
    "results = model_RNN_ko.evaluate(x_test,  y_test, verbose=2)\n",
    "\n",
    "print(results)"
   ]
  },
  {
   "cell_type": "code",
   "execution_count": 44,
   "metadata": {},
   "outputs": [
    {
     "name": "stdout",
     "output_type": "stream",
     "text": [
      "1532/1532 [==============================] - 3s 2ms/step - loss: 0.3364 - acc: 0.8520\n",
      "\n",
      " 테스트 정확도: 0.8520\n"
     ]
    }
   ],
   "source": [
    "loaded_model = load_model('best_ko_model.h5')\n",
    "print(\"\\n 테스트 정확도: %.4f\" % (loaded_model.evaluate(x_test, y_test)[1]))"
   ]
  },
  {
   "cell_type": "markdown",
   "metadata": {},
   "source": [
    "      성능을 확인해보자 약 85.2%로 약 2% 정도 정확도가 상승한 것을 볼 수 있다."
   ]
  },
  {
   "cell_type": "markdown",
   "metadata": {},
   "source": [
    "****************************************************************************************************************\n",
    "# 결론과 총평\n",
    "\n",
    "      RNN 모델과 GlobalMaxPooling 모델은 비슷한 성능을 보였으나 약간 우세한 RNN을 더 좋은 학습 모델로 설정했다. 하지만 미미한 성능차에 GlobalMaxPooling 모델이 좀 더 빠른 모습을 보여주었다.\n",
    "      \n",
    "      한국어 Word2Vec 임베딩 활용하여 성능개선을 해 본 결과 성능의 향상이 약 2%가량 있었다. 다만 리뷰에 쓰이는 단어와 실생활에서 쓰이는 단어의 간극이 존재해서 차이가 발생하는것 같다."
   ]
  }
 ],
 "metadata": {
  "kernelspec": {
   "display_name": "aiffel",
   "language": "python",
   "name": "aiffel"
  },
  "language_info": {
   "codemirror_mode": {
    "name": "ipython",
    "version": 3
   },
   "file_extension": ".py",
   "mimetype": "text/x-python",
   "name": "python",
   "nbconvert_exporter": "python",
   "pygments_lexer": "ipython3",
   "version": "3.7.9"
  }
 },
 "nbformat": 4,
 "nbformat_minor": 4
}
