{
 "cells": [
  {
   "cell_type": "markdown",
   "id": "buried-dayton",
   "metadata": {},
   "source": [
    "# (E05)5th-Project-Spectrogram_classification\n",
    "***********************************************************************************************************"
   ]
  },
  {
   "cell_type": "markdown",
   "id": "protective-advocate",
   "metadata": {},
   "source": [
    "## 1. 데이터 처리와 분류"
   ]
  },
  {
   "cell_type": "code",
   "execution_count": 1,
   "id": "sapphire-security",
   "metadata": {},
   "outputs": [],
   "source": [
    "import numpy as np\n",
    "import os\n",
    "\n",
    "data_path = os.getenv(\"HOME\")+'/aiffel/speech_recognition/data/speech_wav_8000.npz'\n",
    "speech_data = np.load(data_path)"
   ]
  },
  {
   "cell_type": "code",
   "execution_count": 2,
   "id": "classified-somalia",
   "metadata": {},
   "outputs": [
    {
     "name": "stdout",
     "output_type": "stream",
     "text": [
      "Wave data shape :  (50620, 8000)\n",
      "Label data shape :  (50620, 1)\n"
     ]
    }
   ],
   "source": [
    "print(\"Wave data shape : \", speech_data[\"wav_vals\"].shape)\n",
    "print(\"Label data shape : \", speech_data[\"label_vals\"].shape)"
   ]
  },
  {
   "cell_type": "markdown",
   "id": "dental-amsterdam",
   "metadata": {},
   "source": [
    "      일단 Exploration의 wavform데이터를 불러와줍니다"
   ]
  },
  {
   "cell_type": "code",
   "execution_count": 3,
   "id": "associate-dictionary",
   "metadata": {},
   "outputs": [
    {
     "name": "stdout",
     "output_type": "stream",
     "text": [
      "LABEL :  ['yes', 'no', 'up', 'down', 'left', 'right', 'on', 'off', 'stop', 'go', 'unknown', 'silence']\n",
      "Indexed LABEL :  {'yes': 0, 'no': 1, 'up': 2, 'down': 3, 'left': 4, 'right': 5, 'on': 6, 'off': 7, 'stop': 8, 'go': 9, 'unknown': 10, 'silence': 11}\n"
     ]
    }
   ],
   "source": [
    "target_list = ['yes', 'no', 'up', 'down', 'left', 'right', 'on', 'off', 'stop', 'go']\n",
    "\n",
    "label_value = target_list\n",
    "label_value.append('unknown')\n",
    "label_value.append('silence')\n",
    "\n",
    "print('LABEL : ', label_value)\n",
    "\n",
    "new_label_value = dict()\n",
    "for i, l in enumerate(label_value):\n",
    "    new_label_value[l] = i\n",
    "label_value = new_label_value\n",
    "\n",
    "print('Indexed LABEL : ', new_label_value)"
   ]
  },
  {
   "cell_type": "code",
   "execution_count": 4,
   "id": "statewide-throat",
   "metadata": {},
   "outputs": [
    {
     "data": {
      "text/plain": [
       "array([ 3,  3,  3, ..., 11, 11, 11])"
      ]
     },
     "execution_count": 4,
     "metadata": {},
     "output_type": "execute_result"
    }
   ],
   "source": [
    "temp = []\n",
    "for v in speech_data[\"label_vals\"]:\n",
    "    temp.append(label_value[v[0]])\n",
    "label_data = np.array(temp)\n",
    "\n",
    "label_data"
   ]
  },
  {
   "cell_type": "markdown",
   "id": "atomic-hartford",
   "metadata": {},
   "source": [
    "      데이터에 각각 정답에 따라 라벨링을 해주고 잘 붙었나 확인해 줍시다."
   ]
  },
  {
   "cell_type": "code",
   "execution_count": 5,
   "id": "uniform-webmaster",
   "metadata": {},
   "outputs": [
    {
     "name": "stdout",
     "output_type": "stream",
     "text": [
      "(45558, 8000)\n"
     ]
    }
   ],
   "source": [
    "from sklearn.model_selection import train_test_split\n",
    "\n",
    "sr = 8000\n",
    "train_wav, test_wav, train_label, test_label = train_test_split(speech_data[\"wav_vals\"], label_data, test_size=0.1, shuffle=True)\n",
    "print(train_wav.shape)\n",
    "\n",
    "del speech_data"
   ]
  },
  {
   "cell_type": "markdown",
   "id": "noticed-reggae",
   "metadata": {},
   "source": [
    "      Train data와 Test data를 나눠줍니다.\n",
    "      그리고 쓸모없어진 speech data를 삭제해 메모리를 확보해줍니다."
   ]
  },
  {
   "cell_type": "code",
   "execution_count": 6,
   "id": "exterior-browser",
   "metadata": {},
   "outputs": [],
   "source": [
    "import librosa\n",
    "\n",
    "def wav2spec(wav, fft_size=258): # spectrogram shape을 맞추기위해서 size 변형\n",
    "    D = np.abs(librosa.stft(wav, n_fft=fft_size))\n",
    "    return D"
   ]
  },
  {
   "cell_type": "markdown",
   "id": "preceding-phoenix",
   "metadata": {},
   "source": [
    "      위 함수를 통해서 wavform을 spectrogram으로 변환시켜줄겁니다."
   ]
  },
  {
   "cell_type": "code",
   "execution_count": 7,
   "id": "chronic-notice",
   "metadata": {},
   "outputs": [
    {
     "name": "stdout",
     "output_type": "stream",
     "text": [
      "(45558, 130, 126)\n",
      "(5062, 130, 126)\n"
     ]
    }
   ],
   "source": [
    "train_spec=[]\n",
    "\n",
    "for wav in train_wav:\n",
    "\n",
    "    train_spec.append(wav2spec(wav))\n",
    "\n",
    "train_spec = np.array(train_spec)\n",
    "print(train_spec.shape)\n",
    "\n",
    "test_spec=[]\n",
    "\n",
    "for wav in test_wav:\n",
    "\n",
    "    test_spec.append(wav2spec(wav))\n",
    "\n",
    "test_spec = np.array(test_spec)\n",
    "print(test_spec.shape)"
   ]
  },
  {
   "cell_type": "markdown",
   "id": "selected-speaker",
   "metadata": {},
   "source": [
    "      하나씩 불러와서 변환하고 빈 리스트에 집어넣고 다시 array로 변환시켜줍니다.\n",
    "      트레인과 테스트 각각 실행시켜 줍니다."
   ]
  },
  {
   "cell_type": "code",
   "execution_count": 8,
   "id": "extraordinary-witness",
   "metadata": {},
   "outputs": [],
   "source": [
    "batch_size = 32\n",
    "max_epochs = 20"
   ]
  },
  {
   "cell_type": "code",
   "execution_count": 9,
   "id": "virgin-superintendent",
   "metadata": {},
   "outputs": [],
   "source": [
    "def one_hot_label(wav, label):\n",
    "    label = tf.one_hot(label, depth=12)\n",
    "    return wav, label"
   ]
  },
  {
   "cell_type": "code",
   "execution_count": 10,
   "id": "adjacent-closer",
   "metadata": {},
   "outputs": [
    {
     "name": "stdout",
     "output_type": "stream",
     "text": [
      "<BatchDataset shapes: ((None, 130, 126), (None, 12)), types: (tf.float32, tf.float32)>\n",
      "<BatchDataset shapes: ((None, 130, 126), (None, 12)), types: (tf.float32, tf.float32)>\n"
     ]
    }
   ],
   "source": [
    "import tensorflow as tf\n",
    "\n",
    "# for train\n",
    "train_dataset = tf.data.Dataset.from_tensor_slices((train_spec, train_label))\n",
    "train_dataset = train_dataset.map(one_hot_label)\n",
    "train_dataset = train_dataset.repeat().batch(batch_size=batch_size)\n",
    "print(train_dataset)\n",
    "\n",
    "# for test\n",
    "test_dataset = tf.data.Dataset.from_tensor_slices((test_spec, test_label))\n",
    "test_dataset = test_dataset.map(one_hot_label)\n",
    "test_dataset = test_dataset.batch(batch_size=batch_size)\n",
    "print(test_dataset)"
   ]
  },
  {
   "cell_type": "markdown",
   "id": "brief-hollywood",
   "metadata": {},
   "source": [
    "      트레인 데이터셋과 테스트 데이터셋을 만들어줍니다."
   ]
  },
  {
   "cell_type": "markdown",
   "id": "informal-guess",
   "metadata": {},
   "source": [
    "## 2. 모델 구성하기"
   ]
  },
  {
   "cell_type": "markdown",
   "id": "animal-drunk",
   "metadata": {},
   "source": [
    "## 1) 1-D CNN MODEL"
   ]
  },
  {
   "cell_type": "code",
   "execution_count": 11,
   "id": "dense-share",
   "metadata": {},
   "outputs": [
    {
     "name": "stdout",
     "output_type": "stream",
     "text": [
      "Model: \"model\"\n",
      "_________________________________________________________________\n",
      "Layer (type)                 Output Shape              Param #   \n",
      "=================================================================\n",
      "input_1 (InputLayer)         [(None, 130, 126)]        0         \n",
      "_________________________________________________________________\n",
      "conv1d (Conv1D)              (None, 130, 32)           36320     \n",
      "_________________________________________________________________\n",
      "conv1d_1 (Conv1D)            (None, 130, 32)           9248      \n",
      "_________________________________________________________________\n",
      "max_pooling1d (MaxPooling1D) (None, 65, 32)            0         \n",
      "_________________________________________________________________\n",
      "conv1d_2 (Conv1D)            (None, 65, 64)            18496     \n",
      "_________________________________________________________________\n",
      "conv1d_3 (Conv1D)            (None, 65, 64)            36928     \n",
      "_________________________________________________________________\n",
      "max_pooling1d_1 (MaxPooling1 (None, 32, 64)            0         \n",
      "_________________________________________________________________\n",
      "conv1d_4 (Conv1D)            (None, 32, 128)           73856     \n",
      "_________________________________________________________________\n",
      "conv1d_5 (Conv1D)            (None, 32, 128)           147584    \n",
      "_________________________________________________________________\n",
      "conv1d_6 (Conv1D)            (None, 32, 128)           147584    \n",
      "_________________________________________________________________\n",
      "max_pooling1d_2 (MaxPooling1 (None, 16, 128)           0         \n",
      "_________________________________________________________________\n",
      "conv1d_7 (Conv1D)            (None, 16, 256)           295168    \n",
      "_________________________________________________________________\n",
      "conv1d_8 (Conv1D)            (None, 16, 256)           590080    \n",
      "_________________________________________________________________\n",
      "conv1d_9 (Conv1D)            (None, 16, 256)           590080    \n",
      "_________________________________________________________________\n",
      "max_pooling1d_3 (MaxPooling1 (None, 8, 256)            0         \n",
      "_________________________________________________________________\n",
      "dropout (Dropout)            (None, 8, 256)            0         \n",
      "_________________________________________________________________\n",
      "flatten (Flatten)            (None, 2048)              0         \n",
      "_________________________________________________________________\n",
      "dense (Dense)                (None, 256)               524544    \n",
      "_________________________________________________________________\n",
      "batch_normalization (BatchNo (None, 256)               1024      \n",
      "_________________________________________________________________\n",
      "activation (Activation)      (None, 256)               0         \n",
      "_________________________________________________________________\n",
      "dense_1 (Dense)              (None, 12)                3084      \n",
      "=================================================================\n",
      "Total params: 2,473,996\n",
      "Trainable params: 2,473,484\n",
      "Non-trainable params: 512\n",
      "_________________________________________________________________\n"
     ]
    }
   ],
   "source": [
    "from tensorflow.keras import layers\n",
    "\n",
    "input_tensor = layers.Input(shape=(130, 126)) #스펙트럼에 맞춰서 인풋 텐서를 맞춰줍니다.\n",
    "\n",
    "x = layers.Conv1D(32, 9, padding='same', activation='relu')(input_tensor)\n",
    "x = layers.Conv1D(32, 9, padding='same', activation='relu')(x)\n",
    "x = layers.MaxPool1D()(x)\n",
    "\n",
    "x = layers.Conv1D(64, 9, padding='same', activation='relu')(x)\n",
    "x = layers.Conv1D(64, 9, padding='same', activation='relu')(x)\n",
    "x = layers.MaxPool1D()(x)\n",
    "\n",
    "x = layers.Conv1D(128, 9, padding='same', activation='relu')(x)\n",
    "x = layers.Conv1D(128, 9, padding='same', activation='relu')(x)\n",
    "x = layers.Conv1D(128, 9, padding='same', activation='relu')(x)\n",
    "x = layers.MaxPool1D()(x)\n",
    "\n",
    "x = layers.Conv1D(256, 9, padding='same', activation='relu')(x)\n",
    "x = layers.Conv1D(256, 9, padding='same', activation='relu')(x)\n",
    "x = layers.Conv1D(256, 9, padding='same', activation='relu')(x)\n",
    "x = layers.MaxPool1D()(x)\n",
    "x = layers.Dropout(0.3)(x)\n",
    "\n",
    "x = layers.Flatten()(x)\n",
    "x = layers.Dense(256)(x)\n",
    "x = layers.BatchNormalization()(x)\n",
    "x = layers.Activation('relu')(x)\n",
    "\n",
    "output_tensor = layers.Dense(12)(x)\n",
    "\n",
    "model_spec = tf.keras.Model(input_tensor, output_tensor)\n",
    "\n",
    "model_spec.summary()"
   ]
  },
  {
   "cell_type": "code",
   "execution_count": 12,
   "id": "ethical-acrylic",
   "metadata": {},
   "outputs": [
    {
     "name": "stdout",
     "output_type": "stream",
     "text": [
      "Epoch 1/20\n",
      "1420/1423 [============================>.] - ETA: 0s - loss: 1.3755 - acc: 0.5304\n",
      "Epoch 00001: val_acc improved from -inf to 0.67840, saving model to best_model.h5\n",
      "1423/1423 [==============================] - 10s 7ms/step - loss: 1.3743 - acc: 0.5308 - val_loss: 0.9297 - val_acc: 0.6784\n",
      "Epoch 2/20\n",
      "1418/1423 [============================>.] - ETA: 0s - loss: 0.6549 - acc: 0.7820\n",
      "Epoch 00002: val_acc improved from 0.67840 to 0.82951, saving model to best_model.h5\n",
      "1423/1423 [==============================] - 10s 7ms/step - loss: 0.6544 - acc: 0.7822 - val_loss: 0.5160 - val_acc: 0.8295\n",
      "Epoch 3/20\n",
      "1416/1423 [============================>.] - ETA: 0s - loss: 0.4466 - acc: 0.8508\n",
      "Epoch 00003: val_acc improved from 0.82951 to 0.86155, saving model to best_model.h5\n",
      "1423/1423 [==============================] - 10s 7ms/step - loss: 0.4461 - acc: 0.8509 - val_loss: 0.4105 - val_acc: 0.8616\n",
      "Epoch 4/20\n",
      "1420/1423 [============================>.] - ETA: 0s - loss: 0.3348 - acc: 0.8888\n",
      "Epoch 00004: val_acc improved from 0.86155 to 0.88627, saving model to best_model.h5\n",
      "1423/1423 [==============================] - 10s 7ms/step - loss: 0.3346 - acc: 0.8888 - val_loss: 0.3428 - val_acc: 0.8863\n",
      "Epoch 5/20\n",
      "1423/1423 [==============================] - ETA: 0s - loss: 0.2628 - acc: 0.9124\n",
      "Epoch 00005: val_acc improved from 0.88627 to 0.89003, saving model to best_model.h5\n",
      "1423/1423 [==============================] - 10s 7ms/step - loss: 0.2628 - acc: 0.9124 - val_loss: 0.3370 - val_acc: 0.8900\n",
      "Epoch 6/20\n",
      "1423/1423 [==============================] - ETA: 0s - loss: 0.2110 - acc: 0.9303\n",
      "Epoch 00006: val_acc improved from 0.89003 to 0.90605, saving model to best_model.h5\n",
      "1423/1423 [==============================] - 10s 7ms/step - loss: 0.2110 - acc: 0.9303 - val_loss: 0.2879 - val_acc: 0.9061\n",
      "Epoch 7/20\n",
      "1416/1423 [============================>.] - ETA: 0s - loss: 0.1768 - acc: 0.9408\n",
      "Epoch 00007: val_acc did not improve from 0.90605\n",
      "1423/1423 [==============================] - 10s 7ms/step - loss: 0.1770 - acc: 0.9408 - val_loss: 0.2989 - val_acc: 0.9047\n",
      "Epoch 8/20\n",
      "1418/1423 [============================>.] - ETA: 0s - loss: 0.1543 - acc: 0.9476\n",
      "Epoch 00008: val_acc did not improve from 0.90605\n",
      "1423/1423 [==============================] - 10s 7ms/step - loss: 0.1542 - acc: 0.9476 - val_loss: 0.2855 - val_acc: 0.9031\n",
      "Epoch 9/20\n",
      "1420/1423 [============================>.] - ETA: 0s - loss: 0.1348 - acc: 0.9545\n",
      "Epoch 00009: val_acc improved from 0.90605 to 0.91555, saving model to best_model.h5\n",
      "1423/1423 [==============================] - 10s 7ms/step - loss: 0.1347 - acc: 0.9546 - val_loss: 0.2595 - val_acc: 0.9155\n",
      "Epoch 10/20\n",
      "1416/1423 [============================>.] - ETA: 0s - loss: 0.1218 - acc: 0.9593\n",
      "Epoch 00010: val_acc did not improve from 0.91555\n",
      "1423/1423 [==============================] - 10s 7ms/step - loss: 0.1219 - acc: 0.9593 - val_loss: 0.3210 - val_acc: 0.9037\n",
      "Epoch 11/20\n",
      "1422/1423 [============================>.] - ETA: 0s - loss: 0.1131 - acc: 0.9615\n",
      "Epoch 00011: val_acc improved from 0.91555 to 0.92840, saving model to best_model.h5\n",
      "1423/1423 [==============================] - 10s 7ms/step - loss: 0.1132 - acc: 0.9615 - val_loss: 0.2344 - val_acc: 0.9284\n",
      "Epoch 12/20\n",
      "1419/1423 [============================>.] - ETA: 0s - loss: 0.1059 - acc: 0.9635\n",
      "Epoch 00012: val_acc did not improve from 0.92840\n",
      "1423/1423 [==============================] - 10s 7ms/step - loss: 0.1059 - acc: 0.9635 - val_loss: 0.2422 - val_acc: 0.9252\n",
      "Epoch 13/20\n",
      "1417/1423 [============================>.] - ETA: 0s - loss: 0.0997 - acc: 0.9651\n",
      "Epoch 00013: val_acc improved from 0.92840 to 0.92919, saving model to best_model.h5\n",
      "1423/1423 [==============================] - 10s 7ms/step - loss: 0.0996 - acc: 0.9651 - val_loss: 0.2276 - val_acc: 0.9292\n",
      "Epoch 14/20\n",
      "1417/1423 [============================>.] - ETA: 0s - loss: 0.0885 - acc: 0.9697\n",
      "Epoch 00014: val_acc did not improve from 0.92919\n",
      "1423/1423 [==============================] - 10s 7ms/step - loss: 0.0886 - acc: 0.9696 - val_loss: 0.2403 - val_acc: 0.9270\n",
      "Epoch 15/20\n",
      "1417/1423 [============================>.] - ETA: 0s - loss: 0.0860 - acc: 0.9708\n",
      "Epoch 00015: val_acc improved from 0.92919 to 0.92979, saving model to best_model.h5\n",
      "1423/1423 [==============================] - 10s 7ms/step - loss: 0.0860 - acc: 0.9708 - val_loss: 0.2266 - val_acc: 0.9298\n",
      "Epoch 16/20\n",
      "1417/1423 [============================>.] - ETA: 0s - loss: 0.0820 - acc: 0.9723\n",
      "Epoch 00016: val_acc improved from 0.92979 to 0.93750, saving model to best_model.h5\n",
      "1423/1423 [==============================] - 10s 7ms/step - loss: 0.0820 - acc: 0.9724 - val_loss: 0.2255 - val_acc: 0.9375\n",
      "Epoch 17/20\n",
      "1416/1423 [============================>.] - ETA: 0s - loss: 0.0780 - acc: 0.9733\n",
      "Epoch 00017: val_acc improved from 0.93750 to 0.93968, saving model to best_model.h5\n",
      "1423/1423 [==============================] - 10s 7ms/step - loss: 0.0779 - acc: 0.9733 - val_loss: 0.2118 - val_acc: 0.9397\n",
      "Epoch 18/20\n",
      "1416/1423 [============================>.] - ETA: 0s - loss: 0.0804 - acc: 0.9726\n",
      "Epoch 00018: val_acc did not improve from 0.93968\n",
      "1423/1423 [==============================] - 10s 7ms/step - loss: 0.0803 - acc: 0.9726 - val_loss: 0.2198 - val_acc: 0.9383\n",
      "Epoch 19/20\n",
      "1417/1423 [============================>.] - ETA: 0s - loss: 0.0735 - acc: 0.9746\n",
      "Epoch 00019: val_acc improved from 0.93968 to 0.94185, saving model to best_model.h5\n",
      "1423/1423 [==============================] - 10s 7ms/step - loss: 0.0734 - acc: 0.9746 - val_loss: 0.1916 - val_acc: 0.9419\n",
      "Epoch 20/20\n",
      "1422/1423 [============================>.] - ETA: 0s - loss: 0.0699 - acc: 0.9761\n",
      "Epoch 00020: val_acc did not improve from 0.94185\n",
      "1423/1423 [==============================] - 10s 7ms/step - loss: 0.0698 - acc: 0.9761 - val_loss: 0.2327 - val_acc: 0.9365\n"
     ]
    }
   ],
   "source": [
    "from tensorflow.keras.models import load_model\n",
    "from tensorflow.keras.callbacks import EarlyStopping, ModelCheckpoint\n",
    "\n",
    "optimizer=tf.keras.optimizers.Adam(1e-4)\n",
    "model_spec.compile(loss=tf.keras.losses.CategoricalCrossentropy(from_logits=True),\n",
    "             optimizer=optimizer,\n",
    "             metrics=['acc'])\n",
    "\n",
    "es = EarlyStopping(monitor='val_loss', mode='min', verbose=1, patience=4)\n",
    "mc = ModelCheckpoint('best_model.h5', monitor='val_acc', mode='max', verbose=1, save_best_only=True)\n",
    "\n",
    "history_spec = model_spec.fit(train_dataset, epochs=max_epochs,\n",
    "                    steps_per_epoch=len(train_spec) // batch_size,\n",
    "                    validation_data=test_dataset,\n",
    "                    validation_steps=len(test_spec) // batch_size,\n",
    "                    callbacks=[es, mc]\n",
    "                    )"
   ]
  },
  {
   "cell_type": "markdown",
   "id": "extraordinary-relay",
   "metadata": {},
   "source": [
    "      학습결과 생각보다 학습하는데 시간이 오래걸리지 않았고 4번이상 val loss가 증가할 경우 멈추게 하고 epoch를 20번 하게 했는데 20번을 채웠습니다. 결과적으로 마지막 val accuarcy는 약 94%인 모델이 저장되었습니다."
   ]
  },
  {
   "cell_type": "code",
   "execution_count": 13,
   "id": "chief-permit",
   "metadata": {},
   "outputs": [
    {
     "data": {
      "image/png": "[encoded data removed]",
      "text/plain": [
       "<Figure size 576x576 with 2 Axes>"
      ]
     },
     "metadata": {
      "needs_background": "light"
     },
     "output_type": "display_data"
    }
   ],
   "source": [
    "import matplotlib.pyplot as plt\n",
    "\n",
    "acc = history_spec.history['acc']\n",
    "val_acc = history_spec.history['val_acc']\n",
    "\n",
    "loss=history_spec.history['loss']\n",
    "val_loss=history_spec.history['val_loss']\n",
    "\n",
    "epochs_range = range(len(acc))\n",
    "\n",
    "plt.figure(figsize=(8, 8))\n",
    "plt.subplot(1, 2, 1)\n",
    "plt.plot(epochs_range, acc, label='Training Accuracy')\n",
    "plt.plot(epochs_range, val_acc, label='Validation Accuracy')\n",
    "plt.legend(loc='lower right')\n",
    "plt.title('Training and Validation Accuracy')\n",
    "\n",
    "plt.subplot(1, 2, 2)\n",
    "plt.plot(epochs_range, loss, label='Training Loss')\n",
    "plt.plot(epochs_range, val_loss, label='Validation Loss')\n",
    "plt.legend(loc='upper right')\n",
    "plt.title('Training and Validation Loss')\n",
    "plt.show()"
   ]
  },
  {
   "cell_type": "markdown",
   "id": "southeast-vermont",
   "metadata": {},
   "source": [
    "      Training 그래프는 일정한 log그래프의 양상을 보이는데 Vaildation그래프는 log양상인데 오락가락하는 모양을 보입니다."
   ]
  },
  {
   "cell_type": "code",
   "execution_count": 14,
   "id": "vocational-heater",
   "metadata": {},
   "outputs": [
    {
     "name": "stdout",
     "output_type": "stream",
     "text": [
      "159/159 [==============================] - 17s 107ms/step - loss: 0.1916 - acc: 0.9417\n",
      "\n",
      " 테스트 정확도: 0.9417\n"
     ]
    }
   ],
   "source": [
    "loaded_model = load_model('best_model.h5')\n",
    "print(\"\\n 테스트 정확도: %.4f\" % (loaded_model.evaluate(test_dataset)[1]))"
   ]
  },
  {
   "cell_type": "markdown",
   "id": "purple-exemption",
   "metadata": {},
   "source": [
    "      저장된 epoch가 19일때의 모델의 정확도는 약 94%를 보였습니다."
   ]
  },
  {
   "cell_type": "code",
   "execution_count": 15,
   "id": "flexible-diameter",
   "metadata": {},
   "outputs": [],
   "source": [
    "del model_spec\n",
    "del history_spec # 메모리를 확보해줍니다."
   ]
  },
  {
   "cell_type": "markdown",
   "id": "greenhouse-sauce",
   "metadata": {},
   "source": [
    "## 2) 2-D CNN MODEL"
   ]
  },
  {
   "cell_type": "code",
   "execution_count": 16,
   "id": "later-workshop",
   "metadata": {},
   "outputs": [
    {
     "name": "stdout",
     "output_type": "stream",
     "text": [
      "Model: \"model_1\"\n",
      "_________________________________________________________________\n",
      "Layer (type)                 Output Shape              Param #   \n",
      "=================================================================\n",
      "input_2 (InputLayer)         [(None, 130, 126, 1)]     0         \n",
      "_________________________________________________________________\n",
      "conv2d (Conv2D)              (None, 130, 126, 32)      2624      \n",
      "_________________________________________________________________\n",
      "conv2d_1 (Conv2D)            (None, 130, 126, 32)      82976     \n",
      "_________________________________________________________________\n",
      "max_pooling2d (MaxPooling2D) (None, 65, 63, 32)        0         \n",
      "_________________________________________________________________\n",
      "conv2d_2 (Conv2D)            (None, 65, 63, 64)        165952    \n",
      "_________________________________________________________________\n",
      "conv2d_3 (Conv2D)            (None, 65, 63, 64)        331840    \n",
      "_________________________________________________________________\n",
      "max_pooling2d_1 (MaxPooling2 (None, 32, 31, 64)        0         \n",
      "_________________________________________________________________\n",
      "conv2d_4 (Conv2D)            (None, 32, 31, 128)       663680    \n",
      "_________________________________________________________________\n",
      "conv2d_5 (Conv2D)            (None, 32, 31, 128)       1327232   \n",
      "_________________________________________________________________\n",
      "conv2d_6 (Conv2D)            (None, 32, 31, 128)       1327232   \n",
      "_________________________________________________________________\n",
      "max_pooling2d_2 (MaxPooling2 (None, 16, 15, 128)       0         \n",
      "_________________________________________________________________\n",
      "conv2d_7 (Conv2D)            (None, 16, 15, 256)       2654464   \n",
      "_________________________________________________________________\n",
      "conv2d_8 (Conv2D)            (None, 16, 15, 256)       5308672   \n",
      "_________________________________________________________________\n",
      "conv2d_9 (Conv2D)            (None, 16, 15, 256)       5308672   \n",
      "_________________________________________________________________\n",
      "max_pooling2d_3 (MaxPooling2 (None, 8, 7, 256)         0         \n",
      "_________________________________________________________________\n",
      "dropout_1 (Dropout)          (None, 8, 7, 256)         0         \n",
      "_________________________________________________________________\n",
      "flatten_1 (Flatten)          (None, 14336)             0         \n",
      "_________________________________________________________________\n",
      "dense_2 (Dense)              (None, 256)               3670272   \n",
      "_________________________________________________________________\n",
      "batch_normalization_1 (Batch (None, 256)               1024      \n",
      "_________________________________________________________________\n",
      "activation_1 (Activation)    (None, 256)               0         \n",
      "_________________________________________________________________\n",
      "dense_3 (Dense)              (None, 12)                3084      \n",
      "=================================================================\n",
      "Total params: 20,847,724\n",
      "Trainable params: 20,847,212\n",
      "Non-trainable params: 512\n",
      "_________________________________________________________________\n"
     ]
    }
   ],
   "source": [
    "from tensorflow.keras import layers\n",
    "\n",
    "input_tensor = layers.Input(shape=(130, 126, 1)) #이번엔 2d이므로 행렬 모양을 맞춰줍니다.\n",
    "\n",
    "x = layers.Conv2D(32, 9, padding='same', activation='relu')(input_tensor)\n",
    "x = layers.Conv2D(32, 9, padding='same', activation='relu')(x)\n",
    "x = layers.MaxPool2D()(x)\n",
    "\n",
    "x = layers.Conv2D(64, 9, padding='same', activation='relu')(x)\n",
    "x = layers.Conv2D(64, 9, padding='same', activation='relu')(x)\n",
    "x = layers.MaxPool2D()(x)\n",
    "\n",
    "x = layers.Conv2D(128, 9, padding='same', activation='relu')(x)\n",
    "x = layers.Conv2D(128, 9, padding='same', activation='relu')(x)\n",
    "x = layers.Conv2D(128, 9, padding='same', activation='relu')(x)\n",
    "x = layers.MaxPool2D()(x)\n",
    "\n",
    "x = layers.Conv2D(256, 9, padding='same', activation='relu')(x)\n",
    "x = layers.Conv2D(256, 9, padding='same', activation='relu')(x)\n",
    "x = layers.Conv2D(256, 9, padding='same', activation='relu')(x)\n",
    "x = layers.MaxPool2D()(x)\n",
    "x = layers.Dropout(0.3)(x)\n",
    "\n",
    "x = layers.Flatten()(x)\n",
    "x = layers.Dense(256)(x)\n",
    "x = layers.BatchNormalization()(x)\n",
    "x = layers.Activation('relu')(x)\n",
    "\n",
    "output_tensor = layers.Dense(12)(x)\n",
    "\n",
    "model_spec = tf.keras.Model(input_tensor, output_tensor)\n",
    "\n",
    "model_spec.summary()"
   ]
  },
  {
   "cell_type": "code",
   "execution_count": 17,
   "id": "distributed-paragraph",
   "metadata": {},
   "outputs": [
    {
     "name": "stdout",
     "output_type": "stream",
     "text": [
      "Epoch 1/20\n",
      "1423/1423 [==============================] - ETA: 0s - loss: 0.6627 - acc: 0.7788\n",
      "Epoch 00001: val_acc improved from -inf to 0.91713, saving model to best_2D_model.h5\n",
      "1423/1423 [==============================] - 202s 142ms/step - loss: 0.6627 - acc: 0.7788 - val_loss: 0.2807 - val_acc: 0.9171\n",
      "Epoch 2/20\n",
      "1423/1423 [==============================] - ETA: 0s - loss: 0.2355 - acc: 0.9257\n",
      "Epoch 00002: val_acc improved from 0.91713 to 0.94422, saving model to best_2D_model.h5\n",
      "1423/1423 [==============================] - 201s 142ms/step - loss: 0.2355 - acc: 0.9257 - val_loss: 0.1831 - val_acc: 0.9442\n",
      "Epoch 3/20\n",
      "1423/1423 [==============================] - ETA: 0s - loss: 0.1648 - acc: 0.9477\n",
      "Epoch 00003: val_acc did not improve from 0.94422\n",
      "1423/1423 [==============================] - 201s 141ms/step - loss: 0.1648 - acc: 0.9477 - val_loss: 0.1777 - val_acc: 0.9426\n",
      "Epoch 4/20\n",
      "1423/1423 [==============================] - ETA: 0s - loss: 0.1283 - acc: 0.9580\n",
      "Epoch 00004: val_acc improved from 0.94422 to 0.94877, saving model to best_2D_model.h5\n",
      "1423/1423 [==============================] - 201s 141ms/step - loss: 0.1283 - acc: 0.9580 - val_loss: 0.1562 - val_acc: 0.9488\n",
      "Epoch 5/20\n",
      "1423/1423 [==============================] - ETA: 0s - loss: 0.1050 - acc: 0.9661\n",
      "Epoch 00005: val_acc improved from 0.94877 to 0.95886, saving model to best_2D_model.h5\n",
      "1423/1423 [==============================] - 201s 141ms/step - loss: 0.1050 - acc: 0.9661 - val_loss: 0.1224 - val_acc: 0.9589\n",
      "Epoch 6/20\n",
      "1423/1423 [==============================] - ETA: 0s - loss: 0.0885 - acc: 0.9704\n",
      "Epoch 00006: val_acc did not improve from 0.95886\n",
      "1423/1423 [==============================] - 204s 144ms/step - loss: 0.0885 - acc: 0.9704 - val_loss: 0.1261 - val_acc: 0.9565\n",
      "Epoch 7/20\n",
      "1423/1423 [==============================] - ETA: 0s - loss: 0.0781 - acc: 0.9734\n",
      "Epoch 00007: val_acc did not improve from 0.95886\n",
      "1423/1423 [==============================] - 202s 142ms/step - loss: 0.0781 - acc: 0.9734 - val_loss: 0.1337 - val_acc: 0.9589\n",
      "Epoch 8/20\n",
      "1423/1423 [==============================] - ETA: 0s - loss: 0.0708 - acc: 0.9763\n",
      "Epoch 00008: val_acc improved from 0.95886 to 0.95945, saving model to best_2D_model.h5\n",
      "1423/1423 [==============================] - 201s 141ms/step - loss: 0.0708 - acc: 0.9763 - val_loss: 0.1307 - val_acc: 0.9595\n",
      "Epoch 9/20\n",
      "1423/1423 [==============================] - ETA: 0s - loss: 0.0628 - acc: 0.9786\n",
      "Epoch 00009: val_acc did not improve from 0.95945\n",
      "1423/1423 [==============================] - 202s 142ms/step - loss: 0.0628 - acc: 0.9786 - val_loss: 0.1655 - val_acc: 0.9456\n",
      "Epoch 00009: early stopping\n"
     ]
    }
   ],
   "source": [
    "from tensorflow.keras.models import load_model\n",
    "from tensorflow.keras.callbacks import EarlyStopping, ModelCheckpoint\n",
    "\n",
    "optimizer=tf.keras.optimizers.Adam(1e-4)\n",
    "model_spec.compile(loss=tf.keras.losses.CategoricalCrossentropy(from_logits=True),\n",
    "             optimizer=optimizer,\n",
    "             metrics=['acc'])\n",
    "\n",
    "es = EarlyStopping(monitor='val_loss', mode='min', verbose=1, patience=4)\n",
    "mc = ModelCheckpoint('best_2D_model.h5', monitor='val_acc', mode='max', verbose=1, save_best_only=True)\n",
    "\n",
    "history_spec = model_spec.fit(train_dataset, epochs=max_epochs,\n",
    "                    steps_per_epoch=len(train_spec) // batch_size,\n",
    "                    validation_data=test_dataset,\n",
    "                    validation_steps=len(test_spec) // batch_size,\n",
    "                    callbacks=[es, mc]\n",
    "                    )"
   ]
  },
  {
   "cell_type": "markdown",
   "id": "awful-discipline",
   "metadata": {},
   "source": [
    "      윗 모델과 같은 조건에서 학습을 종료하게 설정하니 이번에는 epoch가 9회일때 종료되었고 저장은 8일 때 실행됬습니다. 이때의 val loss는 약 13%, val accuracy는 약 96% 입니다."
   ]
  },
  {
   "cell_type": "code",
   "execution_count": 18,
   "id": "virgin-spiritual",
   "metadata": {},
   "outputs": [
    {
     "data": {
      "image/png": "[encoded data removed]",
      "text/plain": [
       "<Figure size 576x576 with 2 Axes>"
      ]
     },
     "metadata": {
      "needs_background": "light"
     },
     "output_type": "display_data"
    }
   ],
   "source": [
    "import matplotlib.pyplot as plt\n",
    "\n",
    "acc = history_spec.history['acc']\n",
    "val_acc = history_spec.history['val_acc']\n",
    "\n",
    "loss=history_spec.history['loss']\n",
    "val_loss=history_spec.history['val_loss']\n",
    "\n",
    "epochs_range = range(len(acc))\n",
    "\n",
    "plt.figure(figsize=(8, 8))\n",
    "plt.subplot(1, 2, 1)\n",
    "plt.plot(epochs_range, acc, label='Training Accuracy')\n",
    "plt.plot(epochs_range, val_acc, label='Validation Accuracy')\n",
    "plt.legend(loc='lower right')\n",
    "plt.title('Training and Validation Accuracy')\n",
    "\n",
    "plt.subplot(1, 2, 2)\n",
    "plt.plot(epochs_range, loss, label='Training Loss')\n",
    "plt.plot(epochs_range, val_loss, label='Validation Loss')\n",
    "plt.legend(loc='upper right')\n",
    "plt.title('Training and Validation Loss')\n",
    "plt.show()"
   ]
  },
  {
   "cell_type": "markdown",
   "id": "executed-florist",
   "metadata": {},
   "source": [
    "      1-D모델과 마찬가지로 트레이닝 그래프는 log그래프를 따라가지만 Vaildation그래프는 훨씬 심한 변화를 보였습니다. 이는 과적합으로 인한 오차로 보입니다."
   ]
  },
  {
   "cell_type": "code",
   "execution_count": 19,
   "id": "different-norwegian",
   "metadata": {},
   "outputs": [
    {
     "name": "stdout",
     "output_type": "stream",
     "text": [
      "159/159 [==============================] - 22s 138ms/step - loss: 0.1310 - acc: 0.9593\n",
      "\n",
      " 테스트 정확도: 0.9593\n"
     ]
    }
   ],
   "source": [
    "loaded_model = load_model('best_2D_model.h5')\n",
    "print(\"\\n 테스트 정확도: %.4f\" % (loaded_model.evaluate(test_dataset)[1]))"
   ]
  },
  {
   "cell_type": "markdown",
   "id": "greenhouse-daisy",
   "metadata": {},
   "source": [
    "      정확도는 약 96%로 1-D CNN 모델보다 약 2%가량 증가한 것을 확인했습니다."
   ]
  },
  {
   "cell_type": "code",
   "execution_count": 20,
   "id": "mediterranean-literacy",
   "metadata": {},
   "outputs": [],
   "source": [
    "del model_spec\n",
    "del history_spec  # 메모리 확보"
   ]
  },
  {
   "cell_type": "markdown",
   "id": "undefined-webster",
   "metadata": {},
   "source": [
    "## 3) 1-D CNN  Skip-Connection model"
   ]
  },
  {
   "cell_type": "code",
   "execution_count": 21,
   "id": "spanish-david",
   "metadata": {},
   "outputs": [
    {
     "name": "stdout",
     "output_type": "stream",
     "text": [
      "Model: \"model_2\"\n",
      "__________________________________________________________________________________________________\n",
      "Layer (type)                    Output Shape         Param #     Connected to                     \n",
      "==================================================================================================\n",
      "input_3 (InputLayer)            [(None, 130, 126)]   0                                            \n",
      "__________________________________________________________________________________________________\n",
      "conv1d_10 (Conv1D)              (None, 130, 32)      36320       input_3[0][0]                    \n",
      "__________________________________________________________________________________________________\n",
      "conv1d_11 (Conv1D)              (None, 130, 32)      9248        conv1d_10[0][0]                  \n",
      "__________________________________________________________________________________________________\n",
      "max_pooling1d_4 (MaxPooling1D)  (None, 65, 32)       0           conv1d_11[0][0]                  \n",
      "__________________________________________________________________________________________________\n",
      "conv1d_12 (Conv1D)              (None, 65, 64)       18496       max_pooling1d_4[0][0]            \n",
      "__________________________________________________________________________________________________\n",
      "conv1d_13 (Conv1D)              (None, 65, 64)       36928       conv1d_12[0][0]                  \n",
      "__________________________________________________________________________________________________\n",
      "tf_op_layer_concat (TensorFlowO [(None, 65, 96)]     0           conv1d_13[0][0]                  \n",
      "                                                                 max_pooling1d_4[0][0]            \n",
      "__________________________________________________________________________________________________\n",
      "max_pooling1d_5 (MaxPooling1D)  (None, 32, 96)       0           tf_op_layer_concat[0][0]         \n",
      "__________________________________________________________________________________________________\n",
      "conv1d_14 (Conv1D)              (None, 32, 128)      110720      max_pooling1d_5[0][0]            \n",
      "__________________________________________________________________________________________________\n",
      "conv1d_15 (Conv1D)              (None, 32, 128)      147584      conv1d_14[0][0]                  \n",
      "__________________________________________________________________________________________________\n",
      "conv1d_16 (Conv1D)              (None, 32, 128)      147584      conv1d_15[0][0]                  \n",
      "__________________________________________________________________________________________________\n",
      "tf_op_layer_concat_1 (TensorFlo [(None, 32, 224)]    0           conv1d_16[0][0]                  \n",
      "                                                                 max_pooling1d_5[0][0]            \n",
      "__________________________________________________________________________________________________\n",
      "max_pooling1d_6 (MaxPooling1D)  (None, 16, 224)      0           tf_op_layer_concat_1[0][0]       \n",
      "__________________________________________________________________________________________________\n",
      "conv1d_17 (Conv1D)              (None, 16, 256)      516352      max_pooling1d_6[0][0]            \n",
      "__________________________________________________________________________________________________\n",
      "conv1d_18 (Conv1D)              (None, 16, 256)      590080      conv1d_17[0][0]                  \n",
      "__________________________________________________________________________________________________\n",
      "conv1d_19 (Conv1D)              (None, 16, 256)      590080      conv1d_18[0][0]                  \n",
      "__________________________________________________________________________________________________\n",
      "tf_op_layer_concat_2 (TensorFlo [(None, 16, 480)]    0           conv1d_19[0][0]                  \n",
      "                                                                 max_pooling1d_6[0][0]            \n",
      "__________________________________________________________________________________________________\n",
      "max_pooling1d_7 (MaxPooling1D)  (None, 8, 480)       0           tf_op_layer_concat_2[0][0]       \n",
      "__________________________________________________________________________________________________\n",
      "dropout_2 (Dropout)             (None, 8, 480)       0           max_pooling1d_7[0][0]            \n",
      "__________________________________________________________________________________________________\n",
      "flatten_2 (Flatten)             (None, 3840)         0           dropout_2[0][0]                  \n",
      "__________________________________________________________________________________________________\n",
      "dense_4 (Dense)                 (None, 256)          983296      flatten_2[0][0]                  \n",
      "__________________________________________________________________________________________________\n",
      "batch_normalization_2 (BatchNor (None, 256)          1024        dense_4[0][0]                    \n",
      "__________________________________________________________________________________________________\n",
      "activation_2 (Activation)       (None, 256)          0           batch_normalization_2[0][0]      \n",
      "__________________________________________________________________________________________________\n",
      "dense_5 (Dense)                 (None, 12)           3084        activation_2[0][0]               \n",
      "==================================================================================================\n",
      "Total params: 3,190,796\n",
      "Trainable params: 3,190,284\n",
      "Non-trainable params: 512\n",
      "__________________________________________________________________________________________________\n"
     ]
    }
   ],
   "source": [
    "from tensorflow.keras import layers\n",
    "\n",
    "input_tensor = layers.Input(shape=(130, 126))\n",
    "\n",
    "x = layers.Conv1D(32, 9, padding='same', activation='relu')(input_tensor)\n",
    "x = layers.Conv1D(32, 9, padding='same', activation='relu')(x)\n",
    "skip_1 = layers.MaxPool1D()(x)\n",
    "\n",
    "x = layers.Conv1D(64, 9, padding='same', activation='relu')(skip_1)\n",
    "x = layers.Conv1D(64, 9, padding='same', activation='relu')(x)\n",
    "x = tf.concat([x, skip_1], -1)\n",
    "skip_2 = layers.MaxPool1D()(x)\n",
    "\n",
    "x = layers.Conv1D(128, 9, padding='same', activation='relu')(skip_2)\n",
    "x = layers.Conv1D(128, 9, padding='same', activation='relu')(x)\n",
    "x = layers.Conv1D(128, 9, padding='same', activation='relu')(x)\n",
    "x = tf.concat([x, skip_2], -1)\n",
    "skip_3 = layers.MaxPool1D()(x)\n",
    "\n",
    "x = layers.Conv1D(256, 9, padding='same', activation='relu')(skip_3)\n",
    "x = layers.Conv1D(256, 9, padding='same', activation='relu')(x)\n",
    "x = layers.Conv1D(256, 9, padding='same', activation='relu')(x)\n",
    "x = tf.concat([x, skip_3], -1)\n",
    "x = layers.MaxPool1D()(x)\n",
    "x = layers.Dropout(0.3)(x)\n",
    "\n",
    "x = layers.Flatten()(x)\n",
    "x = layers.Dense(256)(x)\n",
    "x = layers.BatchNormalization()(x)\n",
    "x = layers.Activation('relu')(x)\n",
    "\n",
    "output_tensor = layers.Dense(12)(x)\n",
    "\n",
    "model_spec_skip = tf.keras.Model(input_tensor, output_tensor)\n",
    "\n",
    "model_spec_skip.summary()"
   ]
  },
  {
   "cell_type": "markdown",
   "id": "regulation-today",
   "metadata": {},
   "source": [
    "      예제에서 진행한 skip-connection을 추가해줍니다."
   ]
  },
  {
   "cell_type": "code",
   "execution_count": 23,
   "id": "entitled-prague",
   "metadata": {},
   "outputs": [
    {
     "name": "stdout",
     "output_type": "stream",
     "text": [
      "Epoch 1/20\n",
      "1418/1423 [============================>.] - ETA: 0s - loss: 1.0633 - acc: 0.6407\n",
      "Epoch 00001: val_acc improved from -inf to 0.75198, saving model to best_1D_skip_model.h5\n",
      "1423/1423 [==============================] - 11s 7ms/step - loss: 1.0621 - acc: 0.6411 - val_loss: 0.7269 - val_acc: 0.7520\n",
      "Epoch 2/20\n",
      "1422/1423 [============================>.] - ETA: 0s - loss: 0.6097 - acc: 0.7957\n",
      "Epoch 00002: val_acc improved from 0.75198 to 0.82496, saving model to best_1D_skip_model.h5\n",
      "1423/1423 [==============================] - 10s 7ms/step - loss: 0.6095 - acc: 0.7957 - val_loss: 0.5088 - val_acc: 0.8250\n",
      "Epoch 3/20\n",
      "1420/1423 [============================>.] - ETA: 0s - loss: 0.4327 - acc: 0.8563\n",
      "Epoch 00003: val_acc improved from 0.82496 to 0.86313, saving model to best_1D_skip_model.h5\n",
      "1423/1423 [==============================] - 12s 8ms/step - loss: 0.4323 - acc: 0.8565 - val_loss: 0.4177 - val_acc: 0.8631\n",
      "Epoch 4/20\n",
      "1417/1423 [============================>.] - ETA: 0s - loss: 0.3299 - acc: 0.8902\n",
      "Epoch 00004: val_acc improved from 0.86313 to 0.87896, saving model to best_1D_skip_model.h5\n",
      "1423/1423 [==============================] - 11s 8ms/step - loss: 0.3297 - acc: 0.8902 - val_loss: 0.3687 - val_acc: 0.8790\n",
      "Epoch 5/20\n",
      "1420/1423 [============================>.] - ETA: 0s - loss: 0.2566 - acc: 0.9160\n",
      "Epoch 00005: val_acc improved from 0.87896 to 0.89221, saving model to best_1D_skip_model.h5\n",
      "1423/1423 [==============================] - 11s 8ms/step - loss: 0.2565 - acc: 0.9161 - val_loss: 0.3113 - val_acc: 0.8922\n",
      "Epoch 6/20\n",
      "1417/1423 [============================>.] - ETA: 0s - loss: 0.2111 - acc: 0.9304\n",
      "Epoch 00006: val_acc improved from 0.89221 to 0.90941, saving model to best_1D_skip_model.h5\n",
      "1423/1423 [==============================] - 11s 8ms/step - loss: 0.2112 - acc: 0.9304 - val_loss: 0.2802 - val_acc: 0.9094\n",
      "Epoch 7/20\n",
      "1418/1423 [============================>.] - ETA: 0s - loss: 0.1726 - acc: 0.9433\n",
      "Epoch 00007: val_acc did not improve from 0.90941\n",
      "1423/1423 [==============================] - 10s 7ms/step - loss: 0.1727 - acc: 0.9432 - val_loss: 0.2942 - val_acc: 0.9064\n",
      "Epoch 8/20\n",
      "1421/1423 [============================>.] - ETA: 0s - loss: 0.1463 - acc: 0.9518\n",
      "Epoch 00008: val_acc improved from 0.90941 to 0.91159, saving model to best_1D_skip_model.h5\n",
      "1423/1423 [==============================] - 10s 7ms/step - loss: 0.1464 - acc: 0.9517 - val_loss: 0.2709 - val_acc: 0.9116\n",
      "Epoch 9/20\n",
      "1420/1423 [============================>.] - ETA: 0s - loss: 0.1283 - acc: 0.9574\n",
      "Epoch 00009: val_acc improved from 0.91159 to 0.91297, saving model to best_1D_skip_model.h5\n",
      "1423/1423 [==============================] - 10s 7ms/step - loss: 0.1284 - acc: 0.9574 - val_loss: 0.2852 - val_acc: 0.9130\n",
      "Epoch 10/20\n",
      "1417/1423 [============================>.] - ETA: 0s - loss: 0.1165 - acc: 0.9613\n",
      "Epoch 00010: val_acc improved from 0.91297 to 0.92108, saving model to best_1D_skip_model.h5\n",
      "1423/1423 [==============================] - 10s 7ms/step - loss: 0.1165 - acc: 0.9613 - val_loss: 0.2470 - val_acc: 0.9211\n",
      "Epoch 11/20\n",
      "1419/1423 [============================>.] - ETA: 0s - loss: 0.1029 - acc: 0.9657\n",
      "Epoch 00011: val_acc improved from 0.92108 to 0.92326, saving model to best_1D_skip_model.h5\n",
      "1423/1423 [==============================] - 11s 7ms/step - loss: 0.1030 - acc: 0.9657 - val_loss: 0.2446 - val_acc: 0.9233\n",
      "Epoch 12/20\n",
      "1417/1423 [============================>.] - ETA: 0s - loss: 0.0948 - acc: 0.9677\n",
      "Epoch 00012: val_acc improved from 0.92326 to 0.92662, saving model to best_1D_skip_model.h5\n",
      "1423/1423 [==============================] - 11s 8ms/step - loss: 0.0948 - acc: 0.9677 - val_loss: 0.2452 - val_acc: 0.9266\n",
      "Epoch 13/20\n",
      "1420/1423 [============================>.] - ETA: 0s - loss: 0.0883 - acc: 0.9707\n",
      "Epoch 00013: val_acc improved from 0.92662 to 0.92998, saving model to best_1D_skip_model.h5\n",
      "1423/1423 [==============================] - 10s 7ms/step - loss: 0.0884 - acc: 0.9707 - val_loss: 0.2330 - val_acc: 0.9300\n",
      "Epoch 14/20\n",
      "1421/1423 [============================>.] - ETA: 0s - loss: 0.0837 - acc: 0.9711\n",
      "Epoch 00014: val_acc did not improve from 0.92998\n",
      "1423/1423 [==============================] - 10s 7ms/step - loss: 0.0837 - acc: 0.9711 - val_loss: 0.2662 - val_acc: 0.9233\n",
      "Epoch 15/20\n",
      "1422/1423 [============================>.] - ETA: 0s - loss: 0.0774 - acc: 0.9735\n",
      "Epoch 00015: val_acc improved from 0.92998 to 0.93335, saving model to best_1D_skip_model.h5\n",
      "1423/1423 [==============================] - 10s 7ms/step - loss: 0.0773 - acc: 0.9735 - val_loss: 0.2382 - val_acc: 0.9333\n",
      "Epoch 16/20\n",
      "1419/1423 [============================>.] - ETA: 0s - loss: 0.0795 - acc: 0.9726\n",
      "Epoch 00016: val_acc improved from 0.93335 to 0.93552, saving model to best_1D_skip_model.h5\n",
      "1423/1423 [==============================] - 11s 7ms/step - loss: 0.0795 - acc: 0.9726 - val_loss: 0.2153 - val_acc: 0.9355\n",
      "Epoch 17/20\n",
      "1416/1423 [============================>.] - ETA: 0s - loss: 0.0703 - acc: 0.9761\n",
      "Epoch 00017: val_acc did not improve from 0.93552\n",
      "1423/1423 [==============================] - 10s 7ms/step - loss: 0.0704 - acc: 0.9761 - val_loss: 0.2457 - val_acc: 0.9337\n",
      "Epoch 18/20\n",
      "1422/1423 [============================>.] - ETA: 0s - loss: 0.0682 - acc: 0.9766\n",
      "Epoch 00018: val_acc improved from 0.93552 to 0.94383, saving model to best_1D_skip_model.h5\n",
      "1423/1423 [==============================] - 11s 7ms/step - loss: 0.0682 - acc: 0.9765 - val_loss: 0.2029 - val_acc: 0.9438\n",
      "Epoch 19/20\n",
      "1416/1423 [============================>.] - ETA: 0s - loss: 0.0638 - acc: 0.9784\n",
      "Epoch 00019: val_acc did not improve from 0.94383\n",
      "1423/1423 [==============================] - 10s 7ms/step - loss: 0.0639 - acc: 0.9784 - val_loss: 0.2029 - val_acc: 0.9432\n",
      "Epoch 20/20\n",
      "1419/1423 [============================>.] - ETA: 0s - loss: 0.0624 - acc: 0.9787\n",
      "Epoch 00020: val_acc did not improve from 0.94383\n",
      "1423/1423 [==============================] - 10s 7ms/step - loss: 0.0623 - acc: 0.9787 - val_loss: 0.2252 - val_acc: 0.9377\n"
     ]
    }
   ],
   "source": [
    "from tensorflow.keras.models import load_model\n",
    "from tensorflow.keras.callbacks import EarlyStopping, ModelCheckpoint\n",
    "\n",
    "optimizer=tf.keras.optimizers.Adam(1e-4)\n",
    "model_spec_skip.compile(loss=tf.keras.losses.CategoricalCrossentropy(from_logits=True),\n",
    "             optimizer=optimizer,\n",
    "             metrics=['acc'])\n",
    "\n",
    "es = EarlyStopping(monitor='val_loss', mode='min', verbose=1, patience=4)\n",
    "mc = ModelCheckpoint('best_1D_skip_model.h5', monitor='val_acc', mode='max', verbose=1, save_best_only=True)\n",
    "\n",
    "history_spec_skip = model_spec_skip.fit(train_dataset, epochs=max_epochs,\n",
    "                    steps_per_epoch=len(train_spec) // batch_size,\n",
    "                    validation_data=test_dataset,\n",
    "                    validation_steps=len(test_spec) // batch_size,\n",
    "                    callbacks=[es, mc]\n",
    "                    )"
   ]
  },
  {
   "cell_type": "markdown",
   "id": "developing-guide",
   "metadata": {},
   "source": [
    "      학습결과 Epoch가 18번일때 멈췄고 val loss는 약 20% val accuaracy는 94%였습니다. "
   ]
  },
  {
   "cell_type": "code",
   "execution_count": 24,
   "id": "moral-klein",
   "metadata": {},
   "outputs": [
    {
     "data": {
      "image/png": "[encoded data removed]",
      "text/plain": [
       "<Figure size 576x576 with 2 Axes>"
      ]
     },
     "metadata": {
      "needs_background": "light"
     },
     "output_type": "display_data"
    }
   ],
   "source": [
    "import matplotlib.pyplot as plt\n",
    "\n",
    "acc = history_spec_skip.history['acc']\n",
    "val_acc = history_spec_skip.history['val_acc']\n",
    "\n",
    "loss=history_spec_skip.history['loss']\n",
    "val_loss=history_spec_skip.history['val_loss']\n",
    "\n",
    "epochs_range = range(len(acc))\n",
    "\n",
    "plt.figure(figsize=(8, 8))\n",
    "plt.subplot(1, 2, 1)\n",
    "plt.plot(epochs_range, acc, label='Training Accuracy')\n",
    "plt.plot(epochs_range, val_acc, label='Validation Accuracy')\n",
    "plt.legend(loc='lower right')\n",
    "plt.title('Training and Validation Accuracy')\n",
    "\n",
    "plt.subplot(1, 2, 2)\n",
    "plt.plot(epochs_range, loss, label='Training Loss')\n",
    "plt.plot(epochs_range, val_loss, label='Validation Loss')\n",
    "plt.legend(loc='upper right')\n",
    "plt.title('Training and Validation Loss')\n",
    "plt.show()"
   ]
  },
  {
   "cell_type": "markdown",
   "id": "killing-worcester",
   "metadata": {},
   "source": [
    "      성능 그래프를 확인하자 1-D CNN 모델과 크나큰 변화는 없었습니다."
   ]
  },
  {
   "cell_type": "code",
   "execution_count": 25,
   "id": "hazardous-richards",
   "metadata": {},
   "outputs": [
    {
     "name": "stdout",
     "output_type": "stream",
     "text": [
      "159/159 [==============================] - 5s 29ms/step - loss: 0.2028 - acc: 0.9439\n",
      "\n",
      " 테스트 정확도: 0.9439\n"
     ]
    }
   ],
   "source": [
    "loaded_model = load_model('best_1D_skip_model.h5')\n",
    "print(\"\\n 테스트 정확도: %.4f\" % (loaded_model.evaluate(test_dataset)[1]))"
   ]
  },
  {
   "cell_type": "markdown",
   "id": "intensive-laser",
   "metadata": {},
   "source": [
    "      성능은 약 94%로 1-D CNN 보단 약 0.2% 증가했습니다."
   ]
  },
  {
   "cell_type": "code",
   "execution_count": 26,
   "id": "phantom-diploma",
   "metadata": {},
   "outputs": [],
   "source": [
    "del model_spec_skip\n",
    "del history_spec_skip"
   ]
  },
  {
   "cell_type": "markdown",
   "id": "ahead-footage",
   "metadata": {},
   "source": [
    "## 4) 2-D CNN  Skip-Connection model"
   ]
  },
  {
   "cell_type": "code",
   "execution_count": 28,
   "id": "proof-cable",
   "metadata": {},
   "outputs": [
    {
     "name": "stdout",
     "output_type": "stream",
     "text": [
      "Model: \"model_3\"\n",
      "__________________________________________________________________________________________________\n",
      "Layer (type)                    Output Shape         Param #     Connected to                     \n",
      "==================================================================================================\n",
      "input_5 (InputLayer)            [(None, 130, 126, 1) 0                                            \n",
      "__________________________________________________________________________________________________\n",
      "conv2d_14 (Conv2D)              (None, 130, 126, 32) 2624        input_5[0][0]                    \n",
      "__________________________________________________________________________________________________\n",
      "conv2d_15 (Conv2D)              (None, 130, 126, 32) 82976       conv2d_14[0][0]                  \n",
      "__________________________________________________________________________________________________\n",
      "max_pooling2d_5 (MaxPooling2D)  (None, 65, 63, 32)   0           conv2d_15[0][0]                  \n",
      "__________________________________________________________________________________________________\n",
      "conv2d_16 (Conv2D)              (None, 65, 63, 64)   165952      max_pooling2d_5[0][0]            \n",
      "__________________________________________________________________________________________________\n",
      "conv2d_17 (Conv2D)              (None, 65, 63, 64)   331840      conv2d_16[0][0]                  \n",
      "__________________________________________________________________________________________________\n",
      "tf_op_layer_concat_4 (TensorFlo [(None, 65, 63, 96)] 0           conv2d_17[0][0]                  \n",
      "                                                                 max_pooling2d_5[0][0]            \n",
      "__________________________________________________________________________________________________\n",
      "max_pooling2d_6 (MaxPooling2D)  (None, 32, 31, 96)   0           tf_op_layer_concat_4[0][0]       \n",
      "__________________________________________________________________________________________________\n",
      "conv2d_18 (Conv2D)              (None, 32, 31, 128)  995456      max_pooling2d_6[0][0]            \n",
      "__________________________________________________________________________________________________\n",
      "conv2d_19 (Conv2D)              (None, 32, 31, 128)  1327232     conv2d_18[0][0]                  \n",
      "__________________________________________________________________________________________________\n",
      "conv2d_20 (Conv2D)              (None, 32, 31, 128)  1327232     conv2d_19[0][0]                  \n",
      "__________________________________________________________________________________________________\n",
      "tf_op_layer_concat_5 (TensorFlo [(None, 32, 31, 224) 0           conv2d_20[0][0]                  \n",
      "                                                                 max_pooling2d_6[0][0]            \n",
      "__________________________________________________________________________________________________\n",
      "max_pooling2d_7 (MaxPooling2D)  (None, 16, 15, 224)  0           tf_op_layer_concat_5[0][0]       \n",
      "__________________________________________________________________________________________________\n",
      "conv2d_21 (Conv2D)              (None, 16, 15, 256)  4645120     max_pooling2d_7[0][0]            \n",
      "__________________________________________________________________________________________________\n",
      "conv2d_22 (Conv2D)              (None, 16, 15, 256)  5308672     conv2d_21[0][0]                  \n",
      "__________________________________________________________________________________________________\n",
      "conv2d_23 (Conv2D)              (None, 16, 15, 256)  5308672     conv2d_22[0][0]                  \n",
      "__________________________________________________________________________________________________\n",
      "tf_op_layer_concat_6 (TensorFlo [(None, 16, 15, 480) 0           conv2d_23[0][0]                  \n",
      "                                                                 max_pooling2d_7[0][0]            \n",
      "__________________________________________________________________________________________________\n",
      "max_pooling2d_8 (MaxPooling2D)  (None, 8, 7, 480)    0           tf_op_layer_concat_6[0][0]       \n",
      "__________________________________________________________________________________________________\n",
      "dropout_3 (Dropout)             (None, 8, 7, 480)    0           max_pooling2d_8[0][0]            \n",
      "__________________________________________________________________________________________________\n",
      "flatten_3 (Flatten)             (None, 26880)        0           dropout_3[0][0]                  \n",
      "__________________________________________________________________________________________________\n",
      "dense_6 (Dense)                 (None, 256)          6881536     flatten_3[0][0]                  \n",
      "__________________________________________________________________________________________________\n",
      "batch_normalization_3 (BatchNor (None, 256)          1024        dense_6[0][0]                    \n",
      "__________________________________________________________________________________________________\n",
      "activation_3 (Activation)       (None, 256)          0           batch_normalization_3[0][0]      \n",
      "__________________________________________________________________________________________________\n",
      "dense_7 (Dense)                 (None, 12)           3084        activation_3[0][0]               \n",
      "==================================================================================================\n",
      "Total params: 26,381,420\n",
      "Trainable params: 26,380,908\n",
      "Non-trainable params: 512\n",
      "__________________________________________________________________________________________________\n"
     ]
    }
   ],
   "source": [
    "from tensorflow.keras import layers\n",
    "\n",
    "input_tensor = layers.Input(shape=(130, 126, 1))\n",
    "\n",
    "x = layers.Conv2D(32, 9, padding='same', activation='relu')(input_tensor)\n",
    "x = layers.Conv2D(32, 9, padding='same', activation='relu')(x)\n",
    "skip_1 = layers.MaxPool2D()(x)\n",
    "\n",
    "x = layers.Conv2D(64, 9, padding='same', activation='relu')(skip_1)\n",
    "x = layers.Conv2D(64, 9, padding='same', activation='relu')(x)\n",
    "x = tf.concat([x, skip_1], -1)\n",
    "skip_2 = layers.MaxPool2D()(x)\n",
    "\n",
    "x = layers.Conv2D(128, 9, padding='same', activation='relu')(skip_2)\n",
    "x = layers.Conv2D(128, 9, padding='same', activation='relu')(x)\n",
    "x = layers.Conv2D(128, 9, padding='same', activation='relu')(x)\n",
    "x = tf.concat([x, skip_2], -1)\n",
    "skip_3 = layers.MaxPool2D()(x)\n",
    "\n",
    "x = layers.Conv2D(256, 9, padding='same', activation='relu')(skip_3)\n",
    "x = layers.Conv2D(256, 9, padding='same', activation='relu')(x)\n",
    "x = layers.Conv2D(256, 9, padding='same', activation='relu')(x)\n",
    "x = tf.concat([x, skip_3], -1)\n",
    "x = layers.MaxPool2D()(x)\n",
    "x = layers.Dropout(0.3)(x)\n",
    "\n",
    "x = layers.Flatten()(x)\n",
    "x = layers.Dense(256)(x)\n",
    "x = layers.BatchNormalization()(x)\n",
    "x = layers.Activation('relu')(x)\n",
    "\n",
    "output_tensor = layers.Dense(12)(x)\n",
    "\n",
    "model_spec_skip_2D = tf.keras.Model(input_tensor, output_tensor)\n",
    "\n",
    "model_spec_skip_2D.summary()"
   ]
  },
  {
   "cell_type": "markdown",
   "id": "coordinate-europe",
   "metadata": {},
   "source": [
    "      마지막으로 2-D CNN 모델에 Skip-Connection을 추가해줬습니다."
   ]
  },
  {
   "cell_type": "code",
   "execution_count": 30,
   "id": "absolute-stability",
   "metadata": {},
   "outputs": [
    {
     "name": "stdout",
     "output_type": "stream",
     "text": [
      "Epoch 1/20\n",
      "1423/1423 [==============================] - ETA: 0s - loss: 0.7003 - acc: 0.7729\n",
      "Epoch 00001: val_acc improved from -inf to 0.91614, saving model to best_2D_skip_model.h5\n",
      "1423/1423 [==============================] - 216s 152ms/step - loss: 0.7003 - acc: 0.7729 - val_loss: 0.2876 - val_acc: 0.9161\n",
      "Epoch 2/20\n",
      "1423/1423 [==============================] - ETA: 0s - loss: 0.2079 - acc: 0.9341\n",
      "Epoch 00002: val_acc improved from 0.91614 to 0.94620, saving model to best_2D_skip_model.h5\n",
      "1423/1423 [==============================] - 217s 152ms/step - loss: 0.2079 - acc: 0.9341 - val_loss: 0.1685 - val_acc: 0.9462\n",
      "Epoch 3/20\n",
      "1423/1423 [==============================] - ETA: 0s - loss: 0.1367 - acc: 0.9563\n",
      "Epoch 00003: val_acc improved from 0.94620 to 0.95708, saving model to best_2D_skip_model.h5\n",
      "1423/1423 [==============================] - 216s 151ms/step - loss: 0.1367 - acc: 0.9563 - val_loss: 0.1325 - val_acc: 0.9571\n",
      "Epoch 4/20\n",
      "1423/1423 [==============================] - ETA: 0s - loss: 0.1014 - acc: 0.9674\n",
      "Epoch 00004: val_acc did not improve from 0.95708\n",
      "1423/1423 [==============================] - 215s 151ms/step - loss: 0.1014 - acc: 0.9674 - val_loss: 0.1307 - val_acc: 0.9539\n",
      "Epoch 5/20\n",
      "1423/1423 [==============================] - ETA: 0s - loss: 0.0863 - acc: 0.9716\n",
      "Epoch 00005: val_acc improved from 0.95708 to 0.95847, saving model to best_2D_skip_model.h5\n",
      "1423/1423 [==============================] - 216s 152ms/step - loss: 0.0863 - acc: 0.9716 - val_loss: 0.1228 - val_acc: 0.9585\n",
      "Epoch 6/20\n",
      "1423/1423 [==============================] - ETA: 0s - loss: 0.0735 - acc: 0.9750\n",
      "Epoch 00006: val_acc improved from 0.95847 to 0.96341, saving model to best_2D_skip_model.h5\n",
      "1423/1423 [==============================] - 216s 152ms/step - loss: 0.0735 - acc: 0.9750 - val_loss: 0.1055 - val_acc: 0.9634\n",
      "Epoch 7/20\n",
      "1423/1423 [==============================] - ETA: 0s - loss: 0.0630 - acc: 0.9789\n",
      "Epoch 00007: val_acc improved from 0.96341 to 0.96618, saving model to best_2D_skip_model.h5\n",
      "1423/1423 [==============================] - 216s 152ms/step - loss: 0.0630 - acc: 0.9789 - val_loss: 0.0992 - val_acc: 0.9662\n",
      "Epoch 8/20\n",
      "1423/1423 [==============================] - ETA: 0s - loss: 0.0557 - acc: 0.9816\n",
      "Epoch 00008: val_acc did not improve from 0.96618\n",
      "1423/1423 [==============================] - 215s 151ms/step - loss: 0.0557 - acc: 0.9816 - val_loss: 0.1203 - val_acc: 0.9602\n",
      "Epoch 9/20\n",
      "1423/1423 [==============================] - ETA: 0s - loss: 0.0521 - acc: 0.9826\n",
      "Epoch 00009: val_acc improved from 0.96618 to 0.96994, saving model to best_2D_skip_model.h5\n",
      "1423/1423 [==============================] - 216s 152ms/step - loss: 0.0521 - acc: 0.9826 - val_loss: 0.0886 - val_acc: 0.9699\n",
      "Epoch 10/20\n",
      "1423/1423 [==============================] - ETA: 0s - loss: 0.0429 - acc: 0.9858\n",
      "Epoch 00010: val_acc improved from 0.96994 to 0.97053, saving model to best_2D_skip_model.h5\n",
      "1423/1423 [==============================] - 219s 154ms/step - loss: 0.0429 - acc: 0.9858 - val_loss: 0.0850 - val_acc: 0.9705\n",
      "Epoch 11/20\n",
      "1423/1423 [==============================] - ETA: 0s - loss: 0.0417 - acc: 0.9863\n",
      "Epoch 00011: val_acc did not improve from 0.97053\n",
      "1423/1423 [==============================] - 218s 153ms/step - loss: 0.0417 - acc: 0.9863 - val_loss: 0.1116 - val_acc: 0.9658\n",
      "Epoch 12/20\n",
      "1423/1423 [==============================] - ETA: 0s - loss: 0.0356 - acc: 0.9880\n",
      "Epoch 00012: val_acc improved from 0.97053 to 0.97508, saving model to best_2D_skip_model.h5\n",
      "1423/1423 [==============================] - 219s 154ms/step - loss: 0.0356 - acc: 0.9880 - val_loss: 0.0892 - val_acc: 0.9751\n",
      "Epoch 13/20\n",
      "1423/1423 [==============================] - ETA: 0s - loss: 0.0369 - acc: 0.9883\n",
      "Epoch 00013: val_acc did not improve from 0.97508\n",
      "1423/1423 [==============================] - 217s 153ms/step - loss: 0.0369 - acc: 0.9883 - val_loss: 0.1172 - val_acc: 0.9691\n",
      "Epoch 14/20\n",
      "1423/1423 [==============================] - ETA: 0s - loss: 0.0302 - acc: 0.9904\n",
      "Epoch 00014: val_acc did not improve from 0.97508\n",
      "1423/1423 [==============================] - 217s 152ms/step - loss: 0.0302 - acc: 0.9904 - val_loss: 0.1016 - val_acc: 0.9715\n",
      "Epoch 00014: early stopping\n"
     ]
    }
   ],
   "source": [
    "from tensorflow.keras.models import load_model\n",
    "from tensorflow.keras.callbacks import EarlyStopping, ModelCheckpoint\n",
    "\n",
    "optimizer=tf.keras.optimizers.Adam(1e-4)\n",
    "model_spec_skip_2D.compile(loss=tf.keras.losses.CategoricalCrossentropy(from_logits=True),\n",
    "             optimizer=optimizer,\n",
    "             metrics=['acc'])\n",
    "\n",
    "es = EarlyStopping(monitor='val_loss', mode='min', verbose=1, patience=4)\n",
    "mc = ModelCheckpoint('best_2D_skip_model.h5', monitor='val_acc', mode='max', verbose=1, save_best_only=True)\n",
    "\n",
    "history_spec_skip_2D = model_spec_skip_2D.fit(train_dataset, epochs=max_epochs,\n",
    "                    steps_per_epoch=len(train_spec) // batch_size,\n",
    "                    validation_data=test_dataset,\n",
    "                    validation_steps=len(test_spec) // batch_size,\n",
    "                    callbacks=[es, mc]\n",
    "                    )"
   ]
  },
  {
   "cell_type": "markdown",
   "id": "elder-blood",
   "metadata": {},
   "source": [
    "      학습결과 epoch는 14번쨰에 멈췄고 12번일 째 모델에 저장되었습니다. val loss는 9%이고 val accuaracy는 약 98%입니다. "
   ]
  },
  {
   "cell_type": "code",
   "execution_count": 31,
   "id": "prepared-leader",
   "metadata": {},
   "outputs": [
    {
     "data": {
      "image/png": "[encoded data removed]",
      "text/plain": [
       "<Figure size 576x576 with 2 Axes>"
      ]
     },
     "metadata": {
      "needs_background": "light"
     },
     "output_type": "display_data"
    }
   ],
   "source": [
    "import matplotlib.pyplot as plt\n",
    "\n",
    "acc = history_spec_skip_2D.history['acc']\n",
    "val_acc = history_spec_skip_2D.history['val_acc']\n",
    "\n",
    "loss=history_spec_skip_2D.history['loss']\n",
    "val_loss=history_spec_skip_2D.history['val_loss']\n",
    "\n",
    "epochs_range = range(len(acc))\n",
    "\n",
    "plt.figure(figsize=(8, 8))\n",
    "plt.subplot(1, 2, 1)\n",
    "plt.plot(epochs_range, acc, label='Training Accuracy')\n",
    "plt.plot(epochs_range, val_acc, label='Validation Accuracy')\n",
    "plt.legend(loc='lower right')\n",
    "plt.title('Training and Validation Accuracy')\n",
    "\n",
    "plt.subplot(1, 2, 2)\n",
    "plt.plot(epochs_range, loss, label='Training Loss')\n",
    "plt.plot(epochs_range, val_loss, label='Validation Loss')\n",
    "plt.legend(loc='upper right')\n",
    "plt.title('Training and Validation Loss')\n",
    "plt.show()"
   ]
  },
  {
   "cell_type": "markdown",
   "id": "global-universe",
   "metadata": {},
   "source": [
    "      학습모델의 validation그래프가 훨씬 트레이닝 그래프에 붙어서 가는것을 확인할 수 있었습니다."
   ]
  },
  {
   "cell_type": "code",
   "execution_count": 32,
   "id": "significant-warner",
   "metadata": {},
   "outputs": [
    {
     "name": "stdout",
     "output_type": "stream",
     "text": [
      "159/159 [==============================] - 10s 62ms/step - loss: 0.0891 - acc: 0.9751\n",
      "\n",
      " 테스트 정확도: 0.9751\n"
     ]
    }
   ],
   "source": [
    "loaded_model = load_model('best_2D_skip_model.h5')\n",
    "print(\"\\n 테스트 정확도: %.4f\" % (loaded_model.evaluate(test_dataset)[1]))"
   ]
  },
  {
   "cell_type": "markdown",
   "id": "informed-round",
   "metadata": {},
   "source": [
    "      정확도도 약 98%로 가장 높았습니다."
   ]
  },
  {
   "cell_type": "markdown",
   "id": "important-martial",
   "metadata": {},
   "source": [
    "********************************************************************************************************\n",
    "## 3. 평가와 결론"
   ]
  },
  {
   "cell_type": "markdown",
   "id": "latter-vampire",
   "metadata": {},
   "source": [
    "      전체적으로 모두 성능이 나쁘진 않았지만 Spectrogram의 데이터가 2D로 구성되어있는 점에서 2-d CNN 모델이 더 높은 성능을 보인거같습니다. 그리고 Skip connection도 2-d에서 더 월등한 성능의 향상을 보여줬습니다. \n",
    "      \n",
    "      이번 프로젝트의 경우 데이터의 Spectrogram처리하는 것이랑 메모리 확보가 더 중요한 프로젝트였던것같습니다."
   ]
  }
 ],
 "metadata": {
  "kernelspec": {
   "display_name": "aiffel",
   "language": "python",
   "name": "aiffel"
  },
  "language_info": {
   "codemirror_mode": {
    "name": "ipython",
    "version": 3
   },
   "file_extension": ".py",
   "mimetype": "text/x-python",
   "name": "python",
   "nbconvert_exporter": "python",
   "pygments_lexer": "ipython3",
   "version": "3.7.9"
  }
 },
 "nbformat": 4,
 "nbformat_minor": 5
}
