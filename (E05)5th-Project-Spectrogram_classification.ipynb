{
 "cells": [
  {
   "cell_type": "code",
   "execution_count": null,
   "id": "attempted-shell",
   "metadata": {},
   "outputs": [],
   "source": [
    "import numpy as np\n",
    "import os\n",
    "\n",
    "data_path = os.getenv(\"HOME\")+'/aiffel/speech_recognition/data/speech_wav_8000.npz'\n",
    "speech_data = np.load(data_path)"
   ]
  },
  {
   "cell_type": "code",
   "execution_count": null,
   "id": "hindu-heading",
   "metadata": {},
   "outputs": [],
   "source": [
    "print(\"Wave data shape : \", speech_data[\"wav_vals\"].shape)\n",
    "print(\"Label data shape : \", speech_data[\"label_vals\"].shape)"
   ]
  },
  {
   "cell_type": "code",
   "execution_count": null,
   "id": "monetary-burlington",
   "metadata": {},
   "outputs": [],
   "source": [
    "speech_data1 = []\n",
    "speech_data1.append(speech_data[\"wav_vals\"][0:10000])\n",
    "speech_data1 = np.array(speech_data1)"
   ]
  },
  {
   "cell_type": "code",
   "execution_count": null,
   "id": "imported-neighbor",
   "metadata": {},
   "outputs": [],
   "source": [
    "import librosa\n",
    "\n",
    "def wav2spec(wav, fft_size=258): # spectrogram shape을 맞추기위해서 size 변형\n",
    "    D = np.abs(librosa.stft(wav, n_fft=fft_size))\n",
    "    return D"
   ]
  },
  {
   "cell_type": "code",
   "execution_count": null,
   "id": "entertaining-saudi",
   "metadata": {},
   "outputs": [],
   "source": [
    "spec_data=[]\n",
    "n = 0\n",
    "\n",
    "while n != 10000:\n",
    "    print(n)\n",
    "    spec_data.append(wav2spec(speech_data[\"wav_vals\"][n]))\n",
    "    n += 1\n",
    "    \n",
    "spec_data = np.array(spec_data)\n",
    "print(spec_data.shape)"
   ]
  },
  {
   "cell_type": "code",
   "execution_count": null,
   "id": "eastern-experiment",
   "metadata": {},
   "outputs": [],
   "source": []
  }
 ],
 "metadata": {
  "kernelspec": {
   "display_name": "aiffel",
   "language": "python",
   "name": "aiffel"
  },
  "language_info": {
   "codemirror_mode": {
    "name": "ipython",
    "version": 3
   },
   "file_extension": ".py",
   "mimetype": "text/x-python",
   "name": "python",
   "nbconvert_exporter": "python",
   "pygments_lexer": "ipython3",
   "version": "3.7.9"
  }
 },
 "nbformat": 4,
 "nbformat_minor": 5
}
